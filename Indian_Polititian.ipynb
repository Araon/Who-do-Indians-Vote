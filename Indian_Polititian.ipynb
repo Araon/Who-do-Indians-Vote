{
  "nbformat": 4,
  "nbformat_minor": 0,
  "metadata": {
    "colab": {
      "name": "Indian_Polititian.ipynb",
      "provenance": [],
      "mount_file_id": "17Y_XybGR1fdfk5rqzmXfhQxstJc3LxVb",
      "authorship_tag": "ABX9TyNmakzL6ZkTfA9buqTUH5Qe",
      "include_colab_link": true
    },
    "kernelspec": {
      "display_name": "Python 3",
      "name": "python3"
    },
    "language_info": {
      "name": "python"
    }
  },
  "cells": [
    {
      "cell_type": "markdown",
      "metadata": {
        "id": "view-in-github",
        "colab_type": "text"
      },
      "source": [
        "<a href=\"https://colab.research.google.com/github/Araon/Who-do-Indians-Vote/blob/master/Indian_Polititian.ipynb\" target=\"_parent\"><img src=\"https://colab.research.google.com/assets/colab-badge.svg\" alt=\"Open In Colab\"/></a>"
      ]
    },
    {
      "cell_type": "markdown",
      "metadata": {
        "id": "4ah48jRgU3ZS"
      },
      "source": [
        "**The Analysis here is based on the election to Lok Sabha (The General Elections) for the year 2019**\n",
        "\n",
        "\n",
        "---\n",
        "\n",
        "\n",
        "Members of Lok Sabha (House of the People) or the lower house of India's Parliament are elected by being voted upon by all adult citizens of India, from a set of candidates who stand in their respective constituencies. Every adult citizen of India can vote only in their constituency. Candidates who win the Lok Sabha elections are called 'Member of Parliament' and hold their seats for five years or until the body is dissolved by the President on the advice of the council of ministers. The house meets in the Lok Sabha Chambers of the Sansad Bhavan in New Delhi, on matters relating to creation of new laws, removing or improving the existing laws that affect all citizens of India. "
      ]
    },
    {
      "cell_type": "code",
      "metadata": {
        "id": "GF9QcRJ1VLbG"
      },
      "source": [
        "\n",
        "import numpy as np # linear algebra\n",
        "import pandas as pd # data processing\n",
        "import os, sys\n",
        "from collections import defaultdict\n",
        "from urllib.request import urlopen\n",
        "import json\n",
        "%matplotlib inline\n",
        "import matplotlib.pyplot as plt # Ploting data\n",
        "import plotly.express as px \n",
        "import plotly.graph_objects as go"
      ],
      "execution_count": 37,
      "outputs": []
    },
    {
      "cell_type": "markdown",
      "metadata": {
        "id": "rgC7YXvWoIW1"
      },
      "source": [
        "Reading the dataset"
      ]
    },
    {
      "cell_type": "code",
      "metadata": {
        "colab": {
          "base_uri": "https://localhost:8080/",
          "height": 397
        },
        "id": "FOYws9UxVGqP",
        "outputId": "4ec2057e-f02d-433d-c95b-e9e789f807c5"
      },
      "source": [
        "vote=pd.read_csv('/content/drive/MyDrive/LS_2.0.csv')\n",
        "vote.head()"
      ],
      "execution_count": 38,
      "outputs": [
        {
          "output_type": "execute_result",
          "data": {
            "text/html": [
              "<div>\n",
              "<style scoped>\n",
              "    .dataframe tbody tr th:only-of-type {\n",
              "        vertical-align: middle;\n",
              "    }\n",
              "\n",
              "    .dataframe tbody tr th {\n",
              "        vertical-align: top;\n",
              "    }\n",
              "\n",
              "    .dataframe thead th {\n",
              "        text-align: right;\n",
              "    }\n",
              "</style>\n",
              "<table border=\"1\" class=\"dataframe\">\n",
              "  <thead>\n",
              "    <tr style=\"text-align: right;\">\n",
              "      <th></th>\n",
              "      <th>STATE</th>\n",
              "      <th>CONSTITUENCY</th>\n",
              "      <th>NAME</th>\n",
              "      <th>WINNER</th>\n",
              "      <th>PARTY</th>\n",
              "      <th>SYMBOL</th>\n",
              "      <th>GENDER</th>\n",
              "      <th>CRIMINAL\\nCASES</th>\n",
              "      <th>AGE</th>\n",
              "      <th>CATEGORY</th>\n",
              "      <th>EDUCATION</th>\n",
              "      <th>ASSETS</th>\n",
              "      <th>LIABILITIES</th>\n",
              "      <th>GENERAL\\nVOTES</th>\n",
              "      <th>POSTAL\\nVOTES</th>\n",
              "      <th>TOTAL\\nVOTES</th>\n",
              "      <th>OVER TOTAL ELECTORS \\nIN CONSTITUENCY</th>\n",
              "      <th>OVER TOTAL VOTES POLLED \\nIN CONSTITUENCY</th>\n",
              "      <th>TOTAL ELECTORS</th>\n",
              "    </tr>\n",
              "  </thead>\n",
              "  <tbody>\n",
              "    <tr>\n",
              "      <th>0</th>\n",
              "      <td>Telangana</td>\n",
              "      <td>ADILABAD</td>\n",
              "      <td>SOYAM BAPU RAO</td>\n",
              "      <td>1</td>\n",
              "      <td>BJP</td>\n",
              "      <td>Lotus</td>\n",
              "      <td>MALE</td>\n",
              "      <td>52</td>\n",
              "      <td>52.0</td>\n",
              "      <td>ST</td>\n",
              "      <td>12th Pass</td>\n",
              "      <td>Rs 30,99,414\\n ~ 30 Lacs+</td>\n",
              "      <td>Rs 2,31,450\\n ~ 2 Lacs+</td>\n",
              "      <td>376892</td>\n",
              "      <td>482</td>\n",
              "      <td>377374</td>\n",
              "      <td>25.330684</td>\n",
              "      <td>35.468248</td>\n",
              "      <td>1489790</td>\n",
              "    </tr>\n",
              "    <tr>\n",
              "      <th>1</th>\n",
              "      <td>Telangana</td>\n",
              "      <td>ADILABAD</td>\n",
              "      <td>Godam Nagesh</td>\n",
              "      <td>0</td>\n",
              "      <td>TRS</td>\n",
              "      <td>Car</td>\n",
              "      <td>MALE</td>\n",
              "      <td>0</td>\n",
              "      <td>54.0</td>\n",
              "      <td>ST</td>\n",
              "      <td>Post Graduate</td>\n",
              "      <td>Rs 1,84,77,888\\n ~ 1 Crore+</td>\n",
              "      <td>Rs 8,47,000\\n ~ 8 Lacs+</td>\n",
              "      <td>318665</td>\n",
              "      <td>149</td>\n",
              "      <td>318814</td>\n",
              "      <td>21.399929</td>\n",
              "      <td>29.964370</td>\n",
              "      <td>1489790</td>\n",
              "    </tr>\n",
              "    <tr>\n",
              "      <th>2</th>\n",
              "      <td>Telangana</td>\n",
              "      <td>ADILABAD</td>\n",
              "      <td>RATHOD RAMESH</td>\n",
              "      <td>0</td>\n",
              "      <td>INC</td>\n",
              "      <td>Hand</td>\n",
              "      <td>MALE</td>\n",
              "      <td>3</td>\n",
              "      <td>52.0</td>\n",
              "      <td>ST</td>\n",
              "      <td>12th Pass</td>\n",
              "      <td>Rs 3,64,91,000\\n ~ 3 Crore+</td>\n",
              "      <td>Rs 1,53,00,000\\n ~ 1 Crore+</td>\n",
              "      <td>314057</td>\n",
              "      <td>181</td>\n",
              "      <td>314238</td>\n",
              "      <td>21.092771</td>\n",
              "      <td>29.534285</td>\n",
              "      <td>1489790</td>\n",
              "    </tr>\n",
              "    <tr>\n",
              "      <th>3</th>\n",
              "      <td>Telangana</td>\n",
              "      <td>ADILABAD</td>\n",
              "      <td>NOTA</td>\n",
              "      <td>0</td>\n",
              "      <td>NOTA</td>\n",
              "      <td>NaN</td>\n",
              "      <td>NaN</td>\n",
              "      <td>NaN</td>\n",
              "      <td>NaN</td>\n",
              "      <td>NaN</td>\n",
              "      <td>NaN</td>\n",
              "      <td>NaN</td>\n",
              "      <td>NaN</td>\n",
              "      <td>13030</td>\n",
              "      <td>6</td>\n",
              "      <td>13036</td>\n",
              "      <td>0.875023</td>\n",
              "      <td>1.225214</td>\n",
              "      <td>1489790</td>\n",
              "    </tr>\n",
              "    <tr>\n",
              "      <th>4</th>\n",
              "      <td>Uttar Pradesh</td>\n",
              "      <td>AGRA</td>\n",
              "      <td>Satyapal Singh Baghel</td>\n",
              "      <td>1</td>\n",
              "      <td>BJP</td>\n",
              "      <td>Lotus</td>\n",
              "      <td>MALE</td>\n",
              "      <td>5</td>\n",
              "      <td>58.0</td>\n",
              "      <td>SC</td>\n",
              "      <td>Doctorate</td>\n",
              "      <td>Rs 7,42,74,036\\n ~ 7 Crore+</td>\n",
              "      <td>Rs 86,06,522\\n ~ 86 Lacs+</td>\n",
              "      <td>644459</td>\n",
              "      <td>2416</td>\n",
              "      <td>646875</td>\n",
              "      <td>33.383823</td>\n",
              "      <td>56.464615</td>\n",
              "      <td>1937690</td>\n",
              "    </tr>\n",
              "  </tbody>\n",
              "</table>\n",
              "</div>"
            ],
            "text/plain": [
              "           STATE  ... TOTAL ELECTORS\n",
              "0      Telangana  ...        1489790\n",
              "1      Telangana  ...        1489790\n",
              "2      Telangana  ...        1489790\n",
              "3      Telangana  ...        1489790\n",
              "4  Uttar Pradesh  ...        1937690\n",
              "\n",
              "[5 rows x 19 columns]"
            ]
          },
          "metadata": {
            "tags": []
          },
          "execution_count": 38
        }
      ]
    },
    {
      "cell_type": "markdown",
      "metadata": {
        "id": "KW7RvbgToNbR"
      },
      "source": [
        "Identifying the null values on the colume"
      ]
    },
    {
      "cell_type": "code",
      "metadata": {
        "colab": {
          "base_uri": "https://localhost:8080/"
        },
        "id": "MPCqgx__VvHs",
        "outputId": "75bcdfd6-8136-46d2-d664-89e948da2712"
      },
      "source": [
        "vote.isnull().sum() # "
      ],
      "execution_count": 39,
      "outputs": [
        {
          "output_type": "execute_result",
          "data": {
            "text/plain": [
              "STATE                                          0\n",
              "CONSTITUENCY                                   0\n",
              "NAME                                           0\n",
              "WINNER                                         0\n",
              "PARTY                                          0\n",
              "SYMBOL                                       245\n",
              "GENDER                                       245\n",
              "CRIMINAL\\nCASES                              245\n",
              "AGE                                          245\n",
              "CATEGORY                                     245\n",
              "EDUCATION                                    245\n",
              "ASSETS                                       245\n",
              "LIABILITIES                                  245\n",
              "GENERAL\\nVOTES                                 0\n",
              "POSTAL\\nVOTES                                  0\n",
              "TOTAL\\nVOTES                                   0\n",
              "OVER TOTAL ELECTORS \\nIN CONSTITUENCY          0\n",
              "OVER TOTAL VOTES POLLED \\nIN CONSTITUENCY      0\n",
              "TOTAL ELECTORS                                 0\n",
              "dtype: int64"
            ]
          },
          "metadata": {
            "tags": []
          },
          "execution_count": 39
        }
      ]
    },
    {
      "cell_type": "markdown",
      "metadata": {
        "id": "rGI_HPm6oRjO"
      },
      "source": [
        "Identifying the null entries in the data"
      ]
    },
    {
      "cell_type": "code",
      "metadata": {
        "colab": {
          "base_uri": "https://localhost:8080/"
        },
        "id": "SxfbqyhJV7MD",
        "outputId": "aa113b54-e76a-4b2e-9273-9f49e561db40"
      },
      "source": [
        "vote[vote.SYMBOL.isnull()==True]['NAME'].unique()"
      ],
      "execution_count": 40,
      "outputs": [
        {
          "output_type": "execute_result",
          "data": {
            "text/plain": [
              "array(['NOTA'], dtype=object)"
            ]
          },
          "metadata": {
            "tags": []
          },
          "execution_count": 40
        }
      ]
    },
    {
      "cell_type": "code",
      "metadata": {
        "colab": {
          "base_uri": "https://localhost:8080/",
          "height": 328
        },
        "id": "KfCT90kHWC7C",
        "outputId": "ca48702b-5700-4c9c-fab2-f2f6a1d698e7"
      },
      "source": [
        "'''\n",
        "Cleaning up the Assets and Liabilities columns\n",
        "'''\n",
        "def value_cleaner(x):\n",
        "    try:\n",
        "        str_temp = (x.split('Rs')[1].split('\\n')[0].strip())\n",
        "        str_temp_2 = ''\n",
        "        for i in str_temp.split(\",\"):\n",
        "            str_temp_2 = str_temp_2+i\n",
        "        return str_temp_2\n",
        "    except:\n",
        "        x = 0\n",
        "        return x\n",
        "vote['ASSETS'] = vote['ASSETS'].apply((value_cleaner))\n",
        "vote['LIABILITIES'] = vote['LIABILITIES'].apply((value_cleaner))\n",
        "vote.head()"
      ],
      "execution_count": 41,
      "outputs": [
        {
          "output_type": "execute_result",
          "data": {
            "text/html": [
              "<div>\n",
              "<style scoped>\n",
              "    .dataframe tbody tr th:only-of-type {\n",
              "        vertical-align: middle;\n",
              "    }\n",
              "\n",
              "    .dataframe tbody tr th {\n",
              "        vertical-align: top;\n",
              "    }\n",
              "\n",
              "    .dataframe thead th {\n",
              "        text-align: right;\n",
              "    }\n",
              "</style>\n",
              "<table border=\"1\" class=\"dataframe\">\n",
              "  <thead>\n",
              "    <tr style=\"text-align: right;\">\n",
              "      <th></th>\n",
              "      <th>STATE</th>\n",
              "      <th>CONSTITUENCY</th>\n",
              "      <th>NAME</th>\n",
              "      <th>WINNER</th>\n",
              "      <th>PARTY</th>\n",
              "      <th>SYMBOL</th>\n",
              "      <th>GENDER</th>\n",
              "      <th>CRIMINAL\\nCASES</th>\n",
              "      <th>AGE</th>\n",
              "      <th>CATEGORY</th>\n",
              "      <th>EDUCATION</th>\n",
              "      <th>ASSETS</th>\n",
              "      <th>LIABILITIES</th>\n",
              "      <th>GENERAL\\nVOTES</th>\n",
              "      <th>POSTAL\\nVOTES</th>\n",
              "      <th>TOTAL\\nVOTES</th>\n",
              "      <th>OVER TOTAL ELECTORS \\nIN CONSTITUENCY</th>\n",
              "      <th>OVER TOTAL VOTES POLLED \\nIN CONSTITUENCY</th>\n",
              "      <th>TOTAL ELECTORS</th>\n",
              "    </tr>\n",
              "  </thead>\n",
              "  <tbody>\n",
              "    <tr>\n",
              "      <th>0</th>\n",
              "      <td>Telangana</td>\n",
              "      <td>ADILABAD</td>\n",
              "      <td>SOYAM BAPU RAO</td>\n",
              "      <td>1</td>\n",
              "      <td>BJP</td>\n",
              "      <td>Lotus</td>\n",
              "      <td>MALE</td>\n",
              "      <td>52</td>\n",
              "      <td>52.0</td>\n",
              "      <td>ST</td>\n",
              "      <td>12th Pass</td>\n",
              "      <td>3099414</td>\n",
              "      <td>231450</td>\n",
              "      <td>376892</td>\n",
              "      <td>482</td>\n",
              "      <td>377374</td>\n",
              "      <td>25.330684</td>\n",
              "      <td>35.468248</td>\n",
              "      <td>1489790</td>\n",
              "    </tr>\n",
              "    <tr>\n",
              "      <th>1</th>\n",
              "      <td>Telangana</td>\n",
              "      <td>ADILABAD</td>\n",
              "      <td>Godam Nagesh</td>\n",
              "      <td>0</td>\n",
              "      <td>TRS</td>\n",
              "      <td>Car</td>\n",
              "      <td>MALE</td>\n",
              "      <td>0</td>\n",
              "      <td>54.0</td>\n",
              "      <td>ST</td>\n",
              "      <td>Post Graduate</td>\n",
              "      <td>18477888</td>\n",
              "      <td>847000</td>\n",
              "      <td>318665</td>\n",
              "      <td>149</td>\n",
              "      <td>318814</td>\n",
              "      <td>21.399929</td>\n",
              "      <td>29.964370</td>\n",
              "      <td>1489790</td>\n",
              "    </tr>\n",
              "    <tr>\n",
              "      <th>2</th>\n",
              "      <td>Telangana</td>\n",
              "      <td>ADILABAD</td>\n",
              "      <td>RATHOD RAMESH</td>\n",
              "      <td>0</td>\n",
              "      <td>INC</td>\n",
              "      <td>Hand</td>\n",
              "      <td>MALE</td>\n",
              "      <td>3</td>\n",
              "      <td>52.0</td>\n",
              "      <td>ST</td>\n",
              "      <td>12th Pass</td>\n",
              "      <td>36491000</td>\n",
              "      <td>15300000</td>\n",
              "      <td>314057</td>\n",
              "      <td>181</td>\n",
              "      <td>314238</td>\n",
              "      <td>21.092771</td>\n",
              "      <td>29.534285</td>\n",
              "      <td>1489790</td>\n",
              "    </tr>\n",
              "    <tr>\n",
              "      <th>3</th>\n",
              "      <td>Telangana</td>\n",
              "      <td>ADILABAD</td>\n",
              "      <td>NOTA</td>\n",
              "      <td>0</td>\n",
              "      <td>NOTA</td>\n",
              "      <td>NaN</td>\n",
              "      <td>NaN</td>\n",
              "      <td>NaN</td>\n",
              "      <td>NaN</td>\n",
              "      <td>NaN</td>\n",
              "      <td>NaN</td>\n",
              "      <td>0</td>\n",
              "      <td>0</td>\n",
              "      <td>13030</td>\n",
              "      <td>6</td>\n",
              "      <td>13036</td>\n",
              "      <td>0.875023</td>\n",
              "      <td>1.225214</td>\n",
              "      <td>1489790</td>\n",
              "    </tr>\n",
              "    <tr>\n",
              "      <th>4</th>\n",
              "      <td>Uttar Pradesh</td>\n",
              "      <td>AGRA</td>\n",
              "      <td>Satyapal Singh Baghel</td>\n",
              "      <td>1</td>\n",
              "      <td>BJP</td>\n",
              "      <td>Lotus</td>\n",
              "      <td>MALE</td>\n",
              "      <td>5</td>\n",
              "      <td>58.0</td>\n",
              "      <td>SC</td>\n",
              "      <td>Doctorate</td>\n",
              "      <td>74274036</td>\n",
              "      <td>8606522</td>\n",
              "      <td>644459</td>\n",
              "      <td>2416</td>\n",
              "      <td>646875</td>\n",
              "      <td>33.383823</td>\n",
              "      <td>56.464615</td>\n",
              "      <td>1937690</td>\n",
              "    </tr>\n",
              "  </tbody>\n",
              "</table>\n",
              "</div>"
            ],
            "text/plain": [
              "           STATE  ... TOTAL ELECTORS\n",
              "0      Telangana  ...        1489790\n",
              "1      Telangana  ...        1489790\n",
              "2      Telangana  ...        1489790\n",
              "3      Telangana  ...        1489790\n",
              "4  Uttar Pradesh  ...        1937690\n",
              "\n",
              "[5 rows x 19 columns]"
            ]
          },
          "metadata": {
            "tags": []
          },
          "execution_count": 41
        }
      ]
    },
    {
      "cell_type": "markdown",
      "metadata": {
        "id": "rNemZ12roUQd"
      },
      "source": [
        "Renaming the columns to aid in data cleanup"
      ]
    },
    {
      "cell_type": "code",
      "metadata": {
        "colab": {
          "base_uri": "https://localhost:8080/",
          "height": 293
        },
        "id": "MdRGgpNBWfhB",
        "outputId": "df3c1c25-e0c3-4b92-af68-9a0b3a4e4413"
      },
      "source": [
        "\n",
        "vote.rename(columns={\"CRIMINAL\\nCASES\": \"CRIMINAL CASES\", \"GENERAL\\nVOTES\": \"GENERAL VOTES\", \"POSTAL\\nVOTES\": \"POSTAL VOTES\",\"TOTAL\\nVOTES\": \"TOTAL VOTES\",\"OVER TOTAL ELECTORS \\nIN CONSTITUENCY\": \"OVER TOTAL ELECTORS IN CONSTITUENCY\",\"OVER TOTAL VOTES POLLED \\nIN CONSTITUENCY\": \"OVER TOTAL VOTES POLLED IN CONSTITUENCY\"}, inplace=True)\n",
        "vote.head()"
      ],
      "execution_count": 42,
      "outputs": [
        {
          "output_type": "execute_result",
          "data": {
            "text/html": [
              "<div>\n",
              "<style scoped>\n",
              "    .dataframe tbody tr th:only-of-type {\n",
              "        vertical-align: middle;\n",
              "    }\n",
              "\n",
              "    .dataframe tbody tr th {\n",
              "        vertical-align: top;\n",
              "    }\n",
              "\n",
              "    .dataframe thead th {\n",
              "        text-align: right;\n",
              "    }\n",
              "</style>\n",
              "<table border=\"1\" class=\"dataframe\">\n",
              "  <thead>\n",
              "    <tr style=\"text-align: right;\">\n",
              "      <th></th>\n",
              "      <th>STATE</th>\n",
              "      <th>CONSTITUENCY</th>\n",
              "      <th>NAME</th>\n",
              "      <th>WINNER</th>\n",
              "      <th>PARTY</th>\n",
              "      <th>SYMBOL</th>\n",
              "      <th>GENDER</th>\n",
              "      <th>CRIMINAL CASES</th>\n",
              "      <th>AGE</th>\n",
              "      <th>CATEGORY</th>\n",
              "      <th>EDUCATION</th>\n",
              "      <th>ASSETS</th>\n",
              "      <th>LIABILITIES</th>\n",
              "      <th>GENERAL VOTES</th>\n",
              "      <th>POSTAL VOTES</th>\n",
              "      <th>TOTAL VOTES</th>\n",
              "      <th>OVER TOTAL ELECTORS IN CONSTITUENCY</th>\n",
              "      <th>OVER TOTAL VOTES POLLED IN CONSTITUENCY</th>\n",
              "      <th>TOTAL ELECTORS</th>\n",
              "    </tr>\n",
              "  </thead>\n",
              "  <tbody>\n",
              "    <tr>\n",
              "      <th>0</th>\n",
              "      <td>Telangana</td>\n",
              "      <td>ADILABAD</td>\n",
              "      <td>SOYAM BAPU RAO</td>\n",
              "      <td>1</td>\n",
              "      <td>BJP</td>\n",
              "      <td>Lotus</td>\n",
              "      <td>MALE</td>\n",
              "      <td>52</td>\n",
              "      <td>52.0</td>\n",
              "      <td>ST</td>\n",
              "      <td>12th Pass</td>\n",
              "      <td>3099414</td>\n",
              "      <td>231450</td>\n",
              "      <td>376892</td>\n",
              "      <td>482</td>\n",
              "      <td>377374</td>\n",
              "      <td>25.330684</td>\n",
              "      <td>35.468248</td>\n",
              "      <td>1489790</td>\n",
              "    </tr>\n",
              "    <tr>\n",
              "      <th>1</th>\n",
              "      <td>Telangana</td>\n",
              "      <td>ADILABAD</td>\n",
              "      <td>Godam Nagesh</td>\n",
              "      <td>0</td>\n",
              "      <td>TRS</td>\n",
              "      <td>Car</td>\n",
              "      <td>MALE</td>\n",
              "      <td>0</td>\n",
              "      <td>54.0</td>\n",
              "      <td>ST</td>\n",
              "      <td>Post Graduate</td>\n",
              "      <td>18477888</td>\n",
              "      <td>847000</td>\n",
              "      <td>318665</td>\n",
              "      <td>149</td>\n",
              "      <td>318814</td>\n",
              "      <td>21.399929</td>\n",
              "      <td>29.964370</td>\n",
              "      <td>1489790</td>\n",
              "    </tr>\n",
              "    <tr>\n",
              "      <th>2</th>\n",
              "      <td>Telangana</td>\n",
              "      <td>ADILABAD</td>\n",
              "      <td>RATHOD RAMESH</td>\n",
              "      <td>0</td>\n",
              "      <td>INC</td>\n",
              "      <td>Hand</td>\n",
              "      <td>MALE</td>\n",
              "      <td>3</td>\n",
              "      <td>52.0</td>\n",
              "      <td>ST</td>\n",
              "      <td>12th Pass</td>\n",
              "      <td>36491000</td>\n",
              "      <td>15300000</td>\n",
              "      <td>314057</td>\n",
              "      <td>181</td>\n",
              "      <td>314238</td>\n",
              "      <td>21.092771</td>\n",
              "      <td>29.534285</td>\n",
              "      <td>1489790</td>\n",
              "    </tr>\n",
              "    <tr>\n",
              "      <th>3</th>\n",
              "      <td>Telangana</td>\n",
              "      <td>ADILABAD</td>\n",
              "      <td>NOTA</td>\n",
              "      <td>0</td>\n",
              "      <td>NOTA</td>\n",
              "      <td>NaN</td>\n",
              "      <td>NaN</td>\n",
              "      <td>NaN</td>\n",
              "      <td>NaN</td>\n",
              "      <td>NaN</td>\n",
              "      <td>NaN</td>\n",
              "      <td>0</td>\n",
              "      <td>0</td>\n",
              "      <td>13030</td>\n",
              "      <td>6</td>\n",
              "      <td>13036</td>\n",
              "      <td>0.875023</td>\n",
              "      <td>1.225214</td>\n",
              "      <td>1489790</td>\n",
              "    </tr>\n",
              "    <tr>\n",
              "      <th>4</th>\n",
              "      <td>Uttar Pradesh</td>\n",
              "      <td>AGRA</td>\n",
              "      <td>Satyapal Singh Baghel</td>\n",
              "      <td>1</td>\n",
              "      <td>BJP</td>\n",
              "      <td>Lotus</td>\n",
              "      <td>MALE</td>\n",
              "      <td>5</td>\n",
              "      <td>58.0</td>\n",
              "      <td>SC</td>\n",
              "      <td>Doctorate</td>\n",
              "      <td>74274036</td>\n",
              "      <td>8606522</td>\n",
              "      <td>644459</td>\n",
              "      <td>2416</td>\n",
              "      <td>646875</td>\n",
              "      <td>33.383823</td>\n",
              "      <td>56.464615</td>\n",
              "      <td>1937690</td>\n",
              "    </tr>\n",
              "  </tbody>\n",
              "</table>\n",
              "</div>"
            ],
            "text/plain": [
              "           STATE  ... TOTAL ELECTORS\n",
              "0      Telangana  ...        1489790\n",
              "1      Telangana  ...        1489790\n",
              "2      Telangana  ...        1489790\n",
              "3      Telangana  ...        1489790\n",
              "4  Uttar Pradesh  ...        1937690\n",
              "\n",
              "[5 rows x 19 columns]"
            ]
          },
          "metadata": {
            "tags": []
          },
          "execution_count": 42
        }
      ]
    },
    {
      "cell_type": "markdown",
      "metadata": {
        "id": "uAeflcqVoaIW"
      },
      "source": [
        "Cleaning up the Educational Qualification of the election contestants"
      ]
    },
    {
      "cell_type": "code",
      "metadata": {
        "colab": {
          "base_uri": "https://localhost:8080/"
        },
        "id": "fHNiEHTWWg6E",
        "outputId": "c6581732-c18a-4328-d12b-02ac6517958e"
      },
      "source": [
        "vote.EDUCATION.replace({'Post Graduate\\n':'Post Graduate'},inplace=True)\n",
        "vote.EDUCATION.unique()"
      ],
      "execution_count": 43,
      "outputs": [
        {
          "output_type": "execute_result",
          "data": {
            "text/plain": [
              "array(['12th Pass', 'Post Graduate', nan, 'Doctorate', 'Graduate',\n",
              "       'Others', '10th Pass', '8th Pass', 'Graduate Professional',\n",
              "       'Literate', 'Illiterate', '5th Pass', 'Not Available'],\n",
              "      dtype=object)"
            ]
          },
          "metadata": {
            "tags": []
          },
          "execution_count": 43
        }
      ]
    },
    {
      "cell_type": "markdown",
      "metadata": {
        "id": "7f_631EvopLM"
      },
      "source": [
        "Identifying the Data Type of the columns"
      ]
    },
    {
      "cell_type": "code",
      "metadata": {
        "colab": {
          "base_uri": "https://localhost:8080/"
        },
        "id": "Heu0qq2UW9rQ",
        "outputId": "033bc785-e3bc-40b5-bbee-3ecceba29284"
      },
      "source": [
        "vote.dtypes"
      ],
      "execution_count": 44,
      "outputs": [
        {
          "output_type": "execute_result",
          "data": {
            "text/plain": [
              "STATE                                       object\n",
              "CONSTITUENCY                                object\n",
              "NAME                                        object\n",
              "WINNER                                       int64\n",
              "PARTY                                       object\n",
              "SYMBOL                                      object\n",
              "GENDER                                      object\n",
              "CRIMINAL CASES                              object\n",
              "AGE                                        float64\n",
              "CATEGORY                                    object\n",
              "EDUCATION                                   object\n",
              "ASSETS                                      object\n",
              "LIABILITIES                                 object\n",
              "GENERAL VOTES                                int64\n",
              "POSTAL VOTES                                 int64\n",
              "TOTAL VOTES                                  int64\n",
              "OVER TOTAL ELECTORS IN CONSTITUENCY        float64\n",
              "OVER TOTAL VOTES POLLED IN CONSTITUENCY    float64\n",
              "TOTAL ELECTORS                               int64\n",
              "dtype: object"
            ]
          },
          "metadata": {
            "tags": []
          },
          "execution_count": 44
        }
      ]
    },
    {
      "cell_type": "markdown",
      "metadata": {
        "id": "seICGj60ol5l"
      },
      "source": [
        "Identifying Discrepancy entries in the columns\n"
      ]
    },
    {
      "cell_type": "code",
      "metadata": {
        "colab": {
          "base_uri": "https://localhost:8080/",
          "height": 328
        },
        "id": "7yoESOcVXA-Y",
        "outputId": "30de597d-2972-4a59-ddea-c8d106479342"
      },
      "source": [
        "vote[vote['CRIMINAL CASES']=='Not Available'].head()"
      ],
      "execution_count": 45,
      "outputs": [
        {
          "output_type": "execute_result",
          "data": {
            "text/html": [
              "<div>\n",
              "<style scoped>\n",
              "    .dataframe tbody tr th:only-of-type {\n",
              "        vertical-align: middle;\n",
              "    }\n",
              "\n",
              "    .dataframe tbody tr th {\n",
              "        vertical-align: top;\n",
              "    }\n",
              "\n",
              "    .dataframe thead th {\n",
              "        text-align: right;\n",
              "    }\n",
              "</style>\n",
              "<table border=\"1\" class=\"dataframe\">\n",
              "  <thead>\n",
              "    <tr style=\"text-align: right;\">\n",
              "      <th></th>\n",
              "      <th>STATE</th>\n",
              "      <th>CONSTITUENCY</th>\n",
              "      <th>NAME</th>\n",
              "      <th>WINNER</th>\n",
              "      <th>PARTY</th>\n",
              "      <th>SYMBOL</th>\n",
              "      <th>GENDER</th>\n",
              "      <th>CRIMINAL CASES</th>\n",
              "      <th>AGE</th>\n",
              "      <th>CATEGORY</th>\n",
              "      <th>EDUCATION</th>\n",
              "      <th>ASSETS</th>\n",
              "      <th>LIABILITIES</th>\n",
              "      <th>GENERAL VOTES</th>\n",
              "      <th>POSTAL VOTES</th>\n",
              "      <th>TOTAL VOTES</th>\n",
              "      <th>OVER TOTAL ELECTORS IN CONSTITUENCY</th>\n",
              "      <th>OVER TOTAL VOTES POLLED IN CONSTITUENCY</th>\n",
              "      <th>TOTAL ELECTORS</th>\n",
              "    </tr>\n",
              "  </thead>\n",
              "  <tbody>\n",
              "    <tr>\n",
              "      <th>468</th>\n",
              "      <td>Bihar</td>\n",
              "      <td>BUXAR</td>\n",
              "      <td>Ramchandra Singh Yadav</td>\n",
              "      <td>0</td>\n",
              "      <td>IND</td>\n",
              "      <td>Almirah</td>\n",
              "      <td>MALE</td>\n",
              "      <td>Not Available</td>\n",
              "      <td>42.0</td>\n",
              "      <td>GENERAL</td>\n",
              "      <td>Not Available</td>\n",
              "      <td>0</td>\n",
              "      <td>0</td>\n",
              "      <td>10721</td>\n",
              "      <td>9</td>\n",
              "      <td>10730</td>\n",
              "      <td>0.586540</td>\n",
              "      <td>1.087175</td>\n",
              "      <td>1829373</td>\n",
              "    </tr>\n",
              "    <tr>\n",
              "      <th>532</th>\n",
              "      <td>Tamil Nadu</td>\n",
              "      <td>CHIDAMBARAM</td>\n",
              "      <td>SIVAJOTHI M</td>\n",
              "      <td>0</td>\n",
              "      <td>NTK</td>\n",
              "      <td>Ganna Kisan</td>\n",
              "      <td>MALE</td>\n",
              "      <td>Not Available</td>\n",
              "      <td>35.0</td>\n",
              "      <td>SC</td>\n",
              "      <td>Not Available</td>\n",
              "      <td>0</td>\n",
              "      <td>0</td>\n",
              "      <td>37329</td>\n",
              "      <td>142</td>\n",
              "      <td>37471</td>\n",
              "      <td>2.531445</td>\n",
              "      <td>3.246331</td>\n",
              "      <td>1480222</td>\n",
              "    </tr>\n",
              "    <tr>\n",
              "      <th>612</th>\n",
              "      <td>Uttar Pradesh</td>\n",
              "      <td>DEORIA</td>\n",
              "      <td>BINOD KUMAR JAISWAL</td>\n",
              "      <td>0</td>\n",
              "      <td>BSP</td>\n",
              "      <td>Elephant</td>\n",
              "      <td>MALE</td>\n",
              "      <td>Not Available</td>\n",
              "      <td>56.0</td>\n",
              "      <td>GENERAL</td>\n",
              "      <td>Not Available</td>\n",
              "      <td>0</td>\n",
              "      <td>0</td>\n",
              "      <td>327728</td>\n",
              "      <td>2985</td>\n",
              "      <td>330713</td>\n",
              "      <td>18.852693</td>\n",
              "      <td>32.563441</td>\n",
              "      <td>1754195</td>\n",
              "    </tr>\n",
              "    <tr>\n",
              "      <th>613</th>\n",
              "      <td>Uttar Pradesh</td>\n",
              "      <td>DEORIA</td>\n",
              "      <td>NIYAZ AHMED</td>\n",
              "      <td>0</td>\n",
              "      <td>INC</td>\n",
              "      <td>Hand</td>\n",
              "      <td>MALE</td>\n",
              "      <td>Not Available</td>\n",
              "      <td>57.0</td>\n",
              "      <td>GENERAL</td>\n",
              "      <td>Not Available</td>\n",
              "      <td>0</td>\n",
              "      <td>0</td>\n",
              "      <td>50749</td>\n",
              "      <td>307</td>\n",
              "      <td>51056</td>\n",
              "      <td>2.910509</td>\n",
              "      <td>5.027196</td>\n",
              "      <td>1754195</td>\n",
              "    </tr>\n",
              "    <tr>\n",
              "      <th>654</th>\n",
              "      <td>Tamil Nadu</td>\n",
              "      <td>DINDIGUL</td>\n",
              "      <td>JOTHIMUTHU, K.</td>\n",
              "      <td>0</td>\n",
              "      <td>PMK</td>\n",
              "      <td>Mango</td>\n",
              "      <td>MALE</td>\n",
              "      <td>Not Available</td>\n",
              "      <td>48.0</td>\n",
              "      <td>GENERAL</td>\n",
              "      <td>Not Available</td>\n",
              "      <td>0</td>\n",
              "      <td>0</td>\n",
              "      <td>206782</td>\n",
              "      <td>769</td>\n",
              "      <td>207551</td>\n",
              "      <td>13.460896</td>\n",
              "      <td>17.877979</td>\n",
              "      <td>1541881</td>\n",
              "    </tr>\n",
              "  </tbody>\n",
              "</table>\n",
              "</div>"
            ],
            "text/plain": [
              "             STATE  ... TOTAL ELECTORS\n",
              "468          Bihar  ...        1829373\n",
              "532     Tamil Nadu  ...        1480222\n",
              "612  Uttar Pradesh  ...        1754195\n",
              "613  Uttar Pradesh  ...        1754195\n",
              "654     Tamil Nadu  ...        1541881\n",
              "\n",
              "[5 rows x 19 columns]"
            ]
          },
          "metadata": {
            "tags": []
          },
          "execution_count": 45
        }
      ]
    },
    {
      "cell_type": "markdown",
      "metadata": {
        "id": "bZi-D406o7FN"
      },
      "source": [
        "Updating the data types for the analysis"
      ]
    },
    {
      "cell_type": "code",
      "metadata": {
        "id": "Rx5wPnEUXHpo"
      },
      "source": [
        "vote['ASSETS']=pd.to_numeric(vote['ASSETS'])\n",
        "vote['LIABILITIES']=pd.to_numeric(vote['LIABILITIES'])\n",
        "vote['CRIMINAL CASES'].replace({np.NaN:0})\n",
        "vote['CRIMINAL CASES'] = pd.to_numeric(vote['CRIMINAL CASES'], errors='coerce').fillna(0).astype(np.int64)"
      ],
      "execution_count": 46,
      "outputs": []
    },
    {
      "cell_type": "markdown",
      "metadata": {
        "id": "MAdviKosqV9Z"
      },
      "source": [
        "# Which party has won the most constituencies?\n"
      ]
    },
    {
      "cell_type": "code",
      "metadata": {
        "colab": {
          "base_uri": "https://localhost:8080/",
          "height": 542
        },
        "id": "ZilrIHT8qQ6-",
        "outputId": "286642d9-135b-45a8-bb92-5ec6c4e1ab15"
      },
      "source": [
        "part_win=vote.groupby('PARTY').apply(lambda x:x['WINNER'].sum()).reset_index(name='# Wins')\n",
        "part_win.sort_values(by='# Wins',ascending=False,inplace=True)\n",
        "top_part_win=part_win[0:15]\n",
        "fig = px.bar(top_part_win, x='PARTY', y='# Wins',\n",
        "                     color='# Wins',title='Win Counts by a Political Party in 2019')\n",
        "fig.update_layout(title_text='Win Counts by a Political Party in 2019',template='plotly_dark')\n",
        "fig.show()"
      ],
      "execution_count": 47,
      "outputs": [
        {
          "output_type": "display_data",
          "data": {
            "text/html": [
              "<html>\n",
              "<head><meta charset=\"utf-8\" /></head>\n",
              "<body>\n",
              "    <div>\n",
              "            <script src=\"https://cdnjs.cloudflare.com/ajax/libs/mathjax/2.7.5/MathJax.js?config=TeX-AMS-MML_SVG\"></script><script type=\"text/javascript\">if (window.MathJax) {MathJax.Hub.Config({SVG: {font: \"STIX-Web\"}});}</script>\n",
              "                <script type=\"text/javascript\">window.PlotlyConfig = {MathJaxConfig: 'local'};</script>\n",
              "        <script src=\"https://cdn.plot.ly/plotly-latest.min.js\"></script>    \n",
              "            <div id=\"a92d12c8-2b84-4bd9-add9-92783fcfa0f6\" class=\"plotly-graph-div\" style=\"height:525px; width:100%;\"></div>\n",
              "            <script type=\"text/javascript\">\n",
              "                \n",
              "                    window.PLOTLYENV=window.PLOTLYENV || {};\n",
              "                    \n",
              "                if (document.getElementById(\"a92d12c8-2b84-4bd9-add9-92783fcfa0f6\")) {\n",
              "                    Plotly.newPlot(\n",
              "                        'a92d12c8-2b84-4bd9-add9-92783fcfa0f6',\n",
              "                        [{\"alignmentgroup\": \"True\", \"hoverlabel\": {\"namelength\": 0}, \"hovertemplate\": \"PARTY=%{x}<br># Wins=%{marker.color}\", \"legendgroup\": \"\", \"marker\": {\"color\": [300, 52, 23, 22, 22, 18, 16, 11, 11, 9, 6, 5, 5, 5, 4], \"coloraxis\": \"coloraxis\"}, \"name\": \"\", \"offsetgroup\": \"\", \"orientation\": \"v\", \"showlegend\": false, \"textposition\": \"auto\", \"type\": \"bar\", \"x\": [\"BJP\", \"INC\", \"DMK\", \"AITC\", \"YSRCP\", \"SHS\", \"JD(U)\", \"BSP\", \"BJD\", \"TRS\", \"LJP\", \"CPI(M)\", \"NCP\", \"SP\", \"IND\"], \"xaxis\": \"x\", \"y\": [300, 52, 23, 22, 22, 18, 16, 11, 11, 9, 6, 5, 5, 5, 4], \"yaxis\": \"y\"}],\n",
              "                        {\"barmode\": \"relative\", \"coloraxis\": {\"colorbar\": {\"title\": {\"text\": \"# Wins\"}}, \"colorscale\": [[0.0, \"#0d0887\"], [0.1111111111111111, \"#46039f\"], [0.2222222222222222, \"#7201a8\"], [0.3333333333333333, \"#9c179e\"], [0.4444444444444444, \"#bd3786\"], [0.5555555555555556, \"#d8576b\"], [0.6666666666666666, \"#ed7953\"], [0.7777777777777778, \"#fb9f3a\"], [0.8888888888888888, \"#fdca26\"], [1.0, \"#f0f921\"]]}, \"legend\": {\"tracegroupgap\": 0}, \"template\": {\"data\": {\"bar\": [{\"error_x\": {\"color\": \"#f2f5fa\"}, \"error_y\": {\"color\": \"#f2f5fa\"}, \"marker\": {\"line\": {\"color\": \"rgb(17,17,17)\", \"width\": 0.5}}, \"type\": \"bar\"}], \"barpolar\": [{\"marker\": {\"line\": {\"color\": \"rgb(17,17,17)\", \"width\": 0.5}}, \"type\": \"barpolar\"}], \"carpet\": [{\"aaxis\": {\"endlinecolor\": \"#A2B1C6\", \"gridcolor\": \"#506784\", \"linecolor\": \"#506784\", \"minorgridcolor\": \"#506784\", \"startlinecolor\": \"#A2B1C6\"}, \"baxis\": {\"endlinecolor\": \"#A2B1C6\", \"gridcolor\": \"#506784\", \"linecolor\": \"#506784\", \"minorgridcolor\": \"#506784\", \"startlinecolor\": \"#A2B1C6\"}, \"type\": \"carpet\"}], \"choropleth\": [{\"colorbar\": {\"outlinewidth\": 0, \"ticks\": \"\"}, \"type\": \"choropleth\"}], \"contour\": [{\"colorbar\": {\"outlinewidth\": 0, \"ticks\": \"\"}, \"colorscale\": [[0.0, \"#0d0887\"], [0.1111111111111111, \"#46039f\"], [0.2222222222222222, \"#7201a8\"], [0.3333333333333333, \"#9c179e\"], [0.4444444444444444, \"#bd3786\"], [0.5555555555555556, \"#d8576b\"], [0.6666666666666666, \"#ed7953\"], [0.7777777777777778, \"#fb9f3a\"], [0.8888888888888888, \"#fdca26\"], [1.0, \"#f0f921\"]], \"type\": \"contour\"}], \"contourcarpet\": [{\"colorbar\": {\"outlinewidth\": 0, \"ticks\": \"\"}, \"type\": \"contourcarpet\"}], \"heatmap\": [{\"colorbar\": {\"outlinewidth\": 0, \"ticks\": \"\"}, \"colorscale\": [[0.0, \"#0d0887\"], [0.1111111111111111, \"#46039f\"], [0.2222222222222222, \"#7201a8\"], [0.3333333333333333, \"#9c179e\"], [0.4444444444444444, \"#bd3786\"], [0.5555555555555556, \"#d8576b\"], [0.6666666666666666, \"#ed7953\"], [0.7777777777777778, \"#fb9f3a\"], [0.8888888888888888, \"#fdca26\"], [1.0, \"#f0f921\"]], \"type\": \"heatmap\"}], \"heatmapgl\": [{\"colorbar\": {\"outlinewidth\": 0, \"ticks\": \"\"}, \"colorscale\": [[0.0, \"#0d0887\"], [0.1111111111111111, \"#46039f\"], [0.2222222222222222, \"#7201a8\"], [0.3333333333333333, \"#9c179e\"], [0.4444444444444444, \"#bd3786\"], [0.5555555555555556, \"#d8576b\"], [0.6666666666666666, \"#ed7953\"], [0.7777777777777778, \"#fb9f3a\"], [0.8888888888888888, \"#fdca26\"], [1.0, \"#f0f921\"]], \"type\": \"heatmapgl\"}], \"histogram\": [{\"marker\": {\"colorbar\": {\"outlinewidth\": 0, \"ticks\": \"\"}}, \"type\": \"histogram\"}], \"histogram2d\": [{\"colorbar\": {\"outlinewidth\": 0, \"ticks\": \"\"}, \"colorscale\": [[0.0, \"#0d0887\"], [0.1111111111111111, \"#46039f\"], [0.2222222222222222, \"#7201a8\"], [0.3333333333333333, \"#9c179e\"], [0.4444444444444444, \"#bd3786\"], [0.5555555555555556, \"#d8576b\"], [0.6666666666666666, \"#ed7953\"], [0.7777777777777778, \"#fb9f3a\"], [0.8888888888888888, \"#fdca26\"], [1.0, \"#f0f921\"]], \"type\": \"histogram2d\"}], \"histogram2dcontour\": [{\"colorbar\": {\"outlinewidth\": 0, \"ticks\": \"\"}, \"colorscale\": [[0.0, \"#0d0887\"], [0.1111111111111111, \"#46039f\"], [0.2222222222222222, \"#7201a8\"], [0.3333333333333333, \"#9c179e\"], [0.4444444444444444, \"#bd3786\"], [0.5555555555555556, \"#d8576b\"], [0.6666666666666666, \"#ed7953\"], [0.7777777777777778, \"#fb9f3a\"], [0.8888888888888888, \"#fdca26\"], [1.0, \"#f0f921\"]], \"type\": \"histogram2dcontour\"}], \"mesh3d\": [{\"colorbar\": {\"outlinewidth\": 0, \"ticks\": \"\"}, \"type\": \"mesh3d\"}], \"parcoords\": [{\"line\": {\"colorbar\": {\"outlinewidth\": 0, \"ticks\": \"\"}}, \"type\": \"parcoords\"}], \"pie\": [{\"automargin\": true, \"type\": \"pie\"}], \"scatter\": [{\"marker\": {\"line\": {\"color\": \"#283442\"}}, \"type\": \"scatter\"}], \"scatter3d\": [{\"line\": {\"colorbar\": {\"outlinewidth\": 0, \"ticks\": \"\"}}, \"marker\": {\"colorbar\": {\"outlinewidth\": 0, \"ticks\": \"\"}}, \"type\": \"scatter3d\"}], \"scattercarpet\": [{\"marker\": {\"colorbar\": {\"outlinewidth\": 0, \"ticks\": \"\"}}, \"type\": \"scattercarpet\"}], \"scattergeo\": [{\"marker\": {\"colorbar\": {\"outlinewidth\": 0, \"ticks\": \"\"}}, \"type\": \"scattergeo\"}], \"scattergl\": [{\"marker\": {\"line\": {\"color\": \"#283442\"}}, \"type\": \"scattergl\"}], \"scattermapbox\": [{\"marker\": {\"colorbar\": {\"outlinewidth\": 0, \"ticks\": \"\"}}, \"type\": \"scattermapbox\"}], \"scatterpolar\": [{\"marker\": {\"colorbar\": {\"outlinewidth\": 0, \"ticks\": \"\"}}, \"type\": \"scatterpolar\"}], \"scatterpolargl\": [{\"marker\": {\"colorbar\": {\"outlinewidth\": 0, \"ticks\": \"\"}}, \"type\": \"scatterpolargl\"}], \"scatterternary\": [{\"marker\": {\"colorbar\": {\"outlinewidth\": 0, \"ticks\": \"\"}}, \"type\": \"scatterternary\"}], \"surface\": [{\"colorbar\": {\"outlinewidth\": 0, \"ticks\": \"\"}, \"colorscale\": [[0.0, \"#0d0887\"], [0.1111111111111111, \"#46039f\"], [0.2222222222222222, \"#7201a8\"], [0.3333333333333333, \"#9c179e\"], [0.4444444444444444, \"#bd3786\"], [0.5555555555555556, \"#d8576b\"], [0.6666666666666666, \"#ed7953\"], [0.7777777777777778, \"#fb9f3a\"], [0.8888888888888888, \"#fdca26\"], [1.0, \"#f0f921\"]], \"type\": \"surface\"}], \"table\": [{\"cells\": {\"fill\": {\"color\": \"#506784\"}, \"line\": {\"color\": \"rgb(17,17,17)\"}}, \"header\": {\"fill\": {\"color\": \"#2a3f5f\"}, \"line\": {\"color\": \"rgb(17,17,17)\"}}, \"type\": \"table\"}]}, \"layout\": {\"annotationdefaults\": {\"arrowcolor\": \"#f2f5fa\", \"arrowhead\": 0, \"arrowwidth\": 1}, \"coloraxis\": {\"colorbar\": {\"outlinewidth\": 0, \"ticks\": \"\"}}, \"colorscale\": {\"diverging\": [[0, \"#8e0152\"], [0.1, \"#c51b7d\"], [0.2, \"#de77ae\"], [0.3, \"#f1b6da\"], [0.4, \"#fde0ef\"], [0.5, \"#f7f7f7\"], [0.6, \"#e6f5d0\"], [0.7, \"#b8e186\"], [0.8, \"#7fbc41\"], [0.9, \"#4d9221\"], [1, \"#276419\"]], \"sequential\": [[0.0, \"#0d0887\"], [0.1111111111111111, \"#46039f\"], [0.2222222222222222, \"#7201a8\"], [0.3333333333333333, \"#9c179e\"], [0.4444444444444444, \"#bd3786\"], [0.5555555555555556, \"#d8576b\"], [0.6666666666666666, \"#ed7953\"], [0.7777777777777778, \"#fb9f3a\"], [0.8888888888888888, \"#fdca26\"], [1.0, \"#f0f921\"]], \"sequentialminus\": [[0.0, \"#0d0887\"], [0.1111111111111111, \"#46039f\"], [0.2222222222222222, \"#7201a8\"], [0.3333333333333333, \"#9c179e\"], [0.4444444444444444, \"#bd3786\"], [0.5555555555555556, \"#d8576b\"], [0.6666666666666666, \"#ed7953\"], [0.7777777777777778, \"#fb9f3a\"], [0.8888888888888888, \"#fdca26\"], [1.0, \"#f0f921\"]]}, \"colorway\": [\"#636efa\", \"#EF553B\", \"#00cc96\", \"#ab63fa\", \"#FFA15A\", \"#19d3f3\", \"#FF6692\", \"#B6E880\", \"#FF97FF\", \"#FECB52\"], \"font\": {\"color\": \"#f2f5fa\"}, \"geo\": {\"bgcolor\": \"rgb(17,17,17)\", \"lakecolor\": \"rgb(17,17,17)\", \"landcolor\": \"rgb(17,17,17)\", \"showlakes\": true, \"showland\": true, \"subunitcolor\": \"#506784\"}, \"hoverlabel\": {\"align\": \"left\"}, \"hovermode\": \"closest\", \"mapbox\": {\"style\": \"dark\"}, \"paper_bgcolor\": \"rgb(17,17,17)\", \"plot_bgcolor\": \"rgb(17,17,17)\", \"polar\": {\"angularaxis\": {\"gridcolor\": \"#506784\", \"linecolor\": \"#506784\", \"ticks\": \"\"}, \"bgcolor\": \"rgb(17,17,17)\", \"radialaxis\": {\"gridcolor\": \"#506784\", \"linecolor\": \"#506784\", \"ticks\": \"\"}}, \"scene\": {\"xaxis\": {\"backgroundcolor\": \"rgb(17,17,17)\", \"gridcolor\": \"#506784\", \"gridwidth\": 2, \"linecolor\": \"#506784\", \"showbackground\": true, \"ticks\": \"\", \"zerolinecolor\": \"#C8D4E3\"}, \"yaxis\": {\"backgroundcolor\": \"rgb(17,17,17)\", \"gridcolor\": \"#506784\", \"gridwidth\": 2, \"linecolor\": \"#506784\", \"showbackground\": true, \"ticks\": \"\", \"zerolinecolor\": \"#C8D4E3\"}, \"zaxis\": {\"backgroundcolor\": \"rgb(17,17,17)\", \"gridcolor\": \"#506784\", \"gridwidth\": 2, \"linecolor\": \"#506784\", \"showbackground\": true, \"ticks\": \"\", \"zerolinecolor\": \"#C8D4E3\"}}, \"shapedefaults\": {\"line\": {\"color\": \"#f2f5fa\"}}, \"sliderdefaults\": {\"bgcolor\": \"#C8D4E3\", \"bordercolor\": \"rgb(17,17,17)\", \"borderwidth\": 1, \"tickwidth\": 0}, \"ternary\": {\"aaxis\": {\"gridcolor\": \"#506784\", \"linecolor\": \"#506784\", \"ticks\": \"\"}, \"baxis\": {\"gridcolor\": \"#506784\", \"linecolor\": \"#506784\", \"ticks\": \"\"}, \"bgcolor\": \"rgb(17,17,17)\", \"caxis\": {\"gridcolor\": \"#506784\", \"linecolor\": \"#506784\", \"ticks\": \"\"}}, \"title\": {\"x\": 0.05}, \"updatemenudefaults\": {\"bgcolor\": \"#506784\", \"borderwidth\": 0}, \"xaxis\": {\"automargin\": true, \"gridcolor\": \"#283442\", \"linecolor\": \"#506784\", \"ticks\": \"\", \"title\": {\"standoff\": 15}, \"zerolinecolor\": \"#283442\", \"zerolinewidth\": 2}, \"yaxis\": {\"automargin\": true, \"gridcolor\": \"#283442\", \"linecolor\": \"#506784\", \"ticks\": \"\", \"title\": {\"standoff\": 15}, \"zerolinecolor\": \"#283442\", \"zerolinewidth\": 2}}}, \"title\": {\"text\": \"Win Counts by a Political Party in 2019\"}, \"xaxis\": {\"anchor\": \"y\", \"domain\": [0.0, 1.0], \"title\": {\"text\": \"PARTY\"}}, \"yaxis\": {\"anchor\": \"x\", \"domain\": [0.0, 1.0], \"title\": {\"text\": \"# Wins\"}}},\n",
              "                        {\"responsive\": true}\n",
              "                    ).then(function(){\n",
              "                            \n",
              "var gd = document.getElementById('a92d12c8-2b84-4bd9-add9-92783fcfa0f6');\n",
              "var x = new MutationObserver(function (mutations, observer) {{\n",
              "        var display = window.getComputedStyle(gd).display;\n",
              "        if (!display || display === 'none') {{\n",
              "            console.log([gd, 'removed!']);\n",
              "            Plotly.purge(gd);\n",
              "            observer.disconnect();\n",
              "        }}\n",
              "}});\n",
              "\n",
              "// Listen for the removal of the full notebook cells\n",
              "var notebookContainer = gd.closest('#notebook-container');\n",
              "if (notebookContainer) {{\n",
              "    x.observe(notebookContainer, {childList: true});\n",
              "}}\n",
              "\n",
              "// Listen for the clearing of the current output cell\n",
              "var outputEl = gd.closest('.output');\n",
              "if (outputEl) {{\n",
              "    x.observe(outputEl, {childList: true});\n",
              "}}\n",
              "\n",
              "                        })\n",
              "                };\n",
              "                \n",
              "            </script>\n",
              "        </div>\n",
              "</body>\n",
              "</html>"
            ]
          },
          "metadata": {
            "tags": []
          }
        }
      ]
    },
    {
      "cell_type": "markdown",
      "metadata": {
        "id": "T2G5IhSzqnF9"
      },
      "source": [
        "**Well now that is out of the way let's see how our Cadidate demographic looks like**"
      ]
    },
    {
      "cell_type": "markdown",
      "metadata": {
        "id": "ztr7-PPeXjtU"
      },
      "source": [
        "# What is the Gender Ratio of the Contestants? Also the Gender Ratio of the Winners?"
      ]
    },
    {
      "cell_type": "code",
      "metadata": {
        "colab": {
          "base_uri": "https://localhost:8080/",
          "height": 542
        },
        "id": "djPQ-e_PXoR7",
        "outputId": "d58b9718-a493-4041-d029-a49ed8f86e04"
      },
      "source": [
        "vote_gndr=vote[vote['PARTY']!='NOTA']\n",
        "gndr_overall=vote_gndr.groupby('GENDER').apply(lambda x:x['NAME'].count()).reset_index(name='Counts')\n",
        "gndr_overall['Category']='Overall Gender Ratio'\n",
        "winners=vote_gndr[vote_gndr['WINNER']==1]\n",
        "gndr_winner=winners.groupby('GENDER').apply(lambda x:x['NAME'].count()).reset_index(name='Counts')\n",
        "gndr_winner['Category']='Winning Gender Ratio'\n",
        "gndr_overl_win=pd.concat([gndr_winner,gndr_overall])\n",
        "fig = px.bar(gndr_overl_win, x='GENDER', y='Counts',color='Category', barmode='group')\n",
        "fig.update_layout(title_text='Participation vs Win Counts analysis for the Genders',template='plotly_dark')\n",
        "fig.show()"
      ],
      "execution_count": 48,
      "outputs": [
        {
          "output_type": "display_data",
          "data": {
            "text/html": [
              "<html>\n",
              "<head><meta charset=\"utf-8\" /></head>\n",
              "<body>\n",
              "    <div>\n",
              "            <script src=\"https://cdnjs.cloudflare.com/ajax/libs/mathjax/2.7.5/MathJax.js?config=TeX-AMS-MML_SVG\"></script><script type=\"text/javascript\">if (window.MathJax) {MathJax.Hub.Config({SVG: {font: \"STIX-Web\"}});}</script>\n",
              "                <script type=\"text/javascript\">window.PlotlyConfig = {MathJaxConfig: 'local'};</script>\n",
              "        <script src=\"https://cdn.plot.ly/plotly-latest.min.js\"></script>    \n",
              "            <div id=\"11598033-915a-4d9d-83ff-2a0e84bf3842\" class=\"plotly-graph-div\" style=\"height:525px; width:100%;\"></div>\n",
              "            <script type=\"text/javascript\">\n",
              "                \n",
              "                    window.PLOTLYENV=window.PLOTLYENV || {};\n",
              "                    \n",
              "                if (document.getElementById(\"11598033-915a-4d9d-83ff-2a0e84bf3842\")) {\n",
              "                    Plotly.newPlot(\n",
              "                        '11598033-915a-4d9d-83ff-2a0e84bf3842',\n",
              "                        [{\"alignmentgroup\": \"True\", \"hoverlabel\": {\"namelength\": 0}, \"hovertemplate\": \"Category=Winning Gender Ratio<br>GENDER=%{x}<br>Counts=%{y}\", \"legendgroup\": \"Category=Winning Gender Ratio\", \"marker\": {\"color\": \"#636efa\"}, \"name\": \"Category=Winning Gender Ratio\", \"offsetgroup\": \"Category=Winning Gender Ratio\", \"orientation\": \"v\", \"showlegend\": true, \"textposition\": \"auto\", \"type\": \"bar\", \"x\": [\"FEMALE\", \"MALE\"], \"xaxis\": \"x\", \"y\": [76, 463], \"yaxis\": \"y\"}, {\"alignmentgroup\": \"True\", \"hoverlabel\": {\"namelength\": 0}, \"hovertemplate\": \"Category=Overall Gender Ratio<br>GENDER=%{x}<br>Counts=%{y}\", \"legendgroup\": \"Category=Overall Gender Ratio\", \"marker\": {\"color\": \"#EF553B\"}, \"name\": \"Category=Overall Gender Ratio\", \"offsetgroup\": \"Category=Overall Gender Ratio\", \"orientation\": \"v\", \"showlegend\": true, \"textposition\": \"auto\", \"type\": \"bar\", \"x\": [\"FEMALE\", \"MALE\"], \"xaxis\": \"x\", \"y\": [258, 1760], \"yaxis\": \"y\"}],\n",
              "                        {\"barmode\": \"group\", \"legend\": {\"tracegroupgap\": 0}, \"margin\": {\"t\": 60}, \"template\": {\"data\": {\"bar\": [{\"error_x\": {\"color\": \"#f2f5fa\"}, \"error_y\": {\"color\": \"#f2f5fa\"}, \"marker\": {\"line\": {\"color\": \"rgb(17,17,17)\", \"width\": 0.5}}, \"type\": \"bar\"}], \"barpolar\": [{\"marker\": {\"line\": {\"color\": \"rgb(17,17,17)\", \"width\": 0.5}}, \"type\": \"barpolar\"}], \"carpet\": [{\"aaxis\": {\"endlinecolor\": \"#A2B1C6\", \"gridcolor\": \"#506784\", \"linecolor\": \"#506784\", \"minorgridcolor\": \"#506784\", \"startlinecolor\": \"#A2B1C6\"}, \"baxis\": {\"endlinecolor\": \"#A2B1C6\", \"gridcolor\": \"#506784\", \"linecolor\": \"#506784\", \"minorgridcolor\": \"#506784\", \"startlinecolor\": \"#A2B1C6\"}, \"type\": \"carpet\"}], \"choropleth\": [{\"colorbar\": {\"outlinewidth\": 0, \"ticks\": \"\"}, \"type\": \"choropleth\"}], \"contour\": [{\"colorbar\": {\"outlinewidth\": 0, \"ticks\": \"\"}, \"colorscale\": [[0.0, \"#0d0887\"], [0.1111111111111111, \"#46039f\"], [0.2222222222222222, \"#7201a8\"], [0.3333333333333333, \"#9c179e\"], [0.4444444444444444, \"#bd3786\"], [0.5555555555555556, \"#d8576b\"], [0.6666666666666666, \"#ed7953\"], [0.7777777777777778, \"#fb9f3a\"], [0.8888888888888888, \"#fdca26\"], [1.0, \"#f0f921\"]], \"type\": \"contour\"}], \"contourcarpet\": [{\"colorbar\": {\"outlinewidth\": 0, \"ticks\": \"\"}, \"type\": \"contourcarpet\"}], \"heatmap\": [{\"colorbar\": {\"outlinewidth\": 0, \"ticks\": \"\"}, \"colorscale\": [[0.0, \"#0d0887\"], [0.1111111111111111, \"#46039f\"], [0.2222222222222222, \"#7201a8\"], [0.3333333333333333, \"#9c179e\"], [0.4444444444444444, \"#bd3786\"], [0.5555555555555556, \"#d8576b\"], [0.6666666666666666, \"#ed7953\"], [0.7777777777777778, \"#fb9f3a\"], [0.8888888888888888, \"#fdca26\"], [1.0, \"#f0f921\"]], \"type\": \"heatmap\"}], \"heatmapgl\": [{\"colorbar\": {\"outlinewidth\": 0, \"ticks\": \"\"}, \"colorscale\": [[0.0, \"#0d0887\"], [0.1111111111111111, \"#46039f\"], [0.2222222222222222, \"#7201a8\"], [0.3333333333333333, \"#9c179e\"], [0.4444444444444444, \"#bd3786\"], [0.5555555555555556, \"#d8576b\"], [0.6666666666666666, \"#ed7953\"], [0.7777777777777778, \"#fb9f3a\"], [0.8888888888888888, \"#fdca26\"], [1.0, \"#f0f921\"]], \"type\": \"heatmapgl\"}], \"histogram\": [{\"marker\": {\"colorbar\": {\"outlinewidth\": 0, \"ticks\": \"\"}}, \"type\": \"histogram\"}], \"histogram2d\": [{\"colorbar\": {\"outlinewidth\": 0, \"ticks\": \"\"}, \"colorscale\": [[0.0, \"#0d0887\"], [0.1111111111111111, \"#46039f\"], [0.2222222222222222, \"#7201a8\"], [0.3333333333333333, \"#9c179e\"], [0.4444444444444444, \"#bd3786\"], [0.5555555555555556, \"#d8576b\"], [0.6666666666666666, \"#ed7953\"], [0.7777777777777778, \"#fb9f3a\"], [0.8888888888888888, \"#fdca26\"], [1.0, \"#f0f921\"]], \"type\": \"histogram2d\"}], \"histogram2dcontour\": [{\"colorbar\": {\"outlinewidth\": 0, \"ticks\": \"\"}, \"colorscale\": [[0.0, \"#0d0887\"], [0.1111111111111111, \"#46039f\"], [0.2222222222222222, \"#7201a8\"], [0.3333333333333333, \"#9c179e\"], [0.4444444444444444, \"#bd3786\"], [0.5555555555555556, \"#d8576b\"], [0.6666666666666666, \"#ed7953\"], [0.7777777777777778, \"#fb9f3a\"], [0.8888888888888888, \"#fdca26\"], [1.0, \"#f0f921\"]], \"type\": \"histogram2dcontour\"}], \"mesh3d\": [{\"colorbar\": {\"outlinewidth\": 0, \"ticks\": \"\"}, \"type\": \"mesh3d\"}], \"parcoords\": [{\"line\": {\"colorbar\": {\"outlinewidth\": 0, \"ticks\": \"\"}}, \"type\": \"parcoords\"}], \"pie\": [{\"automargin\": true, \"type\": \"pie\"}], \"scatter\": [{\"marker\": {\"line\": {\"color\": \"#283442\"}}, \"type\": \"scatter\"}], \"scatter3d\": [{\"line\": {\"colorbar\": {\"outlinewidth\": 0, \"ticks\": \"\"}}, \"marker\": {\"colorbar\": {\"outlinewidth\": 0, \"ticks\": \"\"}}, \"type\": \"scatter3d\"}], \"scattercarpet\": [{\"marker\": {\"colorbar\": {\"outlinewidth\": 0, \"ticks\": \"\"}}, \"type\": \"scattercarpet\"}], \"scattergeo\": [{\"marker\": {\"colorbar\": {\"outlinewidth\": 0, \"ticks\": \"\"}}, \"type\": \"scattergeo\"}], \"scattergl\": [{\"marker\": {\"line\": {\"color\": \"#283442\"}}, \"type\": \"scattergl\"}], \"scattermapbox\": [{\"marker\": {\"colorbar\": {\"outlinewidth\": 0, \"ticks\": \"\"}}, \"type\": \"scattermapbox\"}], \"scatterpolar\": [{\"marker\": {\"colorbar\": {\"outlinewidth\": 0, \"ticks\": \"\"}}, \"type\": \"scatterpolar\"}], \"scatterpolargl\": [{\"marker\": {\"colorbar\": {\"outlinewidth\": 0, \"ticks\": \"\"}}, \"type\": \"scatterpolargl\"}], \"scatterternary\": [{\"marker\": {\"colorbar\": {\"outlinewidth\": 0, \"ticks\": \"\"}}, \"type\": \"scatterternary\"}], \"surface\": [{\"colorbar\": {\"outlinewidth\": 0, \"ticks\": \"\"}, \"colorscale\": [[0.0, \"#0d0887\"], [0.1111111111111111, \"#46039f\"], [0.2222222222222222, \"#7201a8\"], [0.3333333333333333, \"#9c179e\"], [0.4444444444444444, \"#bd3786\"], [0.5555555555555556, \"#d8576b\"], [0.6666666666666666, \"#ed7953\"], [0.7777777777777778, \"#fb9f3a\"], [0.8888888888888888, \"#fdca26\"], [1.0, \"#f0f921\"]], \"type\": \"surface\"}], \"table\": [{\"cells\": {\"fill\": {\"color\": \"#506784\"}, \"line\": {\"color\": \"rgb(17,17,17)\"}}, \"header\": {\"fill\": {\"color\": \"#2a3f5f\"}, \"line\": {\"color\": \"rgb(17,17,17)\"}}, \"type\": \"table\"}]}, \"layout\": {\"annotationdefaults\": {\"arrowcolor\": \"#f2f5fa\", \"arrowhead\": 0, \"arrowwidth\": 1}, \"coloraxis\": {\"colorbar\": {\"outlinewidth\": 0, \"ticks\": \"\"}}, \"colorscale\": {\"diverging\": [[0, \"#8e0152\"], [0.1, \"#c51b7d\"], [0.2, \"#de77ae\"], [0.3, \"#f1b6da\"], [0.4, \"#fde0ef\"], [0.5, \"#f7f7f7\"], [0.6, \"#e6f5d0\"], [0.7, \"#b8e186\"], [0.8, \"#7fbc41\"], [0.9, \"#4d9221\"], [1, \"#276419\"]], \"sequential\": [[0.0, \"#0d0887\"], [0.1111111111111111, \"#46039f\"], [0.2222222222222222, \"#7201a8\"], [0.3333333333333333, \"#9c179e\"], [0.4444444444444444, \"#bd3786\"], [0.5555555555555556, \"#d8576b\"], [0.6666666666666666, \"#ed7953\"], [0.7777777777777778, \"#fb9f3a\"], [0.8888888888888888, \"#fdca26\"], [1.0, \"#f0f921\"]], \"sequentialminus\": [[0.0, \"#0d0887\"], [0.1111111111111111, \"#46039f\"], [0.2222222222222222, \"#7201a8\"], [0.3333333333333333, \"#9c179e\"], [0.4444444444444444, \"#bd3786\"], [0.5555555555555556, \"#d8576b\"], [0.6666666666666666, \"#ed7953\"], [0.7777777777777778, \"#fb9f3a\"], [0.8888888888888888, \"#fdca26\"], [1.0, \"#f0f921\"]]}, \"colorway\": [\"#636efa\", \"#EF553B\", \"#00cc96\", \"#ab63fa\", \"#FFA15A\", \"#19d3f3\", \"#FF6692\", \"#B6E880\", \"#FF97FF\", \"#FECB52\"], \"font\": {\"color\": \"#f2f5fa\"}, \"geo\": {\"bgcolor\": \"rgb(17,17,17)\", \"lakecolor\": \"rgb(17,17,17)\", \"landcolor\": \"rgb(17,17,17)\", \"showlakes\": true, \"showland\": true, \"subunitcolor\": \"#506784\"}, \"hoverlabel\": {\"align\": \"left\"}, \"hovermode\": \"closest\", \"mapbox\": {\"style\": \"dark\"}, \"paper_bgcolor\": \"rgb(17,17,17)\", \"plot_bgcolor\": \"rgb(17,17,17)\", \"polar\": {\"angularaxis\": {\"gridcolor\": \"#506784\", \"linecolor\": \"#506784\", \"ticks\": \"\"}, \"bgcolor\": \"rgb(17,17,17)\", \"radialaxis\": {\"gridcolor\": \"#506784\", \"linecolor\": \"#506784\", \"ticks\": \"\"}}, \"scene\": {\"xaxis\": {\"backgroundcolor\": \"rgb(17,17,17)\", \"gridcolor\": \"#506784\", \"gridwidth\": 2, \"linecolor\": \"#506784\", \"showbackground\": true, \"ticks\": \"\", \"zerolinecolor\": \"#C8D4E3\"}, \"yaxis\": {\"backgroundcolor\": \"rgb(17,17,17)\", \"gridcolor\": \"#506784\", \"gridwidth\": 2, \"linecolor\": \"#506784\", \"showbackground\": true, \"ticks\": \"\", \"zerolinecolor\": \"#C8D4E3\"}, \"zaxis\": {\"backgroundcolor\": \"rgb(17,17,17)\", \"gridcolor\": \"#506784\", \"gridwidth\": 2, \"linecolor\": \"#506784\", \"showbackground\": true, \"ticks\": \"\", \"zerolinecolor\": \"#C8D4E3\"}}, \"shapedefaults\": {\"line\": {\"color\": \"#f2f5fa\"}}, \"sliderdefaults\": {\"bgcolor\": \"#C8D4E3\", \"bordercolor\": \"rgb(17,17,17)\", \"borderwidth\": 1, \"tickwidth\": 0}, \"ternary\": {\"aaxis\": {\"gridcolor\": \"#506784\", \"linecolor\": \"#506784\", \"ticks\": \"\"}, \"baxis\": {\"gridcolor\": \"#506784\", \"linecolor\": \"#506784\", \"ticks\": \"\"}, \"bgcolor\": \"rgb(17,17,17)\", \"caxis\": {\"gridcolor\": \"#506784\", \"linecolor\": \"#506784\", \"ticks\": \"\"}}, \"title\": {\"x\": 0.05}, \"updatemenudefaults\": {\"bgcolor\": \"#506784\", \"borderwidth\": 0}, \"xaxis\": {\"automargin\": true, \"gridcolor\": \"#283442\", \"linecolor\": \"#506784\", \"ticks\": \"\", \"title\": {\"standoff\": 15}, \"zerolinecolor\": \"#283442\", \"zerolinewidth\": 2}, \"yaxis\": {\"automargin\": true, \"gridcolor\": \"#283442\", \"linecolor\": \"#506784\", \"ticks\": \"\", \"title\": {\"standoff\": 15}, \"zerolinecolor\": \"#283442\", \"zerolinewidth\": 2}}}, \"title\": {\"text\": \"Participation vs Win Counts analysis for the Genders\"}, \"xaxis\": {\"anchor\": \"y\", \"domain\": [0.0, 1.0], \"title\": {\"text\": \"GENDER\"}}, \"yaxis\": {\"anchor\": \"x\", \"domain\": [0.0, 1.0], \"title\": {\"text\": \"Counts\"}}},\n",
              "                        {\"responsive\": true}\n",
              "                    ).then(function(){\n",
              "                            \n",
              "var gd = document.getElementById('11598033-915a-4d9d-83ff-2a0e84bf3842');\n",
              "var x = new MutationObserver(function (mutations, observer) {{\n",
              "        var display = window.getComputedStyle(gd).display;\n",
              "        if (!display || display === 'none') {{\n",
              "            console.log([gd, 'removed!']);\n",
              "            Plotly.purge(gd);\n",
              "            observer.disconnect();\n",
              "        }}\n",
              "}});\n",
              "\n",
              "// Listen for the removal of the full notebook cells\n",
              "var notebookContainer = gd.closest('#notebook-container');\n",
              "if (notebookContainer) {{\n",
              "    x.observe(notebookContainer, {childList: true});\n",
              "}}\n",
              "\n",
              "// Listen for the clearing of the current output cell\n",
              "var outputEl = gd.closest('.output');\n",
              "if (outputEl) {{\n",
              "    x.observe(outputEl, {childList: true});\n",
              "}}\n",
              "\n",
              "                        })\n",
              "                };\n",
              "                \n",
              "            </script>\n",
              "        </div>\n",
              "</body>\n",
              "</html>"
            ]
          },
          "metadata": {
            "tags": []
          }
        }
      ]
    },
    {
      "cell_type": "markdown",
      "metadata": {
        "id": "9y-jeSqwq1jE"
      },
      "source": [
        "**Observation**: Out of the total list of participants only 12.78% (258 out of 2018) are female politicians, while 87.21% (1760 out of 2018) are male. Upon considering the winners, 14.1% (76 out of 463) are female politicians, while 85.9% are male politicians. The Gender ratio is not very well distributed as can be seen from the above presentation.\n"
      ]
    },
    {
      "cell_type": "markdown",
      "metadata": {
        "id": "0qwEVQO3rAJ0"
      },
      "source": [
        "# What is the Educational Qualification of our politicians?"
      ]
    },
    {
      "cell_type": "code",
      "metadata": {
        "colab": {
          "base_uri": "https://localhost:8080/",
          "height": 542
        },
        "id": "Pv7ErMNErKNd",
        "outputId": "da289841-ab1a-418f-967a-f934472601d0"
      },
      "source": [
        "ed_valid=vote[vote['PARTY']!=\"NOTA\"]\n",
        "ed_cnt=ed_valid.groupby('EDUCATION').apply(lambda x:x['PARTY'].count()).reset_index(name='Counts')\n",
        "fig = go.Figure(data=[go.Pie(labels=ed_cnt['EDUCATION'], values=ed_cnt['Counts'], pull=[0.1, 0.2, 0, 0.1, 0.2, 0,0.1, 0.2, 0,0.1, 0.2, 0.1])])\n",
        "fig.update_layout(title_text='Overall Education Qualification of all the Nominees',template='plotly_dark')\n",
        "fig.show()\n"
      ],
      "execution_count": 49,
      "outputs": [
        {
          "output_type": "display_data",
          "data": {
            "text/html": [
              "<html>\n",
              "<head><meta charset=\"utf-8\" /></head>\n",
              "<body>\n",
              "    <div>\n",
              "            <script src=\"https://cdnjs.cloudflare.com/ajax/libs/mathjax/2.7.5/MathJax.js?config=TeX-AMS-MML_SVG\"></script><script type=\"text/javascript\">if (window.MathJax) {MathJax.Hub.Config({SVG: {font: \"STIX-Web\"}});}</script>\n",
              "                <script type=\"text/javascript\">window.PlotlyConfig = {MathJaxConfig: 'local'};</script>\n",
              "        <script src=\"https://cdn.plot.ly/plotly-latest.min.js\"></script>    \n",
              "            <div id=\"4fcecd7c-067f-4fc5-a464-7547b062c671\" class=\"plotly-graph-div\" style=\"height:525px; width:100%;\"></div>\n",
              "            <script type=\"text/javascript\">\n",
              "                \n",
              "                    window.PLOTLYENV=window.PLOTLYENV || {};\n",
              "                    \n",
              "                if (document.getElementById(\"4fcecd7c-067f-4fc5-a464-7547b062c671\")) {\n",
              "                    Plotly.newPlot(\n",
              "                        '4fcecd7c-067f-4fc5-a464-7547b062c671',\n",
              "                        [{\"labels\": [\"10th Pass\", \"12th Pass\", \"5th Pass\", \"8th Pass\", \"Doctorate\", \"Graduate\", \"Graduate Professional\", \"Illiterate\", \"Literate\", \"Not Available\", \"Others\", \"Post Graduate\"], \"pull\": [0.1, 0.2, 0, 0.1, 0.2, 0, 0.1, 0.2, 0, 0.1, 0.2, 0.1], \"type\": \"pie\", \"values\": [196, 256, 28, 78, 73, 441, 336, 5, 30, 22, 50, 503]}],\n",
              "                        {\"template\": {\"data\": {\"bar\": [{\"error_x\": {\"color\": \"#f2f5fa\"}, \"error_y\": {\"color\": \"#f2f5fa\"}, \"marker\": {\"line\": {\"color\": \"rgb(17,17,17)\", \"width\": 0.5}}, \"type\": \"bar\"}], \"barpolar\": [{\"marker\": {\"line\": {\"color\": \"rgb(17,17,17)\", \"width\": 0.5}}, \"type\": \"barpolar\"}], \"carpet\": [{\"aaxis\": {\"endlinecolor\": \"#A2B1C6\", \"gridcolor\": \"#506784\", \"linecolor\": \"#506784\", \"minorgridcolor\": \"#506784\", \"startlinecolor\": \"#A2B1C6\"}, \"baxis\": {\"endlinecolor\": \"#A2B1C6\", \"gridcolor\": \"#506784\", \"linecolor\": \"#506784\", \"minorgridcolor\": \"#506784\", \"startlinecolor\": \"#A2B1C6\"}, \"type\": \"carpet\"}], \"choropleth\": [{\"colorbar\": {\"outlinewidth\": 0, \"ticks\": \"\"}, \"type\": \"choropleth\"}], \"contour\": [{\"colorbar\": {\"outlinewidth\": 0, \"ticks\": \"\"}, \"colorscale\": [[0.0, \"#0d0887\"], [0.1111111111111111, \"#46039f\"], [0.2222222222222222, \"#7201a8\"], [0.3333333333333333, \"#9c179e\"], [0.4444444444444444, \"#bd3786\"], [0.5555555555555556, \"#d8576b\"], [0.6666666666666666, \"#ed7953\"], [0.7777777777777778, \"#fb9f3a\"], [0.8888888888888888, \"#fdca26\"], [1.0, \"#f0f921\"]], \"type\": \"contour\"}], \"contourcarpet\": [{\"colorbar\": {\"outlinewidth\": 0, \"ticks\": \"\"}, \"type\": \"contourcarpet\"}], \"heatmap\": [{\"colorbar\": {\"outlinewidth\": 0, \"ticks\": \"\"}, \"colorscale\": [[0.0, \"#0d0887\"], [0.1111111111111111, \"#46039f\"], [0.2222222222222222, \"#7201a8\"], [0.3333333333333333, \"#9c179e\"], [0.4444444444444444, \"#bd3786\"], [0.5555555555555556, \"#d8576b\"], [0.6666666666666666, \"#ed7953\"], [0.7777777777777778, \"#fb9f3a\"], [0.8888888888888888, \"#fdca26\"], [1.0, \"#f0f921\"]], \"type\": \"heatmap\"}], \"heatmapgl\": [{\"colorbar\": {\"outlinewidth\": 0, \"ticks\": \"\"}, \"colorscale\": [[0.0, \"#0d0887\"], [0.1111111111111111, \"#46039f\"], [0.2222222222222222, \"#7201a8\"], [0.3333333333333333, \"#9c179e\"], [0.4444444444444444, \"#bd3786\"], [0.5555555555555556, \"#d8576b\"], [0.6666666666666666, \"#ed7953\"], [0.7777777777777778, \"#fb9f3a\"], [0.8888888888888888, \"#fdca26\"], [1.0, \"#f0f921\"]], \"type\": \"heatmapgl\"}], \"histogram\": [{\"marker\": {\"colorbar\": {\"outlinewidth\": 0, \"ticks\": \"\"}}, \"type\": \"histogram\"}], \"histogram2d\": [{\"colorbar\": {\"outlinewidth\": 0, \"ticks\": \"\"}, \"colorscale\": [[0.0, \"#0d0887\"], [0.1111111111111111, \"#46039f\"], [0.2222222222222222, \"#7201a8\"], [0.3333333333333333, \"#9c179e\"], [0.4444444444444444, \"#bd3786\"], [0.5555555555555556, \"#d8576b\"], [0.6666666666666666, \"#ed7953\"], [0.7777777777777778, \"#fb9f3a\"], [0.8888888888888888, \"#fdca26\"], [1.0, \"#f0f921\"]], \"type\": \"histogram2d\"}], \"histogram2dcontour\": [{\"colorbar\": {\"outlinewidth\": 0, \"ticks\": \"\"}, \"colorscale\": [[0.0, \"#0d0887\"], [0.1111111111111111, \"#46039f\"], [0.2222222222222222, \"#7201a8\"], [0.3333333333333333, \"#9c179e\"], [0.4444444444444444, \"#bd3786\"], [0.5555555555555556, \"#d8576b\"], [0.6666666666666666, \"#ed7953\"], [0.7777777777777778, \"#fb9f3a\"], [0.8888888888888888, \"#fdca26\"], [1.0, \"#f0f921\"]], \"type\": \"histogram2dcontour\"}], \"mesh3d\": [{\"colorbar\": {\"outlinewidth\": 0, \"ticks\": \"\"}, \"type\": \"mesh3d\"}], \"parcoords\": [{\"line\": {\"colorbar\": {\"outlinewidth\": 0, \"ticks\": \"\"}}, \"type\": \"parcoords\"}], \"pie\": [{\"automargin\": true, \"type\": \"pie\"}], \"scatter\": [{\"marker\": {\"line\": {\"color\": \"#283442\"}}, \"type\": \"scatter\"}], \"scatter3d\": [{\"line\": {\"colorbar\": {\"outlinewidth\": 0, \"ticks\": \"\"}}, \"marker\": {\"colorbar\": {\"outlinewidth\": 0, \"ticks\": \"\"}}, \"type\": \"scatter3d\"}], \"scattercarpet\": [{\"marker\": {\"colorbar\": {\"outlinewidth\": 0, \"ticks\": \"\"}}, \"type\": \"scattercarpet\"}], \"scattergeo\": [{\"marker\": {\"colorbar\": {\"outlinewidth\": 0, \"ticks\": \"\"}}, \"type\": \"scattergeo\"}], \"scattergl\": [{\"marker\": {\"line\": {\"color\": \"#283442\"}}, \"type\": \"scattergl\"}], \"scattermapbox\": [{\"marker\": {\"colorbar\": {\"outlinewidth\": 0, \"ticks\": \"\"}}, \"type\": \"scattermapbox\"}], \"scatterpolar\": [{\"marker\": {\"colorbar\": {\"outlinewidth\": 0, \"ticks\": \"\"}}, \"type\": \"scatterpolar\"}], \"scatterpolargl\": [{\"marker\": {\"colorbar\": {\"outlinewidth\": 0, \"ticks\": \"\"}}, \"type\": \"scatterpolargl\"}], \"scatterternary\": [{\"marker\": {\"colorbar\": {\"outlinewidth\": 0, \"ticks\": \"\"}}, \"type\": \"scatterternary\"}], \"surface\": [{\"colorbar\": {\"outlinewidth\": 0, \"ticks\": \"\"}, \"colorscale\": [[0.0, \"#0d0887\"], [0.1111111111111111, \"#46039f\"], [0.2222222222222222, \"#7201a8\"], [0.3333333333333333, \"#9c179e\"], [0.4444444444444444, \"#bd3786\"], [0.5555555555555556, \"#d8576b\"], [0.6666666666666666, \"#ed7953\"], [0.7777777777777778, \"#fb9f3a\"], [0.8888888888888888, \"#fdca26\"], [1.0, \"#f0f921\"]], \"type\": \"surface\"}], \"table\": [{\"cells\": {\"fill\": {\"color\": \"#506784\"}, \"line\": {\"color\": \"rgb(17,17,17)\"}}, \"header\": {\"fill\": {\"color\": \"#2a3f5f\"}, \"line\": {\"color\": \"rgb(17,17,17)\"}}, \"type\": \"table\"}]}, \"layout\": {\"annotationdefaults\": {\"arrowcolor\": \"#f2f5fa\", \"arrowhead\": 0, \"arrowwidth\": 1}, \"coloraxis\": {\"colorbar\": {\"outlinewidth\": 0, \"ticks\": \"\"}}, \"colorscale\": {\"diverging\": [[0, \"#8e0152\"], [0.1, \"#c51b7d\"], [0.2, \"#de77ae\"], [0.3, \"#f1b6da\"], [0.4, \"#fde0ef\"], [0.5, \"#f7f7f7\"], [0.6, \"#e6f5d0\"], [0.7, \"#b8e186\"], [0.8, \"#7fbc41\"], [0.9, \"#4d9221\"], [1, \"#276419\"]], \"sequential\": [[0.0, \"#0d0887\"], [0.1111111111111111, \"#46039f\"], [0.2222222222222222, \"#7201a8\"], [0.3333333333333333, \"#9c179e\"], [0.4444444444444444, \"#bd3786\"], [0.5555555555555556, \"#d8576b\"], [0.6666666666666666, \"#ed7953\"], [0.7777777777777778, \"#fb9f3a\"], [0.8888888888888888, \"#fdca26\"], [1.0, \"#f0f921\"]], \"sequentialminus\": [[0.0, \"#0d0887\"], [0.1111111111111111, \"#46039f\"], [0.2222222222222222, \"#7201a8\"], [0.3333333333333333, \"#9c179e\"], [0.4444444444444444, \"#bd3786\"], [0.5555555555555556, \"#d8576b\"], [0.6666666666666666, \"#ed7953\"], [0.7777777777777778, \"#fb9f3a\"], [0.8888888888888888, \"#fdca26\"], [1.0, \"#f0f921\"]]}, \"colorway\": [\"#636efa\", \"#EF553B\", \"#00cc96\", \"#ab63fa\", \"#FFA15A\", \"#19d3f3\", \"#FF6692\", \"#B6E880\", \"#FF97FF\", \"#FECB52\"], \"font\": {\"color\": \"#f2f5fa\"}, \"geo\": {\"bgcolor\": \"rgb(17,17,17)\", \"lakecolor\": \"rgb(17,17,17)\", \"landcolor\": \"rgb(17,17,17)\", \"showlakes\": true, \"showland\": true, \"subunitcolor\": \"#506784\"}, \"hoverlabel\": {\"align\": \"left\"}, \"hovermode\": \"closest\", \"mapbox\": {\"style\": \"dark\"}, \"paper_bgcolor\": \"rgb(17,17,17)\", \"plot_bgcolor\": \"rgb(17,17,17)\", \"polar\": {\"angularaxis\": {\"gridcolor\": \"#506784\", \"linecolor\": \"#506784\", \"ticks\": \"\"}, \"bgcolor\": \"rgb(17,17,17)\", \"radialaxis\": {\"gridcolor\": \"#506784\", \"linecolor\": \"#506784\", \"ticks\": \"\"}}, \"scene\": {\"xaxis\": {\"backgroundcolor\": \"rgb(17,17,17)\", \"gridcolor\": \"#506784\", \"gridwidth\": 2, \"linecolor\": \"#506784\", \"showbackground\": true, \"ticks\": \"\", \"zerolinecolor\": \"#C8D4E3\"}, \"yaxis\": {\"backgroundcolor\": \"rgb(17,17,17)\", \"gridcolor\": \"#506784\", \"gridwidth\": 2, \"linecolor\": \"#506784\", \"showbackground\": true, \"ticks\": \"\", \"zerolinecolor\": \"#C8D4E3\"}, \"zaxis\": {\"backgroundcolor\": \"rgb(17,17,17)\", \"gridcolor\": \"#506784\", \"gridwidth\": 2, \"linecolor\": \"#506784\", \"showbackground\": true, \"ticks\": \"\", \"zerolinecolor\": \"#C8D4E3\"}}, \"shapedefaults\": {\"line\": {\"color\": \"#f2f5fa\"}}, \"sliderdefaults\": {\"bgcolor\": \"#C8D4E3\", \"bordercolor\": \"rgb(17,17,17)\", \"borderwidth\": 1, \"tickwidth\": 0}, \"ternary\": {\"aaxis\": {\"gridcolor\": \"#506784\", \"linecolor\": \"#506784\", \"ticks\": \"\"}, \"baxis\": {\"gridcolor\": \"#506784\", \"linecolor\": \"#506784\", \"ticks\": \"\"}, \"bgcolor\": \"rgb(17,17,17)\", \"caxis\": {\"gridcolor\": \"#506784\", \"linecolor\": \"#506784\", \"ticks\": \"\"}}, \"title\": {\"x\": 0.05}, \"updatemenudefaults\": {\"bgcolor\": \"#506784\", \"borderwidth\": 0}, \"xaxis\": {\"automargin\": true, \"gridcolor\": \"#283442\", \"linecolor\": \"#506784\", \"ticks\": \"\", \"title\": {\"standoff\": 15}, \"zerolinecolor\": \"#283442\", \"zerolinewidth\": 2}, \"yaxis\": {\"automargin\": true, \"gridcolor\": \"#283442\", \"linecolor\": \"#506784\", \"ticks\": \"\", \"title\": {\"standoff\": 15}, \"zerolinecolor\": \"#283442\", \"zerolinewidth\": 2}}}, \"title\": {\"text\": \"Overall Education Qualification of all the Nominees\"}},\n",
              "                        {\"responsive\": true}\n",
              "                    ).then(function(){\n",
              "                            \n",
              "var gd = document.getElementById('4fcecd7c-067f-4fc5-a464-7547b062c671');\n",
              "var x = new MutationObserver(function (mutations, observer) {{\n",
              "        var display = window.getComputedStyle(gd).display;\n",
              "        if (!display || display === 'none') {{\n",
              "            console.log([gd, 'removed!']);\n",
              "            Plotly.purge(gd);\n",
              "            observer.disconnect();\n",
              "        }}\n",
              "}});\n",
              "\n",
              "// Listen for the removal of the full notebook cells\n",
              "var notebookContainer = gd.closest('#notebook-container');\n",
              "if (notebookContainer) {{\n",
              "    x.observe(notebookContainer, {childList: true});\n",
              "}}\n",
              "\n",
              "// Listen for the clearing of the current output cell\n",
              "var outputEl = gd.closest('.output');\n",
              "if (outputEl) {{\n",
              "    x.observe(outputEl, {childList: true});\n",
              "}}\n",
              "\n",
              "                        })\n",
              "                };\n",
              "                \n",
              "            </script>\n",
              "        </div>\n",
              "</body>\n",
              "</html>"
            ]
          },
          "metadata": {
            "tags": []
          }
        }
      ]
    },
    {
      "cell_type": "code",
      "metadata": {
        "colab": {
          "base_uri": "https://localhost:8080/",
          "height": 542
        },
        "id": "7cIyRlnKr9uX",
        "outputId": "cfb61eb2-386c-4d9c-eed9-906af091ea84"
      },
      "source": [
        "ed_won=ed_valid[ed_valid['WINNER']==1]\n",
        "ed_win_cnt=ed_won.groupby('EDUCATION').apply(lambda x:x['PARTY'].count()).reset_index(name='Counts')\n",
        "fig2 = go.Figure(data=[go.Pie(labels=ed_win_cnt['EDUCATION'], values=ed_win_cnt['Counts'], pull=[0.1, 0.2, 0, 0.1, 0.2, 0,0.1, 0.1, 0.2,0, 0.1, 0.2],title='Education Qualification of the Winners')])\n",
        "fig2.update_layout(title_text='Education Qualification of the Winners',template='plotly_dark')\n",
        "fig2.show()"
      ],
      "execution_count": 50,
      "outputs": [
        {
          "output_type": "display_data",
          "data": {
            "text/html": [
              "<html>\n",
              "<head><meta charset=\"utf-8\" /></head>\n",
              "<body>\n",
              "    <div>\n",
              "            <script src=\"https://cdnjs.cloudflare.com/ajax/libs/mathjax/2.7.5/MathJax.js?config=TeX-AMS-MML_SVG\"></script><script type=\"text/javascript\">if (window.MathJax) {MathJax.Hub.Config({SVG: {font: \"STIX-Web\"}});}</script>\n",
              "                <script type=\"text/javascript\">window.PlotlyConfig = {MathJaxConfig: 'local'};</script>\n",
              "        <script src=\"https://cdn.plot.ly/plotly-latest.min.js\"></script>    \n",
              "            <div id=\"416ce1e8-0792-4d03-b130-3a22e66e5ff4\" class=\"plotly-graph-div\" style=\"height:525px; width:100%;\"></div>\n",
              "            <script type=\"text/javascript\">\n",
              "                \n",
              "                    window.PLOTLYENV=window.PLOTLYENV || {};\n",
              "                    \n",
              "                if (document.getElementById(\"416ce1e8-0792-4d03-b130-3a22e66e5ff4\")) {\n",
              "                    Plotly.newPlot(\n",
              "                        '416ce1e8-0792-4d03-b130-3a22e66e5ff4',\n",
              "                        [{\"labels\": [\"10th Pass\", \"12th Pass\", \"5th Pass\", \"8th Pass\", \"Doctorate\", \"Graduate\", \"Graduate Professional\", \"Illiterate\", \"Literate\", \"Others\", \"Post Graduate\"], \"pull\": [0.1, 0.2, 0, 0.1, 0.2, 0, 0.1, 0.1, 0.2, 0, 0.1, 0.2], \"title\": {\"text\": \"Education Qualification of the Winners\"}, \"type\": \"pie\", \"values\": [45, 69, 4, 12, 23, 132, 99, 1, 2, 17, 135]}],\n",
              "                        {\"template\": {\"data\": {\"bar\": [{\"error_x\": {\"color\": \"#f2f5fa\"}, \"error_y\": {\"color\": \"#f2f5fa\"}, \"marker\": {\"line\": {\"color\": \"rgb(17,17,17)\", \"width\": 0.5}}, \"type\": \"bar\"}], \"barpolar\": [{\"marker\": {\"line\": {\"color\": \"rgb(17,17,17)\", \"width\": 0.5}}, \"type\": \"barpolar\"}], \"carpet\": [{\"aaxis\": {\"endlinecolor\": \"#A2B1C6\", \"gridcolor\": \"#506784\", \"linecolor\": \"#506784\", \"minorgridcolor\": \"#506784\", \"startlinecolor\": \"#A2B1C6\"}, \"baxis\": {\"endlinecolor\": \"#A2B1C6\", \"gridcolor\": \"#506784\", \"linecolor\": \"#506784\", \"minorgridcolor\": \"#506784\", \"startlinecolor\": \"#A2B1C6\"}, \"type\": \"carpet\"}], \"choropleth\": [{\"colorbar\": {\"outlinewidth\": 0, \"ticks\": \"\"}, \"type\": \"choropleth\"}], \"contour\": [{\"colorbar\": {\"outlinewidth\": 0, \"ticks\": \"\"}, \"colorscale\": [[0.0, \"#0d0887\"], [0.1111111111111111, \"#46039f\"], [0.2222222222222222, \"#7201a8\"], [0.3333333333333333, \"#9c179e\"], [0.4444444444444444, \"#bd3786\"], [0.5555555555555556, \"#d8576b\"], [0.6666666666666666, \"#ed7953\"], [0.7777777777777778, \"#fb9f3a\"], [0.8888888888888888, \"#fdca26\"], [1.0, \"#f0f921\"]], \"type\": \"contour\"}], \"contourcarpet\": [{\"colorbar\": {\"outlinewidth\": 0, \"ticks\": \"\"}, \"type\": \"contourcarpet\"}], \"heatmap\": [{\"colorbar\": {\"outlinewidth\": 0, \"ticks\": \"\"}, \"colorscale\": [[0.0, \"#0d0887\"], [0.1111111111111111, \"#46039f\"], [0.2222222222222222, \"#7201a8\"], [0.3333333333333333, \"#9c179e\"], [0.4444444444444444, \"#bd3786\"], [0.5555555555555556, \"#d8576b\"], [0.6666666666666666, \"#ed7953\"], [0.7777777777777778, \"#fb9f3a\"], [0.8888888888888888, \"#fdca26\"], [1.0, \"#f0f921\"]], \"type\": \"heatmap\"}], \"heatmapgl\": [{\"colorbar\": {\"outlinewidth\": 0, \"ticks\": \"\"}, \"colorscale\": [[0.0, \"#0d0887\"], [0.1111111111111111, \"#46039f\"], [0.2222222222222222, \"#7201a8\"], [0.3333333333333333, \"#9c179e\"], [0.4444444444444444, \"#bd3786\"], [0.5555555555555556, \"#d8576b\"], [0.6666666666666666, \"#ed7953\"], [0.7777777777777778, \"#fb9f3a\"], [0.8888888888888888, \"#fdca26\"], [1.0, \"#f0f921\"]], \"type\": \"heatmapgl\"}], \"histogram\": [{\"marker\": {\"colorbar\": {\"outlinewidth\": 0, \"ticks\": \"\"}}, \"type\": \"histogram\"}], \"histogram2d\": [{\"colorbar\": {\"outlinewidth\": 0, \"ticks\": \"\"}, \"colorscale\": [[0.0, \"#0d0887\"], [0.1111111111111111, \"#46039f\"], [0.2222222222222222, \"#7201a8\"], [0.3333333333333333, \"#9c179e\"], [0.4444444444444444, \"#bd3786\"], [0.5555555555555556, \"#d8576b\"], [0.6666666666666666, \"#ed7953\"], [0.7777777777777778, \"#fb9f3a\"], [0.8888888888888888, \"#fdca26\"], [1.0, \"#f0f921\"]], \"type\": \"histogram2d\"}], \"histogram2dcontour\": [{\"colorbar\": {\"outlinewidth\": 0, \"ticks\": \"\"}, \"colorscale\": [[0.0, \"#0d0887\"], [0.1111111111111111, \"#46039f\"], [0.2222222222222222, \"#7201a8\"], [0.3333333333333333, \"#9c179e\"], [0.4444444444444444, \"#bd3786\"], [0.5555555555555556, \"#d8576b\"], [0.6666666666666666, \"#ed7953\"], [0.7777777777777778, \"#fb9f3a\"], [0.8888888888888888, \"#fdca26\"], [1.0, \"#f0f921\"]], \"type\": \"histogram2dcontour\"}], \"mesh3d\": [{\"colorbar\": {\"outlinewidth\": 0, \"ticks\": \"\"}, \"type\": \"mesh3d\"}], \"parcoords\": [{\"line\": {\"colorbar\": {\"outlinewidth\": 0, \"ticks\": \"\"}}, \"type\": \"parcoords\"}], \"pie\": [{\"automargin\": true, \"type\": \"pie\"}], \"scatter\": [{\"marker\": {\"line\": {\"color\": \"#283442\"}}, \"type\": \"scatter\"}], \"scatter3d\": [{\"line\": {\"colorbar\": {\"outlinewidth\": 0, \"ticks\": \"\"}}, \"marker\": {\"colorbar\": {\"outlinewidth\": 0, \"ticks\": \"\"}}, \"type\": \"scatter3d\"}], \"scattercarpet\": [{\"marker\": {\"colorbar\": {\"outlinewidth\": 0, \"ticks\": \"\"}}, \"type\": \"scattercarpet\"}], \"scattergeo\": [{\"marker\": {\"colorbar\": {\"outlinewidth\": 0, \"ticks\": \"\"}}, \"type\": \"scattergeo\"}], \"scattergl\": [{\"marker\": {\"line\": {\"color\": \"#283442\"}}, \"type\": \"scattergl\"}], \"scattermapbox\": [{\"marker\": {\"colorbar\": {\"outlinewidth\": 0, \"ticks\": \"\"}}, \"type\": \"scattermapbox\"}], \"scatterpolar\": [{\"marker\": {\"colorbar\": {\"outlinewidth\": 0, \"ticks\": \"\"}}, \"type\": \"scatterpolar\"}], \"scatterpolargl\": [{\"marker\": {\"colorbar\": {\"outlinewidth\": 0, \"ticks\": \"\"}}, \"type\": \"scatterpolargl\"}], \"scatterternary\": [{\"marker\": {\"colorbar\": {\"outlinewidth\": 0, \"ticks\": \"\"}}, \"type\": \"scatterternary\"}], \"surface\": [{\"colorbar\": {\"outlinewidth\": 0, \"ticks\": \"\"}, \"colorscale\": [[0.0, \"#0d0887\"], [0.1111111111111111, \"#46039f\"], [0.2222222222222222, \"#7201a8\"], [0.3333333333333333, \"#9c179e\"], [0.4444444444444444, \"#bd3786\"], [0.5555555555555556, \"#d8576b\"], [0.6666666666666666, \"#ed7953\"], [0.7777777777777778, \"#fb9f3a\"], [0.8888888888888888, \"#fdca26\"], [1.0, \"#f0f921\"]], \"type\": \"surface\"}], \"table\": [{\"cells\": {\"fill\": {\"color\": \"#506784\"}, \"line\": {\"color\": \"rgb(17,17,17)\"}}, \"header\": {\"fill\": {\"color\": \"#2a3f5f\"}, \"line\": {\"color\": \"rgb(17,17,17)\"}}, \"type\": \"table\"}]}, \"layout\": {\"annotationdefaults\": {\"arrowcolor\": \"#f2f5fa\", \"arrowhead\": 0, \"arrowwidth\": 1}, \"coloraxis\": {\"colorbar\": {\"outlinewidth\": 0, \"ticks\": \"\"}}, \"colorscale\": {\"diverging\": [[0, \"#8e0152\"], [0.1, \"#c51b7d\"], [0.2, \"#de77ae\"], [0.3, \"#f1b6da\"], [0.4, \"#fde0ef\"], [0.5, \"#f7f7f7\"], [0.6, \"#e6f5d0\"], [0.7, \"#b8e186\"], [0.8, \"#7fbc41\"], [0.9, \"#4d9221\"], [1, \"#276419\"]], \"sequential\": [[0.0, \"#0d0887\"], [0.1111111111111111, \"#46039f\"], [0.2222222222222222, \"#7201a8\"], [0.3333333333333333, \"#9c179e\"], [0.4444444444444444, \"#bd3786\"], [0.5555555555555556, \"#d8576b\"], [0.6666666666666666, \"#ed7953\"], [0.7777777777777778, \"#fb9f3a\"], [0.8888888888888888, \"#fdca26\"], [1.0, \"#f0f921\"]], \"sequentialminus\": [[0.0, \"#0d0887\"], [0.1111111111111111, \"#46039f\"], [0.2222222222222222, \"#7201a8\"], [0.3333333333333333, \"#9c179e\"], [0.4444444444444444, \"#bd3786\"], [0.5555555555555556, \"#d8576b\"], [0.6666666666666666, \"#ed7953\"], [0.7777777777777778, \"#fb9f3a\"], [0.8888888888888888, \"#fdca26\"], [1.0, \"#f0f921\"]]}, \"colorway\": [\"#636efa\", \"#EF553B\", \"#00cc96\", \"#ab63fa\", \"#FFA15A\", \"#19d3f3\", \"#FF6692\", \"#B6E880\", \"#FF97FF\", \"#FECB52\"], \"font\": {\"color\": \"#f2f5fa\"}, \"geo\": {\"bgcolor\": \"rgb(17,17,17)\", \"lakecolor\": \"rgb(17,17,17)\", \"landcolor\": \"rgb(17,17,17)\", \"showlakes\": true, \"showland\": true, \"subunitcolor\": \"#506784\"}, \"hoverlabel\": {\"align\": \"left\"}, \"hovermode\": \"closest\", \"mapbox\": {\"style\": \"dark\"}, \"paper_bgcolor\": \"rgb(17,17,17)\", \"plot_bgcolor\": \"rgb(17,17,17)\", \"polar\": {\"angularaxis\": {\"gridcolor\": \"#506784\", \"linecolor\": \"#506784\", \"ticks\": \"\"}, \"bgcolor\": \"rgb(17,17,17)\", \"radialaxis\": {\"gridcolor\": \"#506784\", \"linecolor\": \"#506784\", \"ticks\": \"\"}}, \"scene\": {\"xaxis\": {\"backgroundcolor\": \"rgb(17,17,17)\", \"gridcolor\": \"#506784\", \"gridwidth\": 2, \"linecolor\": \"#506784\", \"showbackground\": true, \"ticks\": \"\", \"zerolinecolor\": \"#C8D4E3\"}, \"yaxis\": {\"backgroundcolor\": \"rgb(17,17,17)\", \"gridcolor\": \"#506784\", \"gridwidth\": 2, \"linecolor\": \"#506784\", \"showbackground\": true, \"ticks\": \"\", \"zerolinecolor\": \"#C8D4E3\"}, \"zaxis\": {\"backgroundcolor\": \"rgb(17,17,17)\", \"gridcolor\": \"#506784\", \"gridwidth\": 2, \"linecolor\": \"#506784\", \"showbackground\": true, \"ticks\": \"\", \"zerolinecolor\": \"#C8D4E3\"}}, \"shapedefaults\": {\"line\": {\"color\": \"#f2f5fa\"}}, \"sliderdefaults\": {\"bgcolor\": \"#C8D4E3\", \"bordercolor\": \"rgb(17,17,17)\", \"borderwidth\": 1, \"tickwidth\": 0}, \"ternary\": {\"aaxis\": {\"gridcolor\": \"#506784\", \"linecolor\": \"#506784\", \"ticks\": \"\"}, \"baxis\": {\"gridcolor\": \"#506784\", \"linecolor\": \"#506784\", \"ticks\": \"\"}, \"bgcolor\": \"rgb(17,17,17)\", \"caxis\": {\"gridcolor\": \"#506784\", \"linecolor\": \"#506784\", \"ticks\": \"\"}}, \"title\": {\"x\": 0.05}, \"updatemenudefaults\": {\"bgcolor\": \"#506784\", \"borderwidth\": 0}, \"xaxis\": {\"automargin\": true, \"gridcolor\": \"#283442\", \"linecolor\": \"#506784\", \"ticks\": \"\", \"title\": {\"standoff\": 15}, \"zerolinecolor\": \"#283442\", \"zerolinewidth\": 2}, \"yaxis\": {\"automargin\": true, \"gridcolor\": \"#283442\", \"linecolor\": \"#506784\", \"ticks\": \"\", \"title\": {\"standoff\": 15}, \"zerolinecolor\": \"#283442\", \"zerolinewidth\": 2}}}, \"title\": {\"text\": \"Education Qualification of the Winners\"}},\n",
              "                        {\"responsive\": true}\n",
              "                    ).then(function(){\n",
              "                            \n",
              "var gd = document.getElementById('416ce1e8-0792-4d03-b130-3a22e66e5ff4');\n",
              "var x = new MutationObserver(function (mutations, observer) {{\n",
              "        var display = window.getComputedStyle(gd).display;\n",
              "        if (!display || display === 'none') {{\n",
              "            console.log([gd, 'removed!']);\n",
              "            Plotly.purge(gd);\n",
              "            observer.disconnect();\n",
              "        }}\n",
              "}});\n",
              "\n",
              "// Listen for the removal of the full notebook cells\n",
              "var notebookContainer = gd.closest('#notebook-container');\n",
              "if (notebookContainer) {{\n",
              "    x.observe(notebookContainer, {childList: true});\n",
              "}}\n",
              "\n",
              "// Listen for the clearing of the current output cell\n",
              "var outputEl = gd.closest('.output');\n",
              "if (outputEl) {{\n",
              "    x.observe(outputEl, {childList: true});\n",
              "}}\n",
              "\n",
              "                        })\n",
              "                };\n",
              "                \n",
              "            </script>\n",
              "        </div>\n",
              "</body>\n",
              "</html>"
            ]
          },
          "metadata": {
            "tags": []
          }
        }
      ]
    },
    {
      "cell_type": "markdown",
      "metadata": {
        "id": "zlFQosBbrm3Z"
      },
      "source": [
        "\n",
        "\n",
        "**Observation** The total percentage of Graduate+ educated people contesting in the election is 67.12%, which has increased to 72.17% of the winners. This is actually a positive sign, as educated politicians are a very big factor towards a country's development. But still around 28% of the politicians have received no professional degree. Hope with passing time, we improve upon this factor, and consider the educational qualification as a primary requirement while voting!\n"
      ]
    },
    {
      "cell_type": "markdown",
      "metadata": {
        "id": "5WfN8-cNsGeP"
      },
      "source": [
        "\n",
        "# What relation does the Politician category have with the election results?"
      ]
    },
    {
      "cell_type": "code",
      "metadata": {
        "colab": {
          "base_uri": "https://localhost:8080/",
          "height": 542
        },
        "id": "frLBV_Bcr6Xv",
        "outputId": "aab77865-8f35-49fa-e4f6-7c8aab50ba6f"
      },
      "source": [
        "vote_cat=vote[vote['PARTY']!='NOTA']\n",
        "cat_overall=vote_cat.groupby('CATEGORY').apply(lambda x:x['NAME'].count()).reset_index(name='Counts')\n",
        "cat_overall['Category']='Overall Category Counts'\n",
        "winners_cat=vote_gndr[vote_gndr['WINNER']==1]\n",
        "cat_winner=winners_cat.groupby('CATEGORY').apply(lambda x:x['NAME'].count()).reset_index(name='Counts')\n",
        "cat_winner['Category']='Winning Category Ratio'\n",
        "cat_overl_win=pd.concat([cat_winner,cat_overall])\n",
        "fig = px.bar(cat_overl_win, x='CATEGORY', y='Counts',\n",
        "             color='Category', barmode='group')\n",
        "fig.update_layout(title_text='Participation vs Win Counts for the Category in Politics',template='plotly_dark')\n",
        "fig.show()"
      ],
      "execution_count": 51,
      "outputs": [
        {
          "output_type": "display_data",
          "data": {
            "text/html": [
              "<html>\n",
              "<head><meta charset=\"utf-8\" /></head>\n",
              "<body>\n",
              "    <div>\n",
              "            <script src=\"https://cdnjs.cloudflare.com/ajax/libs/mathjax/2.7.5/MathJax.js?config=TeX-AMS-MML_SVG\"></script><script type=\"text/javascript\">if (window.MathJax) {MathJax.Hub.Config({SVG: {font: \"STIX-Web\"}});}</script>\n",
              "                <script type=\"text/javascript\">window.PlotlyConfig = {MathJaxConfig: 'local'};</script>\n",
              "        <script src=\"https://cdn.plot.ly/plotly-latest.min.js\"></script>    \n",
              "            <div id=\"af6322ec-04a7-4800-8dcb-8d74ace65850\" class=\"plotly-graph-div\" style=\"height:525px; width:100%;\"></div>\n",
              "            <script type=\"text/javascript\">\n",
              "                \n",
              "                    window.PLOTLYENV=window.PLOTLYENV || {};\n",
              "                    \n",
              "                if (document.getElementById(\"af6322ec-04a7-4800-8dcb-8d74ace65850\")) {\n",
              "                    Plotly.newPlot(\n",
              "                        'af6322ec-04a7-4800-8dcb-8d74ace65850',\n",
              "                        [{\"alignmentgroup\": \"True\", \"hoverlabel\": {\"namelength\": 0}, \"hovertemplate\": \"Category=Winning Category Ratio<br>CATEGORY=%{x}<br>Counts=%{y}\", \"legendgroup\": \"Category=Winning Category Ratio\", \"marker\": {\"color\": \"#636efa\"}, \"name\": \"Category=Winning Category Ratio\", \"offsetgroup\": \"Category=Winning Category Ratio\", \"orientation\": \"v\", \"showlegend\": true, \"textposition\": \"auto\", \"type\": \"bar\", \"x\": [\"GENERAL\", \"SC\", \"ST\"], \"xaxis\": \"x\", \"y\": [399, 85, 55], \"yaxis\": \"y\"}, {\"alignmentgroup\": \"True\", \"hoverlabel\": {\"namelength\": 0}, \"hovertemplate\": \"Category=Overall Category Counts<br>CATEGORY=%{x}<br>Counts=%{y}\", \"legendgroup\": \"Category=Overall Category Counts\", \"marker\": {\"color\": \"#EF553B\"}, \"name\": \"Category=Overall Category Counts\", \"offsetgroup\": \"Category=Overall Category Counts\", \"orientation\": \"v\", \"showlegend\": true, \"textposition\": \"auto\", \"type\": \"bar\", \"x\": [\"GENERAL\", \"SC\", \"ST\"], \"xaxis\": \"x\", \"y\": [1392, 383, 243], \"yaxis\": \"y\"}],\n",
              "                        {\"barmode\": \"group\", \"legend\": {\"tracegroupgap\": 0}, \"margin\": {\"t\": 60}, \"template\": {\"data\": {\"bar\": [{\"error_x\": {\"color\": \"#f2f5fa\"}, \"error_y\": {\"color\": \"#f2f5fa\"}, \"marker\": {\"line\": {\"color\": \"rgb(17,17,17)\", \"width\": 0.5}}, \"type\": \"bar\"}], \"barpolar\": [{\"marker\": {\"line\": {\"color\": \"rgb(17,17,17)\", \"width\": 0.5}}, \"type\": \"barpolar\"}], \"carpet\": [{\"aaxis\": {\"endlinecolor\": \"#A2B1C6\", \"gridcolor\": \"#506784\", \"linecolor\": \"#506784\", \"minorgridcolor\": \"#506784\", \"startlinecolor\": \"#A2B1C6\"}, \"baxis\": {\"endlinecolor\": \"#A2B1C6\", \"gridcolor\": \"#506784\", \"linecolor\": \"#506784\", \"minorgridcolor\": \"#506784\", \"startlinecolor\": \"#A2B1C6\"}, \"type\": \"carpet\"}], \"choropleth\": [{\"colorbar\": {\"outlinewidth\": 0, \"ticks\": \"\"}, \"type\": \"choropleth\"}], \"contour\": [{\"colorbar\": {\"outlinewidth\": 0, \"ticks\": \"\"}, \"colorscale\": [[0.0, \"#0d0887\"], [0.1111111111111111, \"#46039f\"], [0.2222222222222222, \"#7201a8\"], [0.3333333333333333, \"#9c179e\"], [0.4444444444444444, \"#bd3786\"], [0.5555555555555556, \"#d8576b\"], [0.6666666666666666, \"#ed7953\"], [0.7777777777777778, \"#fb9f3a\"], [0.8888888888888888, \"#fdca26\"], [1.0, \"#f0f921\"]], \"type\": \"contour\"}], \"contourcarpet\": [{\"colorbar\": {\"outlinewidth\": 0, \"ticks\": \"\"}, \"type\": \"contourcarpet\"}], \"heatmap\": [{\"colorbar\": {\"outlinewidth\": 0, \"ticks\": \"\"}, \"colorscale\": [[0.0, \"#0d0887\"], [0.1111111111111111, \"#46039f\"], [0.2222222222222222, \"#7201a8\"], [0.3333333333333333, \"#9c179e\"], [0.4444444444444444, \"#bd3786\"], [0.5555555555555556, \"#d8576b\"], [0.6666666666666666, \"#ed7953\"], [0.7777777777777778, \"#fb9f3a\"], [0.8888888888888888, \"#fdca26\"], [1.0, \"#f0f921\"]], \"type\": \"heatmap\"}], \"heatmapgl\": [{\"colorbar\": {\"outlinewidth\": 0, \"ticks\": \"\"}, \"colorscale\": [[0.0, \"#0d0887\"], [0.1111111111111111, \"#46039f\"], [0.2222222222222222, \"#7201a8\"], [0.3333333333333333, \"#9c179e\"], [0.4444444444444444, \"#bd3786\"], [0.5555555555555556, \"#d8576b\"], [0.6666666666666666, \"#ed7953\"], [0.7777777777777778, \"#fb9f3a\"], [0.8888888888888888, \"#fdca26\"], [1.0, \"#f0f921\"]], \"type\": \"heatmapgl\"}], \"histogram\": [{\"marker\": {\"colorbar\": {\"outlinewidth\": 0, \"ticks\": \"\"}}, \"type\": \"histogram\"}], \"histogram2d\": [{\"colorbar\": {\"outlinewidth\": 0, \"ticks\": \"\"}, \"colorscale\": [[0.0, \"#0d0887\"], [0.1111111111111111, \"#46039f\"], [0.2222222222222222, \"#7201a8\"], [0.3333333333333333, \"#9c179e\"], [0.4444444444444444, \"#bd3786\"], [0.5555555555555556, \"#d8576b\"], [0.6666666666666666, \"#ed7953\"], [0.7777777777777778, \"#fb9f3a\"], [0.8888888888888888, \"#fdca26\"], [1.0, \"#f0f921\"]], \"type\": \"histogram2d\"}], \"histogram2dcontour\": [{\"colorbar\": {\"outlinewidth\": 0, \"ticks\": \"\"}, \"colorscale\": [[0.0, \"#0d0887\"], [0.1111111111111111, \"#46039f\"], [0.2222222222222222, \"#7201a8\"], [0.3333333333333333, \"#9c179e\"], [0.4444444444444444, \"#bd3786\"], [0.5555555555555556, \"#d8576b\"], [0.6666666666666666, \"#ed7953\"], [0.7777777777777778, \"#fb9f3a\"], [0.8888888888888888, \"#fdca26\"], [1.0, \"#f0f921\"]], \"type\": \"histogram2dcontour\"}], \"mesh3d\": [{\"colorbar\": {\"outlinewidth\": 0, \"ticks\": \"\"}, \"type\": \"mesh3d\"}], \"parcoords\": [{\"line\": {\"colorbar\": {\"outlinewidth\": 0, \"ticks\": \"\"}}, \"type\": \"parcoords\"}], \"pie\": [{\"automargin\": true, \"type\": \"pie\"}], \"scatter\": [{\"marker\": {\"line\": {\"color\": \"#283442\"}}, \"type\": \"scatter\"}], \"scatter3d\": [{\"line\": {\"colorbar\": {\"outlinewidth\": 0, \"ticks\": \"\"}}, \"marker\": {\"colorbar\": {\"outlinewidth\": 0, \"ticks\": \"\"}}, \"type\": \"scatter3d\"}], \"scattercarpet\": [{\"marker\": {\"colorbar\": {\"outlinewidth\": 0, \"ticks\": \"\"}}, \"type\": \"scattercarpet\"}], \"scattergeo\": [{\"marker\": {\"colorbar\": {\"outlinewidth\": 0, \"ticks\": \"\"}}, \"type\": \"scattergeo\"}], \"scattergl\": [{\"marker\": {\"line\": {\"color\": \"#283442\"}}, \"type\": \"scattergl\"}], \"scattermapbox\": [{\"marker\": {\"colorbar\": {\"outlinewidth\": 0, \"ticks\": \"\"}}, \"type\": \"scattermapbox\"}], \"scatterpolar\": [{\"marker\": {\"colorbar\": {\"outlinewidth\": 0, \"ticks\": \"\"}}, \"type\": \"scatterpolar\"}], \"scatterpolargl\": [{\"marker\": {\"colorbar\": {\"outlinewidth\": 0, \"ticks\": \"\"}}, \"type\": \"scatterpolargl\"}], \"scatterternary\": [{\"marker\": {\"colorbar\": {\"outlinewidth\": 0, \"ticks\": \"\"}}, \"type\": \"scatterternary\"}], \"surface\": [{\"colorbar\": {\"outlinewidth\": 0, \"ticks\": \"\"}, \"colorscale\": [[0.0, \"#0d0887\"], [0.1111111111111111, \"#46039f\"], [0.2222222222222222, \"#7201a8\"], [0.3333333333333333, \"#9c179e\"], [0.4444444444444444, \"#bd3786\"], [0.5555555555555556, \"#d8576b\"], [0.6666666666666666, \"#ed7953\"], [0.7777777777777778, \"#fb9f3a\"], [0.8888888888888888, \"#fdca26\"], [1.0, \"#f0f921\"]], \"type\": \"surface\"}], \"table\": [{\"cells\": {\"fill\": {\"color\": \"#506784\"}, \"line\": {\"color\": \"rgb(17,17,17)\"}}, \"header\": {\"fill\": {\"color\": \"#2a3f5f\"}, \"line\": {\"color\": \"rgb(17,17,17)\"}}, \"type\": \"table\"}]}, \"layout\": {\"annotationdefaults\": {\"arrowcolor\": \"#f2f5fa\", \"arrowhead\": 0, \"arrowwidth\": 1}, \"coloraxis\": {\"colorbar\": {\"outlinewidth\": 0, \"ticks\": \"\"}}, \"colorscale\": {\"diverging\": [[0, \"#8e0152\"], [0.1, \"#c51b7d\"], [0.2, \"#de77ae\"], [0.3, \"#f1b6da\"], [0.4, \"#fde0ef\"], [0.5, \"#f7f7f7\"], [0.6, \"#e6f5d0\"], [0.7, \"#b8e186\"], [0.8, \"#7fbc41\"], [0.9, \"#4d9221\"], [1, \"#276419\"]], \"sequential\": [[0.0, \"#0d0887\"], [0.1111111111111111, \"#46039f\"], [0.2222222222222222, \"#7201a8\"], [0.3333333333333333, \"#9c179e\"], [0.4444444444444444, \"#bd3786\"], [0.5555555555555556, \"#d8576b\"], [0.6666666666666666, \"#ed7953\"], [0.7777777777777778, \"#fb9f3a\"], [0.8888888888888888, \"#fdca26\"], [1.0, \"#f0f921\"]], \"sequentialminus\": [[0.0, \"#0d0887\"], [0.1111111111111111, \"#46039f\"], [0.2222222222222222, \"#7201a8\"], [0.3333333333333333, \"#9c179e\"], [0.4444444444444444, \"#bd3786\"], [0.5555555555555556, \"#d8576b\"], [0.6666666666666666, \"#ed7953\"], [0.7777777777777778, \"#fb9f3a\"], [0.8888888888888888, \"#fdca26\"], [1.0, \"#f0f921\"]]}, \"colorway\": [\"#636efa\", \"#EF553B\", \"#00cc96\", \"#ab63fa\", \"#FFA15A\", \"#19d3f3\", \"#FF6692\", \"#B6E880\", \"#FF97FF\", \"#FECB52\"], \"font\": {\"color\": \"#f2f5fa\"}, \"geo\": {\"bgcolor\": \"rgb(17,17,17)\", \"lakecolor\": \"rgb(17,17,17)\", \"landcolor\": \"rgb(17,17,17)\", \"showlakes\": true, \"showland\": true, \"subunitcolor\": \"#506784\"}, \"hoverlabel\": {\"align\": \"left\"}, \"hovermode\": \"closest\", \"mapbox\": {\"style\": \"dark\"}, \"paper_bgcolor\": \"rgb(17,17,17)\", \"plot_bgcolor\": \"rgb(17,17,17)\", \"polar\": {\"angularaxis\": {\"gridcolor\": \"#506784\", \"linecolor\": \"#506784\", \"ticks\": \"\"}, \"bgcolor\": \"rgb(17,17,17)\", \"radialaxis\": {\"gridcolor\": \"#506784\", \"linecolor\": \"#506784\", \"ticks\": \"\"}}, \"scene\": {\"xaxis\": {\"backgroundcolor\": \"rgb(17,17,17)\", \"gridcolor\": \"#506784\", \"gridwidth\": 2, \"linecolor\": \"#506784\", \"showbackground\": true, \"ticks\": \"\", \"zerolinecolor\": \"#C8D4E3\"}, \"yaxis\": {\"backgroundcolor\": \"rgb(17,17,17)\", \"gridcolor\": \"#506784\", \"gridwidth\": 2, \"linecolor\": \"#506784\", \"showbackground\": true, \"ticks\": \"\", \"zerolinecolor\": \"#C8D4E3\"}, \"zaxis\": {\"backgroundcolor\": \"rgb(17,17,17)\", \"gridcolor\": \"#506784\", \"gridwidth\": 2, \"linecolor\": \"#506784\", \"showbackground\": true, \"ticks\": \"\", \"zerolinecolor\": \"#C8D4E3\"}}, \"shapedefaults\": {\"line\": {\"color\": \"#f2f5fa\"}}, \"sliderdefaults\": {\"bgcolor\": \"#C8D4E3\", \"bordercolor\": \"rgb(17,17,17)\", \"borderwidth\": 1, \"tickwidth\": 0}, \"ternary\": {\"aaxis\": {\"gridcolor\": \"#506784\", \"linecolor\": \"#506784\", \"ticks\": \"\"}, \"baxis\": {\"gridcolor\": \"#506784\", \"linecolor\": \"#506784\", \"ticks\": \"\"}, \"bgcolor\": \"rgb(17,17,17)\", \"caxis\": {\"gridcolor\": \"#506784\", \"linecolor\": \"#506784\", \"ticks\": \"\"}}, \"title\": {\"x\": 0.05}, \"updatemenudefaults\": {\"bgcolor\": \"#506784\", \"borderwidth\": 0}, \"xaxis\": {\"automargin\": true, \"gridcolor\": \"#283442\", \"linecolor\": \"#506784\", \"ticks\": \"\", \"title\": {\"standoff\": 15}, \"zerolinecolor\": \"#283442\", \"zerolinewidth\": 2}, \"yaxis\": {\"automargin\": true, \"gridcolor\": \"#283442\", \"linecolor\": \"#506784\", \"ticks\": \"\", \"title\": {\"standoff\": 15}, \"zerolinecolor\": \"#283442\", \"zerolinewidth\": 2}}}, \"title\": {\"text\": \"Participation vs Win Counts for the Category in Politics\"}, \"xaxis\": {\"anchor\": \"y\", \"domain\": [0.0, 1.0], \"title\": {\"text\": \"CATEGORY\"}}, \"yaxis\": {\"anchor\": \"x\", \"domain\": [0.0, 1.0], \"title\": {\"text\": \"Counts\"}}},\n",
              "                        {\"responsive\": true}\n",
              "                    ).then(function(){\n",
              "                            \n",
              "var gd = document.getElementById('af6322ec-04a7-4800-8dcb-8d74ace65850');\n",
              "var x = new MutationObserver(function (mutations, observer) {{\n",
              "        var display = window.getComputedStyle(gd).display;\n",
              "        if (!display || display === 'none') {{\n",
              "            console.log([gd, 'removed!']);\n",
              "            Plotly.purge(gd);\n",
              "            observer.disconnect();\n",
              "        }}\n",
              "}});\n",
              "\n",
              "// Listen for the removal of the full notebook cells\n",
              "var notebookContainer = gd.closest('#notebook-container');\n",
              "if (notebookContainer) {{\n",
              "    x.observe(notebookContainer, {childList: true});\n",
              "}}\n",
              "\n",
              "// Listen for the clearing of the current output cell\n",
              "var outputEl = gd.closest('.output');\n",
              "if (outputEl) {{\n",
              "    x.observe(outputEl, {childList: true});\n",
              "}}\n",
              "\n",
              "                        })\n",
              "                };\n",
              "                \n",
              "            </script>\n",
              "        </div>\n",
              "</body>\n",
              "</html>"
            ]
          },
          "metadata": {
            "tags": []
          }
        }
      ]
    },
    {
      "cell_type": "markdown",
      "metadata": {
        "id": "8K_YnsfksShO"
      },
      "source": [
        "**Observation**: The Category participation of General-SC-ST have been in the ratio of 68.97:18.97:12.04- while as of the winners, the ratios have been modified to 74.02:15.76:10:20"
      ]
    },
    {
      "cell_type": "markdown",
      "metadata": {
        "id": "ychmzAUrsjmF"
      },
      "source": [
        "# Have the politicians been involved with criminal activities?"
      ]
    },
    {
      "cell_type": "code",
      "metadata": {
        "colab": {
          "base_uri": "https://localhost:8080/",
          "height": 542
        },
        "id": "Sl-L3Ayosf7t",
        "outputId": "4b361cc8-f780-454b-be02-4ca38b253407"
      },
      "source": [
        "crim_cnt=ed_valid.groupby('CRIMINAL CASES').apply(lambda x:x['NAME'].count()).reset_index(name='Counts')\n",
        "fig = px.histogram(crim_cnt, x='CRIMINAL CASES',y='Counts',marginal='violin')\n",
        "fig.update_layout(title_text='Criminal Cases Counts Distribution among the politicians',template='plotly_dark')\n",
        "fig.show()"
      ],
      "execution_count": 52,
      "outputs": [
        {
          "output_type": "display_data",
          "data": {
            "text/html": [
              "<html>\n",
              "<head><meta charset=\"utf-8\" /></head>\n",
              "<body>\n",
              "    <div>\n",
              "            <script src=\"https://cdnjs.cloudflare.com/ajax/libs/mathjax/2.7.5/MathJax.js?config=TeX-AMS-MML_SVG\"></script><script type=\"text/javascript\">if (window.MathJax) {MathJax.Hub.Config({SVG: {font: \"STIX-Web\"}});}</script>\n",
              "                <script type=\"text/javascript\">window.PlotlyConfig = {MathJaxConfig: 'local'};</script>\n",
              "        <script src=\"https://cdn.plot.ly/plotly-latest.min.js\"></script>    \n",
              "            <div id=\"641c7c50-75aa-4116-949f-3be0dea0eabe\" class=\"plotly-graph-div\" style=\"height:525px; width:100%;\"></div>\n",
              "            <script type=\"text/javascript\">\n",
              "                \n",
              "                    window.PLOTLYENV=window.PLOTLYENV || {};\n",
              "                    \n",
              "                if (document.getElementById(\"641c7c50-75aa-4116-949f-3be0dea0eabe\")) {\n",
              "                    Plotly.newPlot(\n",
              "                        '641c7c50-75aa-4116-949f-3be0dea0eabe',\n",
              "                        [{\"alignmentgroup\": \"True\", \"bingroup\": \"x\", \"hoverlabel\": {\"namelength\": 0}, \"hovertemplate\": \"CRIMINAL CASES=%{x}<br>count of Counts=%{y}\", \"legendgroup\": \"\", \"marker\": {\"color\": \"#636efa\"}, \"name\": \"\", \"offsetgroup\": \"\", \"orientation\": \"v\", \"showlegend\": false, \"type\": \"histogram\", \"x\": [0, 1, 2, 3, 4, 5, 6, 7, 8, 9, 10, 11, 12, 13, 14, 15, 16, 18, 22, 24, 28, 31, 40, 41, 42, 52, 204, 240], \"xaxis\": \"x\", \"y\": [1264, 313, 119, 104, 64, 42, 26, 18, 16, 11, 11, 5, 4, 3, 4, 2, 1, 1, 1, 1, 1, 1, 1, 1, 1, 1, 1, 1], \"yaxis\": \"y\"}, {\"alignmentgroup\": \"True\", \"hoverlabel\": {\"namelength\": 0}, \"hovertemplate\": \"CRIMINAL CASES=%{x}\", \"legendgroup\": \"\", \"marker\": {\"color\": \"#636efa\"}, \"name\": \"\", \"offsetgroup\": \"\", \"scalegroup\": \"x\", \"showlegend\": false, \"type\": \"violin\", \"x\": [0, 1, 2, 3, 4, 5, 6, 7, 8, 9, 10, 11, 12, 13, 14, 15, 16, 18, 22, 24, 28, 31, 40, 41, 42, 52, 204, 240], \"xaxis\": \"x2\", \"yaxis\": \"y2\"}],\n",
              "                        {\"barmode\": \"relative\", \"legend\": {\"tracegroupgap\": 0}, \"margin\": {\"t\": 60}, \"template\": {\"data\": {\"bar\": [{\"error_x\": {\"color\": \"#f2f5fa\"}, \"error_y\": {\"color\": \"#f2f5fa\"}, \"marker\": {\"line\": {\"color\": \"rgb(17,17,17)\", \"width\": 0.5}}, \"type\": \"bar\"}], \"barpolar\": [{\"marker\": {\"line\": {\"color\": \"rgb(17,17,17)\", \"width\": 0.5}}, \"type\": \"barpolar\"}], \"carpet\": [{\"aaxis\": {\"endlinecolor\": \"#A2B1C6\", \"gridcolor\": \"#506784\", \"linecolor\": \"#506784\", \"minorgridcolor\": \"#506784\", \"startlinecolor\": \"#A2B1C6\"}, \"baxis\": {\"endlinecolor\": \"#A2B1C6\", \"gridcolor\": \"#506784\", \"linecolor\": \"#506784\", \"minorgridcolor\": \"#506784\", \"startlinecolor\": \"#A2B1C6\"}, \"type\": \"carpet\"}], \"choropleth\": [{\"colorbar\": {\"outlinewidth\": 0, \"ticks\": \"\"}, \"type\": \"choropleth\"}], \"contour\": [{\"colorbar\": {\"outlinewidth\": 0, \"ticks\": \"\"}, \"colorscale\": [[0.0, \"#0d0887\"], [0.1111111111111111, \"#46039f\"], [0.2222222222222222, \"#7201a8\"], [0.3333333333333333, \"#9c179e\"], [0.4444444444444444, \"#bd3786\"], [0.5555555555555556, \"#d8576b\"], [0.6666666666666666, \"#ed7953\"], [0.7777777777777778, \"#fb9f3a\"], [0.8888888888888888, \"#fdca26\"], [1.0, \"#f0f921\"]], \"type\": \"contour\"}], \"contourcarpet\": [{\"colorbar\": {\"outlinewidth\": 0, \"ticks\": \"\"}, \"type\": \"contourcarpet\"}], \"heatmap\": [{\"colorbar\": {\"outlinewidth\": 0, \"ticks\": \"\"}, \"colorscale\": [[0.0, \"#0d0887\"], [0.1111111111111111, \"#46039f\"], [0.2222222222222222, \"#7201a8\"], [0.3333333333333333, \"#9c179e\"], [0.4444444444444444, \"#bd3786\"], [0.5555555555555556, \"#d8576b\"], [0.6666666666666666, \"#ed7953\"], [0.7777777777777778, \"#fb9f3a\"], [0.8888888888888888, \"#fdca26\"], [1.0, \"#f0f921\"]], \"type\": \"heatmap\"}], \"heatmapgl\": [{\"colorbar\": {\"outlinewidth\": 0, \"ticks\": \"\"}, \"colorscale\": [[0.0, \"#0d0887\"], [0.1111111111111111, \"#46039f\"], [0.2222222222222222, \"#7201a8\"], [0.3333333333333333, \"#9c179e\"], [0.4444444444444444, \"#bd3786\"], [0.5555555555555556, \"#d8576b\"], [0.6666666666666666, \"#ed7953\"], [0.7777777777777778, \"#fb9f3a\"], [0.8888888888888888, \"#fdca26\"], [1.0, \"#f0f921\"]], \"type\": \"heatmapgl\"}], \"histogram\": [{\"marker\": {\"colorbar\": {\"outlinewidth\": 0, \"ticks\": \"\"}}, \"type\": \"histogram\"}], \"histogram2d\": [{\"colorbar\": {\"outlinewidth\": 0, \"ticks\": \"\"}, \"colorscale\": [[0.0, \"#0d0887\"], [0.1111111111111111, \"#46039f\"], [0.2222222222222222, \"#7201a8\"], [0.3333333333333333, \"#9c179e\"], [0.4444444444444444, \"#bd3786\"], [0.5555555555555556, \"#d8576b\"], [0.6666666666666666, \"#ed7953\"], [0.7777777777777778, \"#fb9f3a\"], [0.8888888888888888, \"#fdca26\"], [1.0, \"#f0f921\"]], \"type\": \"histogram2d\"}], \"histogram2dcontour\": [{\"colorbar\": {\"outlinewidth\": 0, \"ticks\": \"\"}, \"colorscale\": [[0.0, \"#0d0887\"], [0.1111111111111111, \"#46039f\"], [0.2222222222222222, \"#7201a8\"], [0.3333333333333333, \"#9c179e\"], [0.4444444444444444, \"#bd3786\"], [0.5555555555555556, \"#d8576b\"], [0.6666666666666666, \"#ed7953\"], [0.7777777777777778, \"#fb9f3a\"], [0.8888888888888888, \"#fdca26\"], [1.0, \"#f0f921\"]], \"type\": \"histogram2dcontour\"}], \"mesh3d\": [{\"colorbar\": {\"outlinewidth\": 0, \"ticks\": \"\"}, \"type\": \"mesh3d\"}], \"parcoords\": [{\"line\": {\"colorbar\": {\"outlinewidth\": 0, \"ticks\": \"\"}}, \"type\": \"parcoords\"}], \"pie\": [{\"automargin\": true, \"type\": \"pie\"}], \"scatter\": [{\"marker\": {\"line\": {\"color\": \"#283442\"}}, \"type\": \"scatter\"}], \"scatter3d\": [{\"line\": {\"colorbar\": {\"outlinewidth\": 0, \"ticks\": \"\"}}, \"marker\": {\"colorbar\": {\"outlinewidth\": 0, \"ticks\": \"\"}}, \"type\": \"scatter3d\"}], \"scattercarpet\": [{\"marker\": {\"colorbar\": {\"outlinewidth\": 0, \"ticks\": \"\"}}, \"type\": \"scattercarpet\"}], \"scattergeo\": [{\"marker\": {\"colorbar\": {\"outlinewidth\": 0, \"ticks\": \"\"}}, \"type\": \"scattergeo\"}], \"scattergl\": [{\"marker\": {\"line\": {\"color\": \"#283442\"}}, \"type\": \"scattergl\"}], \"scattermapbox\": [{\"marker\": {\"colorbar\": {\"outlinewidth\": 0, \"ticks\": \"\"}}, \"type\": \"scattermapbox\"}], \"scatterpolar\": [{\"marker\": {\"colorbar\": {\"outlinewidth\": 0, \"ticks\": \"\"}}, \"type\": \"scatterpolar\"}], \"scatterpolargl\": [{\"marker\": {\"colorbar\": {\"outlinewidth\": 0, \"ticks\": \"\"}}, \"type\": \"scatterpolargl\"}], \"scatterternary\": [{\"marker\": {\"colorbar\": {\"outlinewidth\": 0, \"ticks\": \"\"}}, \"type\": \"scatterternary\"}], \"surface\": [{\"colorbar\": {\"outlinewidth\": 0, \"ticks\": \"\"}, \"colorscale\": [[0.0, \"#0d0887\"], [0.1111111111111111, \"#46039f\"], [0.2222222222222222, \"#7201a8\"], [0.3333333333333333, \"#9c179e\"], [0.4444444444444444, \"#bd3786\"], [0.5555555555555556, \"#d8576b\"], [0.6666666666666666, \"#ed7953\"], [0.7777777777777778, \"#fb9f3a\"], [0.8888888888888888, \"#fdca26\"], [1.0, \"#f0f921\"]], \"type\": \"surface\"}], \"table\": [{\"cells\": {\"fill\": {\"color\": \"#506784\"}, \"line\": {\"color\": \"rgb(17,17,17)\"}}, \"header\": {\"fill\": {\"color\": \"#2a3f5f\"}, \"line\": {\"color\": \"rgb(17,17,17)\"}}, \"type\": \"table\"}]}, \"layout\": {\"annotationdefaults\": {\"arrowcolor\": \"#f2f5fa\", \"arrowhead\": 0, \"arrowwidth\": 1}, \"coloraxis\": {\"colorbar\": {\"outlinewidth\": 0, \"ticks\": \"\"}}, \"colorscale\": {\"diverging\": [[0, \"#8e0152\"], [0.1, \"#c51b7d\"], [0.2, \"#de77ae\"], [0.3, \"#f1b6da\"], [0.4, \"#fde0ef\"], [0.5, \"#f7f7f7\"], [0.6, \"#e6f5d0\"], [0.7, \"#b8e186\"], [0.8, \"#7fbc41\"], [0.9, \"#4d9221\"], [1, \"#276419\"]], \"sequential\": [[0.0, \"#0d0887\"], [0.1111111111111111, \"#46039f\"], [0.2222222222222222, \"#7201a8\"], [0.3333333333333333, \"#9c179e\"], [0.4444444444444444, \"#bd3786\"], [0.5555555555555556, \"#d8576b\"], [0.6666666666666666, \"#ed7953\"], [0.7777777777777778, \"#fb9f3a\"], [0.8888888888888888, \"#fdca26\"], [1.0, \"#f0f921\"]], \"sequentialminus\": [[0.0, \"#0d0887\"], [0.1111111111111111, \"#46039f\"], [0.2222222222222222, \"#7201a8\"], [0.3333333333333333, \"#9c179e\"], [0.4444444444444444, \"#bd3786\"], [0.5555555555555556, \"#d8576b\"], [0.6666666666666666, \"#ed7953\"], [0.7777777777777778, \"#fb9f3a\"], [0.8888888888888888, \"#fdca26\"], [1.0, \"#f0f921\"]]}, \"colorway\": [\"#636efa\", \"#EF553B\", \"#00cc96\", \"#ab63fa\", \"#FFA15A\", \"#19d3f3\", \"#FF6692\", \"#B6E880\", \"#FF97FF\", \"#FECB52\"], \"font\": {\"color\": \"#f2f5fa\"}, \"geo\": {\"bgcolor\": \"rgb(17,17,17)\", \"lakecolor\": \"rgb(17,17,17)\", \"landcolor\": \"rgb(17,17,17)\", \"showlakes\": true, \"showland\": true, \"subunitcolor\": \"#506784\"}, \"hoverlabel\": {\"align\": \"left\"}, \"hovermode\": \"closest\", \"mapbox\": {\"style\": \"dark\"}, \"paper_bgcolor\": \"rgb(17,17,17)\", \"plot_bgcolor\": \"rgb(17,17,17)\", \"polar\": {\"angularaxis\": {\"gridcolor\": \"#506784\", \"linecolor\": \"#506784\", \"ticks\": \"\"}, \"bgcolor\": \"rgb(17,17,17)\", \"radialaxis\": {\"gridcolor\": \"#506784\", \"linecolor\": \"#506784\", \"ticks\": \"\"}}, \"scene\": {\"xaxis\": {\"backgroundcolor\": \"rgb(17,17,17)\", \"gridcolor\": \"#506784\", \"gridwidth\": 2, \"linecolor\": \"#506784\", \"showbackground\": true, \"ticks\": \"\", \"zerolinecolor\": \"#C8D4E3\"}, \"yaxis\": {\"backgroundcolor\": \"rgb(17,17,17)\", \"gridcolor\": \"#506784\", \"gridwidth\": 2, \"linecolor\": \"#506784\", \"showbackground\": true, \"ticks\": \"\", \"zerolinecolor\": \"#C8D4E3\"}, \"zaxis\": {\"backgroundcolor\": \"rgb(17,17,17)\", \"gridcolor\": \"#506784\", \"gridwidth\": 2, \"linecolor\": \"#506784\", \"showbackground\": true, \"ticks\": \"\", \"zerolinecolor\": \"#C8D4E3\"}}, \"shapedefaults\": {\"line\": {\"color\": \"#f2f5fa\"}}, \"sliderdefaults\": {\"bgcolor\": \"#C8D4E3\", \"bordercolor\": \"rgb(17,17,17)\", \"borderwidth\": 1, \"tickwidth\": 0}, \"ternary\": {\"aaxis\": {\"gridcolor\": \"#506784\", \"linecolor\": \"#506784\", \"ticks\": \"\"}, \"baxis\": {\"gridcolor\": \"#506784\", \"linecolor\": \"#506784\", \"ticks\": \"\"}, \"bgcolor\": \"rgb(17,17,17)\", \"caxis\": {\"gridcolor\": \"#506784\", \"linecolor\": \"#506784\", \"ticks\": \"\"}}, \"title\": {\"x\": 0.05}, \"updatemenudefaults\": {\"bgcolor\": \"#506784\", \"borderwidth\": 0}, \"xaxis\": {\"automargin\": true, \"gridcolor\": \"#283442\", \"linecolor\": \"#506784\", \"ticks\": \"\", \"title\": {\"standoff\": 15}, \"zerolinecolor\": \"#283442\", \"zerolinewidth\": 2}, \"yaxis\": {\"automargin\": true, \"gridcolor\": \"#283442\", \"linecolor\": \"#506784\", \"ticks\": \"\", \"title\": {\"standoff\": 15}, \"zerolinecolor\": \"#283442\", \"zerolinewidth\": 2}}}, \"title\": {\"text\": \"Criminal Cases Counts Distribution among the politicians\"}, \"xaxis\": {\"anchor\": \"y\", \"domain\": [0.0, 1.0], \"title\": {\"text\": \"CRIMINAL CASES\"}}, \"xaxis2\": {\"anchor\": \"y2\", \"domain\": [0.0, 1.0], \"matches\": \"x\", \"showgrid\": true, \"showticklabels\": false}, \"yaxis\": {\"anchor\": \"x\", \"domain\": [0.0, 0.8316], \"title\": {\"text\": \"count of Counts\"}}, \"yaxis2\": {\"anchor\": \"x2\", \"domain\": [0.8416, 1.0], \"matches\": \"y2\", \"showgrid\": false, \"showline\": false, \"showticklabels\": false, \"ticks\": \"\"}},\n",
              "                        {\"responsive\": true}\n",
              "                    ).then(function(){\n",
              "                            \n",
              "var gd = document.getElementById('641c7c50-75aa-4116-949f-3be0dea0eabe');\n",
              "var x = new MutationObserver(function (mutations, observer) {{\n",
              "        var display = window.getComputedStyle(gd).display;\n",
              "        if (!display || display === 'none') {{\n",
              "            console.log([gd, 'removed!']);\n",
              "            Plotly.purge(gd);\n",
              "            observer.disconnect();\n",
              "        }}\n",
              "}});\n",
              "\n",
              "// Listen for the removal of the full notebook cells\n",
              "var notebookContainer = gd.closest('#notebook-container');\n",
              "if (notebookContainer) {{\n",
              "    x.observe(notebookContainer, {childList: true});\n",
              "}}\n",
              "\n",
              "// Listen for the clearing of the current output cell\n",
              "var outputEl = gd.closest('.output');\n",
              "if (outputEl) {{\n",
              "    x.observe(outputEl, {childList: true});\n",
              "}}\n",
              "\n",
              "                        })\n",
              "                };\n",
              "                \n",
              "            </script>\n",
              "        </div>\n",
              "</body>\n",
              "</html>"
            ]
          },
          "metadata": {
            "tags": []
          }
        }
      ]
    },
    {
      "cell_type": "markdown",
      "metadata": {
        "id": "ErGcsvv_srit"
      },
      "source": [
        "\n",
        "\n",
        "**Observations**: Many politicians have been associated with criminal activities. Always these cases pressed need not be genuine, but obviously, when its multiple- this is a serious issue. We must take the responsibility while voting, as its our duty to choose the right person- as a duty towards the nation.\n"
      ]
    },
    {
      "cell_type": "markdown",
      "metadata": {
        "id": "yaL2ATKXtBhV"
      },
      "source": [
        "# Plotting the Assets vs Liabilities amount for Winning Politicians (Plotted w.r.t State)"
      ]
    },
    {
      "cell_type": "code",
      "metadata": {
        "colab": {
          "base_uri": "https://localhost:8080/",
          "height": 799
        },
        "id": "4hDU2rTctDZK",
        "outputId": "b29db09e-bd59-4a00-e161-fe83e1290429"
      },
      "source": [
        "as_liab_name=ed_valid[['NAME','PARTY','ASSETS','LIABILITIES','STATE','CONSTITUENCY','WINNER']]\n",
        "as_liab_name.WINNER.replace({1:'Yes',0:'No'},inplace=True)\n",
        "win_as_liab_name=as_liab_name[as_liab_name['WINNER']=='Yes']\n",
        "win_as_liab_name.sort_values(by='ASSETS',ascending=False,inplace=True)\n",
        "fig = px.scatter(win_as_liab_name, x='ASSETS', y='LIABILITIES', \n",
        "                 color='STATE',size='ASSETS', \n",
        "                 hover_data=(['NAME','PARTY','CONSTITUENCY','STATE','WINNER']),\n",
        "                 title='Assets vs Liabilities for the Winning Politicians')\n",
        "fig.update_layout(title_text='Assets vs Liabilities for the Winning Politicians',template='plotly_dark')\n",
        "fig.show()"
      ],
      "execution_count": 53,
      "outputs": [
        {
          "output_type": "stream",
          "text": [
            "/usr/local/lib/python3.7/dist-packages/pandas/core/series.py:4582: SettingWithCopyWarning:\n",
            "\n",
            "\n",
            "A value is trying to be set on a copy of a slice from a DataFrame\n",
            "\n",
            "See the caveats in the documentation: https://pandas.pydata.org/pandas-docs/stable/user_guide/indexing.html#returning-a-view-versus-a-copy\n",
            "\n",
            "/usr/local/lib/python3.7/dist-packages/ipykernel_launcher.py:4: SettingWithCopyWarning:\n",
            "\n",
            "\n",
            "A value is trying to be set on a copy of a slice from a DataFrame\n",
            "\n",
            "See the caveats in the documentation: https://pandas.pydata.org/pandas-docs/stable/user_guide/indexing.html#returning-a-view-versus-a-copy\n",
            "\n"
          ],
          "name": "stderr"
        },
        {
          "output_type": "display_data",
          "data": {
            "text/html": [
              "<html>\n",
              "<head><meta charset=\"utf-8\" /></head>\n",
              "<body>\n",
              "    <div>\n",
              "            <script src=\"https://cdnjs.cloudflare.com/ajax/libs/mathjax/2.7.5/MathJax.js?config=TeX-AMS-MML_SVG\"></script><script type=\"text/javascript\">if (window.MathJax) {MathJax.Hub.Config({SVG: {font: \"STIX-Web\"}});}</script>\n",
              "                <script type=\"text/javascript\">window.PlotlyConfig = {MathJaxConfig: 'local'};</script>\n",
              "        <script src=\"https://cdn.plot.ly/plotly-latest.min.js\"></script>    \n",
              "            <div id=\"83ea1d9a-34e0-4cab-8693-cd1f6c7b26db\" class=\"plotly-graph-div\" style=\"height:525px; width:100%;\"></div>\n",
              "            <script type=\"text/javascript\">\n",
              "                \n",
              "                    window.PLOTLYENV=window.PLOTLYENV || {};\n",
              "                    \n",
              "                if (document.getElementById(\"83ea1d9a-34e0-4cab-8693-cd1f6c7b26db\")) {\n",
              "                    Plotly.newPlot(\n",
              "                        '83ea1d9a-34e0-4cab-8693-cd1f6c7b26db',\n",
              "                        [{\"customdata\": [[\"NAKUL KAMAL NATH\", \"INC\", \"CHHINDWARA\", \"Madhya Pradesh\", \"Yes\"], [\"UDAY PRATAP SINGH\", \"BJP\", \"HOSHANGABAD\", \"Madhya Pradesh\", \"Yes\"], [\"Sudheer Gupta\", \"BJP\", \"MANDSOUR\", \"Madhya Pradesh\", \"Yes\"], [\"DR DHAL SINGH BISEN\", \"BJP\", \"BALAGHAT\", \"Madhya Pradesh\", \"Yes\"], [\"GAJENDRA UMRAO SINGH PATEL\", \"BJP\", \"KHARGONE\", \"Madhya Pradesh\", \"Yes\"], [\"SHANKAR LALWANI\", \"BJP\", \"INDORE\", \"Madhya Pradesh\", \"Yes\"], [\"VIVEK NARAYAN SHEJWALKAR\", \"BJP\", \"GWALIOR\", \"Madhya Pradesh\", \"Yes\"], [\"Riti Pathak\", \"BJP\", \"SIDHI\", \"Madhya Pradesh\", \"Yes\"], [\"SANDHYA RAY\", \"BJP\", \"BHIND\", \"Madhya Pradesh\", \"Yes\"], [\"PRAHALAD SINGH PATEL\", \"BJP\", \"DAMOH\", \"Madhya Pradesh\", \"Yes\"], [\"RAKESH SINGH\", \"BJP\", \"JABALPUR\", \"Madhya Pradesh\", \"Yes\"], [\"GUMAN SINGH DAMOR\", \"BJP\", \"RATLAM\", \"Madhya Pradesh\", \"Yes\"], [\"GANESH SINGH\", \"BJP\", \"SATNA\", \"Madhya Pradesh\", \"Yes\"], [\"RODMAL NAGAR\", \"BJP\", \"RAJGARH\", \"Madhya Pradesh\", \"Yes\"], [\"HIMADRI SINGH\", \"BJP\", \"SHAHDOL\", \"Madhya Pradesh\", \"Yes\"], [\"Ramakant Bhargava\", \"BJP\", \"VIDISHA\", \"Madhya Pradesh\", \"Yes\"], [\"FAGGAN SINGH KULASTE\", \"BJP\", \"MANDLA\", \"Madhya Pradesh\", \"Yes\"], [\"ANIL FIROJIYA\", \"BJP\", \"UJJAIN\", \"Madhya Pradesh\", \"Yes\"], [\"CHATTARSINGH DARBAR\", \"BJP\", \"DHAR\", \"Madhya Pradesh\", \"Yes\"], [\"NARENDRA SINGH TOMAR\", \"BJP\", \"MORENA\", \"Madhya Pradesh\", \"Yes\"], [\"Dr Virendra Kumar\", \"BJP\", \"TIKAMGARH\", \"Madhya Pradesh\", \"Yes\"], [\"JANARDAN MISHRA\", \"BJP\", \"REWA\", \"Madhya Pradesh\", \"Yes\"], [\"NANDKUMAR SINGH CHOUHAN (NANDU BHAIYA)\", \"BJP\", \"KHANDWA\", \"Madhya Pradesh\", \"Yes\"], [\"RAJBAHADUR SINGH\", \"BJP\", \"SAGAR\", \"Madhya Pradesh\", \"Yes\"], [\"KRISHNA PAL SINGH \\\"Dr. K. P. YADAV\\\"\", \"BJP\", \"GUNA\", \"Madhya Pradesh\", \"Yes\"], [\"DURGA DAS (D.D.) UIKEY\", \"BJP\", \"BETUL\", \"Madhya Pradesh\", \"Yes\"], [\"V.D. SHARMA (VISHNU DATT SHARMA)\", \"BJP\", \"KHAJURAHO\", \"Madhya Pradesh\", \"Yes\"], [\"MAHENDRA SINGH SOLANKY\", \"BJP\", \"DEWAS\", \"Madhya Pradesh\", \"Yes\"], [\"SADHVI PRAGYA SINGH THAKUR\", \"BJP\", \"BHOPAL\", \"Madhya Pradesh\", \"Yes\"]], \"hoverlabel\": {\"namelength\": 0}, \"hovertemplate\": \"STATE=%{customdata[3]}<br>ASSETS=%{marker.size}<br>LIABILITIES=%{y}<br>NAME=%{customdata[0]}<br>PARTY=%{customdata[1]}<br>CONSTITUENCY=%{customdata[2]}<br>WINNER=%{customdata[4]}\", \"legendgroup\": \"STATE=Madhya Pradesh\", \"marker\": {\"color\": \"#636efa\", \"size\": [6601946757, 154783105, 90908944, 88648133, 67303990, 59038508, 58911673, 51541791, 51108660, 43292483, 43134351, 42072262, 41719076, 40198295, 36564408, 30032282, 26702373, 26417937, 23198238, 23062224, 21503766, 20359750, 19076515, 16416828, 16266408, 15413532, 10589334, 3812464, 444224], \"sizemode\": \"area\", \"sizeref\": 16504866.8925, \"symbol\": \"circle\"}, \"mode\": \"markers\", \"name\": \"STATE=Madhya Pradesh\", \"showlegend\": true, \"type\": \"scatter\", \"x\": [6601946757, 154783105, 90908944, 88648133, 67303990, 59038508, 58911673, 51541791, 51108660, 43292483, 43134351, 42072262, 41719076, 40198295, 36564408, 30032282, 26702373, 26417937, 23198238, 23062224, 21503766, 20359750, 19076515, 16416828, 16266408, 15413532, 10589334, 3812464, 444224], \"xaxis\": \"x\", \"y\": [8791712, 9103300, 799283, 1530693, 1885020, 2106382, 0, 505922, 13400000, 4230614, 1387000, 4890940, 0, 3921362, 1736289, 3332012, 1000075, 3203766, 2471613, 6689767, 1974216, 580627, 4819099, 547428, 494053, 875803, 2507176, 1832631, 0], \"yaxis\": \"y\"}, {\"customdata\": [[\"Vasanthakumar. H\", \"INC\", \"KANNIYAKUMARI\", \"Tamil Nadu\", \"Yes\"], [\"S. JAGATHRAKSHAKAN\", \"DMK\", \"ARAKKONAM\", \"Tamil Nadu\", \"Yes\"], [\"Dr.PAARIVENDHAR, T. R\", \"DMK\", \"PERAMBALUR\", \"Tamil Nadu\", \"Yes\"], [\"KARTI P CHIDAMBARAM\", \"INC\", \"SIVAGANGA\", \"Tamil Nadu\", \"Yes\"], [\"CHINRAJ A.K.P\", \"DMK\", \"NAMAKKAL\", \"Tamil Nadu\", \"Yes\"], [\"Gautham Sigamani Pon\", \"DMK\", \"KALLAKURICHI\", \"Tamil Nadu\", \"Yes\"], [\"T. R. V .S. RAMESH\", \"DMK\", \"CUDDALORE\", \"Tamil Nadu\", \"Yes\"], [\"Dr. KALANIDHI VEERASWAMY\", \"DMK\", \"CHENNAI NORTH\", \"Tamil Nadu\", \"Yes\"], [\"K. NAVASKANI\", \"IUML\", \"RAMANATHAPURAM\", \"Tamil Nadu\", \"Yes\"], [\"KANIMOZHI KARUNANIDHI\", \"DMK\", \"THOOTHUKKUDI\", \"Tamil Nadu\", \"Yes\"], [\"VISHNU PRASAD M K\", \"INC\", \"ARANI\", \"Tamil Nadu\", \"Yes\"], [\"GNANATHIRAVIAM S\", \"DMK\", \"TIRUNELVELI\", \"Tamil Nadu\", \"Yes\"], [\"Baalu.T.R.\", \"DMK\", \"SRIPERUMBUDUR\", \"Tamil Nadu\", \"Yes\"], [\"VELUSAMY, P.\", \"DMK\", \"DINDIGUL\", \"Tamil Nadu\", \"Yes\"], [\"ANNADURAI C N\", \"DMK\", \"TIRUVANNAMALAI\", \"Tamil Nadu\", \"Yes\"], [\"SHANMUGA SUNDARAM. K\", \"DMK\", \"POLLACHI\", \"Tamil Nadu\", \"Yes\"], [\"Dr.A.CHELLAKUMAR\", \"INC\", \"KRISHNAGIRI\", \"Tamil Nadu\", \"Yes\"], [\"DAYANIDHI MARAN\", \"DMK\", \"CHENNAI CENTRAL\", \"Tamil Nadu\", \"Yes\"], [\"T.SUMATHY (A) THAMIZHACHI THANGAPANDIAN\", \"DMK\", \"CHENNAI SOUTH\", \"Tamil Nadu\", \"Yes\"], [\"RAVEENDRANATH KUMAR, P\", \"AIADMK\", \"THENI\", \"Tamil Nadu\", \"Yes\"], [\"PARTHIBAN.S.R\", \"DMK\", \"SALEM\", \"Tamil Nadu\", \"Yes\"], [\"DHANUSH.M.KUMAR\", \"DMK\", \"TENKASI\", \"Tamil Nadu\", \"Yes\"], [\"RAJA, A.\", \"DMK\", \"NILGIRIS\", \"Tamil Nadu\", \"Yes\"], [\"DNV SENTHILKUMAR. S.\", \"DMK\", \"DHARMAPURI\", \"Tamil Nadu\", \"Yes\"], [\"Selvam.G\", \"DMK\", \"KANCHEEPURAM\", \"Tamil Nadu\", \"Yes\"], [\"GANESHAMURTHI A\", \"DMK\", \"ERODE\", \"Tamil Nadu\", \"Yes\"], [\"PALANIMANICKAM,S.S.\", \"DMK\", \"THANJAVUR\", \"Tamil Nadu\", \"Yes\"], [\"Thirunavukkarasar. SU\", \"INC\", \"TIRUCHIRAPPALLI\", \"Tamil Nadu\", \"Yes\"], [\"Dr.K.Jayakumar\", \"INC\", \"THIRUVALLUR\", \"Tamil Nadu\", \"Yes\"], [\"NATARAJAN. P.R\", \"CPI(M)\", \"COIMBATORE\", \"Tamil Nadu\", \"Yes\"], [\"MANICKAM TAGORE, B.\", \"INC\", \"VIRUDHUNAGAR\", \"Tamil Nadu\", \"Yes\"], [\"RAMALINGAM. S\", \"DMK\", \"MAYILADUTHURAI\", \"Tamil Nadu\", \"Yes\"], [\"THIRUMAAVALAVAN THOL\", \"VCK\", \"CHIDAMBARAM\", \"Tamil Nadu\", \"Yes\"], [\"SUBBARAYAN, K.\", \"CPI(M)\", \"TIRUPPUR\", \"Tamil Nadu\", \"Yes\"], [\"RAVIKUMAR D\", \"DMK\", \"VILUPPURAM\", \"Tamil Nadu\", \"Yes\"], [\"Jothimani S\", \"INC\", \"KARUR\", \"Tamil Nadu\", \"Yes\"], [\"SELVARAJ M\", \"CPI(M)\", \"NAGAPATTINAM\", \"Tamil Nadu\", \"Yes\"], [\"VENKATESAN S\", \"CPI(M)\", \"MADURAI\", \"Tamil Nadu\", \"Yes\"]], \"hoverlabel\": {\"namelength\": 0}, \"hovertemplate\": \"STATE=%{customdata[3]}<br>ASSETS=%{marker.size}<br>LIABILITIES=%{y}<br>NAME=%{customdata[0]}<br>PARTY=%{customdata[1]}<br>CONSTITUENCY=%{customdata[2]}<br>WINNER=%{customdata[4]}\", \"legendgroup\": \"STATE=Tamil Nadu\", \"marker\": {\"color\": \"#EF553B\", \"size\": [4174930444, 1146984897, 972730368, 793729024, 485205173, 471186830, 423378552, 405294714, 364738171, 303373130, 234564815, 232759237, 208806446, 148076407, 134897466, 133109284, 121087979, 116790616, 91793460, 65803231, 60045532, 51360700, 49591024, 48477451, 48172936, 43110000, 42452076, 32182184, 24583769, 20284430, 17292470, 13355095, 9244092, 8035576, 6509860, 6046055, 4572837, 1811456], \"sizemode\": \"area\", \"sizeref\": 16504866.8925, \"symbol\": \"circle\"}, \"mode\": \"markers\", \"name\": \"STATE=Tamil Nadu\", \"showlegend\": true, \"type\": \"scatter\", \"x\": [4174930444, 1146984897, 972730368, 793729024, 485205173, 471186830, 423378552, 405294714, 364738171, 303373130, 234564815, 232759237, 208806446, 148076407, 134897466, 133109284, 121087979, 116790616, 91793460, 65803231, 60045532, 51360700, 49591024, 48477451, 48172936, 43110000, 42452076, 32182184, 24583769, 20284430, 17292470, 13355095, 9244092, 8035576, 6509860, 6046055, 4572837, 1811456], \"xaxis\": \"x\", \"y\": [1547511439, 166365972, 65935070, 174081116, 18642484, 81131909, 102828604, 258386550, 47008615, 19290928, 33409505, 46149049, 0, 31474526, 32243604, 13360639, 66817959, 0, 500000, 32734079, 4039841, 2896862, 1424914, 6053502, 0, 2060000, 2368600, 40208, 0, 3234168, 4953498, 215000, 394248, 500000, 1369031, 379000, 1251381, 0], \"yaxis\": \"y\"}, {\"customdata\": [[\"D.K. SURESH\", \"INC\", \"BANGALORE RURAL\", \"Karnataka\", \"Yes\"], [\"B.N.Bache Gowda\", \"BJP\", \"CHIKKBALLAPUR\", \"Karnataka\", \"Yes\"], [\"P. C. Mohan\", \"BJP\", \"BANGALORE CENTRAL\", \"Karnataka\", \"Yes\"], [\"UDASI. S.C.\", \"BJP\", \"HAVERI\", \"Karnataka\", \"Yes\"], [\"B.Y.RAGHAVENDRA.\", \"BJP\", \"SHIMOGA\", \"Karnataka\", \"Yes\"], [\"G. S. BASAVARAJ\", \"BJP\", \"TUMKUR\", \"Karnataka\", \"Yes\"], [\"JIGAJINAGI RAMESH CHANDAPPA\", \"BJP\", \"BIJAPUR\", \"Karnataka\", \"Yes\"], [\"G M SIDDESHWAR\", \"BJP\", \"DAVANAGERE\", \"Karnataka\", \"Yes\"], [\"ANGADI SURESH CHANNABASAPPA\", \"BJP\", \"BELGAUM\", \"Karnataka\", \"Yes\"], [\"ANNASAHEB SHANKAR JOLLE\", \"BJP\", \"CHIKKODI\", \"Karnataka\", \"Yes\"], [\"SUMALATHA AMBAREESH\", \"IND\", \"MANDYA\", \"Karnataka\", \"Yes\"], [\"D.V. Sadananda Gowda\", \"BJP\", \"BANGALORE NORTH\", \"Karnataka\", \"Yes\"], [\"S. MUNISWAMY\", \"BJP\", \"KOLAR\", \"Karnataka\", \"Yes\"], [\"V. SRINIVAS PRASAD\", \"BJP\", \"CHAMARAJANAGAR\", \"Karnataka\", \"Yes\"], [\"Pralhad Joshi\", \"BJP\", \"DHARWAD\", \"Karnataka\", \"Yes\"], [\"SHOBHA KARANDLAJE\", \"BJP\", \"UDUPI CHIKMAGALUR\", \"Karnataka\", \"Yes\"], [\"PRAJWAL REVANNA\", \"JD(S)\", \"HASSAN\", \"Karnataka\", \"Yes\"], [\"A NARAYANASWAMY\", \"BJP\", \"CHITRADURGA\", \"Karnataka\", \"Yes\"], [\"ANANTKUMAR HEGDE\", \"BJP\", \"UTTARA KANNADA\", \"Karnataka\", \"Yes\"], [\"BHAGWANTH KHUBA\", \"BJP\", \"BIDAR\", \"Karnataka\", \"Yes\"], [\"Gaddigoudar Parvatagouda Chandanagouda\", \"BJP\", \"BAGALKOT\", \"Karnataka\", \"Yes\"], [\"Y. DEVENDRAPPA\", \"BJP\", \"BELLARY\", \"Karnataka\", \"Yes\"], [\"DR. UMESH G JADHAV\", \"BJP\", \"GULBARGA\", \"Karnataka\", \"Yes\"], [\"RAJA AMARESHWARA NAIK\", \"BJP\", \"RAICHUR\", \"Karnataka\", \"Yes\"], [\"KARADI SANGANNA AMARAPPA\", \"BJP\", \"KOPPAL\", \"Karnataka\", \"Yes\"], [\"PRATHAP SIMHA\", \"BJP\", \"MYSORE\", \"Karnataka\", \"Yes\"], [\"NALIN KUMAR KATEEL\", \"BJP\", \"DAKSHINA KANNADA\", \"Karnataka\", \"Yes\"], [\"TEJASVI SURYA\", \"BJP\", \"BANGALORE SOUTH\", \"Karnataka\", \"Yes\"]], \"hoverlabel\": {\"namelength\": 0}, \"hovertemplate\": \"STATE=%{customdata[3]}<br>ASSETS=%{marker.size}<br>LIABILITIES=%{y}<br>NAME=%{customdata[0]}<br>PARTY=%{customdata[1]}<br>CONSTITUENCY=%{customdata[2]}<br>WINNER=%{customdata[4]}\", \"legendgroup\": \"STATE=Karnataka\", \"marker\": {\"color\": \"#00cc96\", \"size\": [3388920717, 1153501141, 755529306, 718499195, 674093851, 510779150, 504122985, 380164932, 366164525, 344922831, 234154139, 209384539, 174557500, 143804441, 111384447, 104872668, 97848632, 96197642, 84755455, 51836416, 43980663, 40107878, 37490597, 30638375, 28725791, 18723762, 14678300, 1346593], \"sizemode\": \"area\", \"sizeref\": 16504866.8925, \"symbol\": \"circle\"}, \"mode\": \"markers\", \"name\": \"STATE=Karnataka\", \"showlegend\": true, \"type\": \"scatter\", \"x\": [3388920717, 1153501141, 755529306, 718499195, 674093851, 510779150, 504122985, 380164932, 366164525, 344922831, 234154139, 209384539, 174557500, 143804441, 111384447, 104872668, 97848632, 96197642, 84755455, 51836416, 43980663, 40107878, 37490597, 30638375, 28725791, 18723762, 14678300, 1346593], \"xaxis\": \"x\", \"y\": [519320305, 0, 312521957, 165566495, 14150647, 113844867, 1600000, 14670809, 198479638, 195595693, 14232295, 104302653, 19865690, 324909, 51736254, 49936840, 37253210, 0, 41016655, 10239000, 7987991, 250000, 0, 678532, 22475333, 6586698, 4450945, 0], \"yaxis\": \"y\"}, {\"customdata\": [[\"KANUMURU RAGHU RAMA KRISHNA RAJU\", \"YSRCP\", \"NARSAPURAM\", \"Andhra Pradesh\", \"Yes\"], [\"Jayadev Galla\", \"TDP\", \"GUNTUR\", \"Andhra Pradesh\", \"Yes\"], [\"Adala Prabhakara Reddy\", \"YSRCP\", \"NELLORE\", \"Andhra Pradesh\", \"Yes\"], [\"M V V SATYANARAYANA\", \"YSRCP\", \"VISAKHAPATNAM\", \"Andhra Pradesh\", \"Yes\"], [\"BALASHOWRY VALLABHANENI\", \"YSRCP\", \"MACHILIPATNAM\", \"Andhra Pradesh\", \"Yes\"], [\"KESINENI SRINIVAS (NANI)\", \"TDP\", \"VIJAYAWADA\", \"Andhra Pradesh\", \"Yes\"], [\"P.V.MIDHUN REDDY\", \"YSRCP\", \"RAJAMPET\", \"Andhra Pradesh\", \"Yes\"], [\"POCHA . BRAHMANANDA REDDY\", \"YSRCP\", \"NANDYAL\", \"Andhra Pradesh\", \"Yes\"], [\"KOTAGIRI SRIDHAR\", \"YSRCP\", \"ELURU\", \"Andhra Pradesh\", \"Yes\"], [\"MARGANI BHARAT\", \"YSRCP\", \"RAJAHMUNDRY\", \"Andhra Pradesh\", \"Yes\"], [\"AYUSHMAN DOCTOR SANJEEV KUMAR\", \"YSRCP\", \"KURNOOL\", \"Andhra Pradesh\", \"Yes\"], [\"MAGUNTA SREENIVASULU REDDY\", \"YSRCP\", \"ONGOLE\", \"Andhra Pradesh\", \"Yes\"], [\"VANGA GEETHAVISWANATH\", \"YSRCP\", \"KAKINADA\", \"Andhra Pradesh\", \"Yes\"], [\"Y.S.Avinash Reddy\", \"YSRCP\", \"KADAPA\", \"Andhra Pradesh\", \"Yes\"], [\"LAVU SRI KRISHNA DEVARAYALU\", \"YSRCP\", \"NARASARAOPET\", \"Andhra Pradesh\", \"Yes\"], [\"KINJARAPU RAM MOHAN NAIDU\", \"TDP\", \"SRIKAKULAM\", \"Andhra Pradesh\", \"Yes\"], [\"Dr.Beesetti Venkata Satyavathi\", \"YSRCP\", \"ANAKAPALLI\", \"Andhra Pradesh\", \"Yes\"], [\"CHINTA ANURADHA\", \"YSRCP\", \"AMALAPURAM\", \"Andhra Pradesh\", \"Yes\"], [\"Bellana Chandra Sekhar\", \"YSRCP\", \"VIZIANAGARAM\", \"Andhra Pradesh\", \"Yes\"], [\"Balli Durga Prasad Rao\", \"YSRCP\", \"TIRUPATI\", \"Andhra Pradesh\", \"Yes\"], [\"N. REDDEPPA\", \"YSRCP\", \"CHITTOOR\", \"Andhra Pradesh\", \"Yes\"], [\"TALARI RANGAIAH\", \"YSRCP\", \"ANANTAPUR\", \"Andhra Pradesh\", \"Yes\"], [\"NANDIGAM SURESH\", \"YSRCP\", \"BAPATLA\", \"Andhra Pradesh\", \"Yes\"], [\"KURUVA GORANTLA MADHAV\", \"YSRCP\", \"HINDUPUR\", \"Andhra Pradesh\", \"Yes\"], [\"GODDETI. MADHAVI\", \"YSRCP\", \"ARUKU\", \"Andhra Pradesh\", \"Yes\"]], \"hoverlabel\": {\"namelength\": 0}, \"hovertemplate\": \"STATE=%{customdata[3]}<br>ASSETS=%{marker.size}<br>LIABILITIES=%{y}<br>NAME=%{customdata[0]}<br>PARTY=%{customdata[1]}<br>CONSTITUENCY=%{customdata[2]}<br>WINNER=%{customdata[4]}\", \"legendgroup\": \"STATE=Andhra Pradesh\", \"marker\": {\"color\": \"#ab63fa\", \"size\": [3259405378, 3051485242, 2211663364, 2023905124, 990575840, 808152415, 665085701, 585932911, 462808829, 458205360, 325914387, 266583686, 202528594, 186969794, 177710073, 122791042, 91526244, 85993362, 21035766, 17426921, 17355862, 11773091, 4158610, 1787356, 141179], \"sizemode\": \"area\", \"sizeref\": 16504866.8925, \"symbol\": \"circle\"}, \"mode\": \"markers\", \"name\": \"STATE=Andhra Pradesh\", \"showlegend\": true, \"type\": \"scatter\", \"x\": [3259405378, 3051485242, 2211663364, 2023905124, 990575840, 808152415, 665085701, 585932911, 462808829, 458205360, 325914387, 266583686, 202528594, 186969794, 177710073, 122791042, 91526244, 85993362, 21035766, 17426921, 17355862, 11773091, 4158610, 1787356, 141179], \"xaxis\": \"x\", \"y\": [1014467354, 203452417, 152281255, 160030959, 746310844, 512332955, 205473477, 177035582, 33560974, 17814757, 62070621, 91302133, 34416887, 22833319, 10142413, 12000000, 11139279, 2431407, 11130148, 0, 1341542, 1135547, 269000, 730332, 0], \"yaxis\": \"y\"}, {\"customdata\": [[\"HEMA MALINI\", \"BJP\", \"MATHURA\", \"Uttar Pradesh\", \"Yes\"], [\"MALOOK NAGAR\", \"BSP\", \"BIJNOR\", \"Uttar Pradesh\", \"Yes\"], [\"Anurag Sharma\", \"BJP\", \"JHANSI\", \"Uttar Pradesh\", \"Yes\"], [\"Feroze Varun Gandhi\", \"BJP\", \"PILIBHIT\", \"Uttar Pradesh\", \"Yes\"], [\"MANEKA SANJAI GANDHI\", \"BJP\", \"SULTANPUR\", \"Uttar Pradesh\", \"Yes\"], [\"Dr. MAHESH SHARMA\", \"BJP\", \"GAUTAM BUDDHA NAGAR\", \"Uttar Pradesh\", \"Yes\"], [\"Rajveer Singh (Raju Bhaiya)\", \"BJP\", \"ETAH\", \"Uttar Pradesh\", \"Yes\"], [\"Akhilesh Yadav\", \"SP\", \"AZAMGARH\", \"Uttar Pradesh\", \"Yes\"], [\"PANKAJ CHOUDHARY\", \"BJP\", \"MAHARAJGANJ\", \"Uttar Pradesh\", \"Yes\"], [\"Ritesh Pandey\", \"BSP\", \"AMBEDKAR NAGAR\", \"Uttar Pradesh\", \"Yes\"], [\"Bholanath (B.P. Saroj)\", \"BJP\", \"MACHHLISHAHR\", \"Uttar Pradesh\", \"Yes\"], [\"SANGAM LAL GUPTA\", \"BJP\", \"PRATAPGARH\", \"Uttar Pradesh\", \"Yes\"], [\"Jai Prakash\", \"BJP\", \"HARDOI\", \"Uttar Pradesh\", \"Yes\"], [\"KIRTI VARDHAN SINGH ALIAS RAJA BHAIYA\", \"BJP\", \"GONDA\", \"Uttar Pradesh\", \"Yes\"], [\"Ravindra Shyamnarayan Shukla alias Ravi Kishan\", \"BJP\", \"GORAKHPUR\", \"Uttar Pradesh\", \"Yes\"], [\"MULAYAM SINGH YADAV\", \"SP\", \"MAINPURI\", \"Uttar Pradesh\", \"Yes\"], [\"Keshari Devi Patel\", \"BJP\", \"PHULPUR\", \"Uttar Pradesh\", \"Yes\"], [\"Kamlesh Paswan\", \"BJP\", \"BANSGAON\", \"Uttar Pradesh\", \"Yes\"], [\"KUNWAR PUSHPENDRA SINGH CHANDEL\", \"BJP\", \"HAMIRPUR\", \"Uttar Pradesh\", \"Yes\"], [\"SHYAM SINGH YADAV\", \"BSP\", \"JAUNPUR\", \"Uttar Pradesh\", \"Yes\"], [\"AFZAL ANSARI\", \"BSP\", \"GHAZIPUR\", \"Uttar Pradesh\", \"Yes\"], [\"Satyadev Pachauri\", \"BJP\", \"KANPUR\", \"Uttar Pradesh\", \"Yes\"], [\"SANTOSH KUMAR GANGWAR\", \"BJP\", \"BAREILLY\", \"Uttar Pradesh\", \"Yes\"], [\"SONIA GANDHI\", \"INC\", \"RAE BARELI\", \"Uttar Pradesh\", \"Yes\"], [\"Smriti Irani\", \"BJP\", \"AMETHI\", \"Uttar Pradesh\", \"Yes\"], [\"SATISH KUMAR GAUTAM\", \"BJP\", \"ALIGARH\", \"Uttar Pradesh\", \"Yes\"], [\"JAGDAMBIKA PAL\", \"BJP\", \"DOMARIYAGANJ\", \"Uttar Pradesh\", \"Yes\"], [\"Brijbhusan Sharan Singh\", \"BJP\", \"KAISERGANJ\", \"Uttar Pradesh\", \"Yes\"], [\"RAMESH CHAND\", \"BJP\", \"BHADOHI\", \"Uttar Pradesh\", \"Yes\"], [\"Sangeeta Azad\", \"BSP\", \"LALGANJ\", \"Uttar Pradesh\", \"Yes\"], [\"Dr. SATYAPAL SINGH\", \"BJP\", \"BAGHPAT\", \"Uttar Pradesh\", \"Yes\"], [\"Mukesh Rajput\", \"BJP\", \"FARRUKHABAD\", \"Uttar Pradesh\", \"Yes\"], [\"KUNWAR DANISH ALI\", \"BSP\", \"AMROHA\", \"Uttar Pradesh\", \"Yes\"], [\"Satyapal Singh Baghel\", \"BJP\", \"AGRA\", \"Uttar Pradesh\", \"Yes\"], [\"Rajesh Verma\", \"BJP\", \"SITAPUR\", \"Uttar Pradesh\", \"Yes\"], [\"ATUL KUMAR SINGH\", \"BSP\", \"GHOSI\", \"Uttar Pradesh\", \"Yes\"], [\"VINOD KUMAR SONKAR\", \"BJP\", \"KAUSHAMBI\", \"Uttar Pradesh\", \"Yes\"], [\"Vijay Kumar Singh\", \"BJP\", \"GHAZIABAD\", \"Uttar Pradesh\", \"Yes\"], [\"Dr. S.T. HASAN\", \"SP\", \"MORADABAD\", \"Uttar Pradesh\", \"Yes\"], [\"R.K. SINGH PATEL\", \"BJP\", \"BANDA\", \"Uttar Pradesh\", \"Yes\"], [\"Kaushal Kishore\", \"BJP\", \"MOHANLALGANJ\", \"Uttar Pradesh\", \"Yes\"], [\"SUBRAT PATHAK\", \"BJP\", \"KANNAUJ\", \"Uttar Pradesh\", \"Yes\"], [\"Rajnath Singh\", \"BJP\", \"LUCKNOW\", \"Uttar Pradesh\", \"Yes\"], [\"Ashok Kumar Rawat\", \"BJP\", \"MISRIKH\", \"Uttar Pradesh\", \"Yes\"], [\"HAJI FAZLUR REHMAN\", \"BSP\", \"SAHARANPUR\", \"Uttar Pradesh\", \"Yes\"], [\"Mohammad Azam Khan\", \"SP\", \"RAMPUR\", \"Uttar Pradesh\", \"Yes\"], [\"AKSHAIBAR LAL\", \"BJP\", \"BAHRAICH\", \"Uttar Pradesh\", \"Yes\"], [\"Ajay Kumar\", \"BJP\", \"KHERI\", \"Uttar Pradesh\", \"Yes\"], [\"Arun Kumar Sagar\", \"BJP\", \"SHAHJAHANPUR\", \"Uttar Pradesh\", \"Yes\"], [\"Dr. Chandra Sen Jadon\", \"BJP\", \"FIROZABAD\", \"Uttar Pradesh\", \"Yes\"], [\"Swami Sakshi Ji Maharaj\", \"BJP\", \"UNNAO\", \"Uttar Pradesh\", \"Yes\"], [\"Dr. Mahendra Nath Pandey\", \"BJP\", \"CHANDAULI\", \"Uttar Pradesh\", \"Yes\"], [\"LALLU SINGH\", \"BJP\", \"FAIZABAD\", \"Uttar Pradesh\", \"Yes\"], [\"RAMAPATI RAM TRIPATHI\", \"BJP\", \"DEORIA\", \"Uttar Pradesh\", \"Yes\"], [\"GIRISH CHANDRA\", \"BSP\", \"NAGINA\", \"Uttar Pradesh\", \"Yes\"], [\"Devendra Singh 'Bhole'\", \"BJP\", \"AKBARPUR\", \"Uttar Pradesh\", \"Yes\"], [\"RAVINDER\", \"BJP\", \"SALEMPUR\", \"Uttar Pradesh\", \"Yes\"], [\"Rita Bahuguna Joshi\", \"BJP\", \"ALLAHABAD\", \"Uttar Pradesh\", \"Yes\"], [\"Anupriya Singh Patel\", \"ADAL\", \"MIRZAPUR\", \"Uttar Pradesh\", \"Yes\"], [\"NARENDRA MODI\", \"BJP\", \"VARANASI\", \"Uttar Pradesh\", \"Yes\"], [\"REKHA VERMA\", \"BJP\", \"DHAURAHRA\", \"Uttar Pradesh\", \"Yes\"], [\"Virendra Singh\", \"BJP\", \"BALLIA\", \"Uttar Pradesh\", \"Yes\"], [\"PAKAURI LAL KOL\", \"ADAL\", \"ROBERTSGANJ\", \"Uttar Pradesh\", \"Yes\"], [\"VIJAY KUMAR DUBEY\", \"BJP\", \"KUSHI NAGAR\", \"Uttar Pradesh\", \"Yes\"], [\"DHARMENDRA KASHYAP\", \"BJP\", \"AONLA\", \"Uttar Pradesh\", \"Yes\"], [\"RAM SHIROMANI\", \"BSP\", \"SHRAWASTI\", \"Uttar Pradesh\", \"Yes\"], [\"BHOLA SINGH\", \"BJP\", \"BULANDSHAHR\", \"Uttar Pradesh\", \"Yes\"], [\"Upendra Singh Rawat\", \"BJP\", \"BARABANKI\", \"Uttar Pradesh\", \"Yes\"], [\"Pradeep Kumar\", \"BJP\", \"KAIRANA\", \"Uttar Pradesh\", \"Yes\"], [\"Sanjeev Kumar Balyan\", \"BJP\", \"MUZAFFARNAGAR\", \"Uttar Pradesh\", \"Yes\"], [\"RAJVIR DILER\", \"BJP\", \"HATHRAS\", \"Uttar Pradesh\", \"Yes\"], [\"RAJKUMAR CHAHAR\", \"BJP\", \"FATEHPUR SIKRI\", \"Uttar Pradesh\", \"Yes\"], [\"RAJENDRA AGARWAL\", \"BJP\", \"MEERUT\", \"Uttar Pradesh\", \"Yes\"], [\"DR. SHAFIQUR REHMAN BARQ\", \"SP\", \"SAMBHAL\", \"Uttar Pradesh\", \"Yes\"], [\"BHANU PRATAP SINGH VERMA\", \"BJP\", \"JALAUN\", \"Uttar Pradesh\", \"Yes\"], [\"NIRANJAN JYOTI\", \"BJP\", \"FATEHPUR\", \"Uttar Pradesh\", \"Yes\"], [\"HARISH CHANDRA ALIAS HARISH DWIVEDI\", \"BJP\", \"BASTI\", \"Uttar Pradesh\", \"Yes\"], [\"PRAVEEN KUMAR NISHAD\", \"BJP\", \"SANT KABIR NAGAR\", \"Uttar Pradesh\", \"Yes\"]], \"hoverlabel\": {\"namelength\": 0}, \"hovertemplate\": \"STATE=%{customdata[3]}<br>ASSETS=%{marker.size}<br>LIABILITIES=%{y}<br>NAME=%{customdata[0]}<br>PARTY=%{customdata[1]}<br>CONSTITUENCY=%{customdata[2]}<br>WINNER=%{customdata[4]}\", \"legendgroup\": \"STATE=Uttar Pradesh\", \"marker\": {\"color\": \"#FFA15A\", \"size\": [2508270292, 2499628021, 1243060113, 603200539, 556926451, 478759568, 383629735, 377859166, 371827109, 307265103, 259027394, 248789514, 234032624, 232735285, 208494688, 205604593, 172707104, 171706883, 167159924, 140717620, 137938756, 132382819, 126356142, 118263916, 111099609, 109522559, 103366710, 98905402, 94089148, 88451770, 78195793, 74964501, 74920879, 74274036, 73129716, 66536025, 59336113, 56545702, 55795546, 55794086, 55530561, 54287991, 51492709, 48771207, 46146135, 46124814, 45691463, 45295455, 43448049, 42872395, 40886941, 33359734, 31884642, 29451678, 28659644, 28546617, 27031724, 26919330, 26900662, 25136119, 24735488, 24498319, 23048078, 21860780, 21766502, 19108216, 18728861, 18050127, 17292937, 15781189, 14930000, 14854247, 13489377, 13296671, 10699516, 10667372, 8662344, 4300614], \"sizemode\": \"area\", \"sizeref\": 16504866.8925, \"symbol\": \"circle\"}, \"mode\": \"markers\", \"name\": \"STATE=Uttar Pradesh\", \"showlegend\": true, \"type\": \"scatter\", \"x\": [2508270292, 2499628021, 1243060113, 603200539, 556926451, 478759568, 383629735, 377859166, 371827109, 307265103, 259027394, 248789514, 234032624, 232735285, 208494688, 205604593, 172707104, 171706883, 167159924, 140717620, 137938756, 132382819, 126356142, 118263916, 111099609, 109522559, 103366710, 98905402, 94089148, 88451770, 78195793, 74964501, 74920879, 74274036, 73129716, 66536025, 59336113, 56545702, 55795546, 55794086, 55530561, 54287991, 51492709, 48771207, 46146135, 46124814, 45691463, 45295455, 43448049, 42872395, 40886941, 33359734, 31884642, 29451678, 28659644, 28546617, 27031724, 26919330, 26900662, 25136119, 24735488, 24498319, 23048078, 21860780, 21766502, 19108216, 18728861, 18050127, 17292937, 15781189, 14930000, 14854247, 13489377, 13296671, 10699516, 10667372, 8662344, 4300614], \"xaxis\": \"x\", \"y\": [131288062, 1016148176, 14212970, 28952800, 11935800, 43863749, 100220000, 2853000, 4483048, 24739098, 11194163, 8895225, 2615368, 23201603, 17711043, 22055657, 6505194, 6049264, 35502582, 3577000, 0, 31052190, 13055209, 0, 0, 28095176, 2838478, 61524736, 21696413, 0, 0, 388246, 19579691, 8606522, 108148, 3454591, 20730086, 0, 500000, 0, 0, 28993930, 0, 5735470, 60000, 0, 3028133, 0, 1179697, 0, 699025, 0, 11276478, 9310684, 9062600, 559965, 249400, 1600000, 1805603, 0, 7095916, 0, 684133, 316847, 3324300, 350000, 0, 3171774, 1300000, 2373645, 0, 356404, 1990094, 0, 12265, 910148, 322490, 2326248], \"yaxis\": \"y\"}, {\"customdata\": [[\"SUKHBIR SINGH BADAL\", \"SAD\", \"FIROZPUR\", \"Punjab\", \"Yes\"], [\"Harsimrat Kaur Badal\", \"SAD\", \"BATHINDA\", \"Punjab\", \"Yes\"], [\"SUNNY DEOL\", \"BJP\", \"GURDASPUR\", \"Punjab\", \"Yes\"], [\"Preneet Kaur\", \"INC\", \"PATIALA\", \"Punjab\", \"Yes\"], [\"Manish Tewari\", \"INC\", \"ANANDPUR SAHIB\", \"Punjab\", \"Yes\"], [\"Santokh Singh Chaudhary\", \"INC\", \"JALANDHAR\", \"Punjab\", \"Yes\"], [\"JASBIR SINGH GILL (DIMPA)\", \"INC\", \"KHADOOR SAHIB\", \"Punjab\", \"Yes\"], [\"RAVNEET SINGH BITTU\", \"INC\", \"LUDHIANA\", \"Punjab\", \"Yes\"], [\"GURJEET SINGH AUJLA\", \"INC\", \"AMRITSAR\", \"Punjab\", \"Yes\"], [\"AMAR SINGH\", \"INC\", \"FATEHGARH SAHIB\", \"Punjab\", \"Yes\"], [\"SOM PARKASH\", \"BJP\", \"HOSHIARPUR\", \"Punjab\", \"Yes\"], [\"Mohammad Sadique\", \"INC\", \"FARIDKOT\", \"Punjab\", \"Yes\"], [\"BHAGWANT MANN\", \"AAP\", \"SANGRUR\", \"Punjab\", \"Yes\"]], \"hoverlabel\": {\"namelength\": 0}, \"hovertemplate\": \"STATE=%{customdata[3]}<br>ASSETS=%{marker.size}<br>LIABILITIES=%{y}<br>NAME=%{customdata[0]}<br>PARTY=%{customdata[1]}<br>CONSTITUENCY=%{customdata[2]}<br>WINNER=%{customdata[4]}\", \"legendgroup\": \"STATE=Punjab\", \"marker\": {\"color\": \"#19d3f3\", \"size\": [2179919870, 2179919870, 871925679, 635973757, 154637860, 99925185, 81393500, 54281096, 34011739, 32808836, 29404519, 19793884, 16427274], \"sizemode\": \"area\", \"sizeref\": 16504866.8925, \"symbol\": \"circle\"}, \"mode\": \"markers\", \"name\": \"STATE=Punjab\", \"showlegend\": true, \"type\": \"scatter\", \"x\": [2179919870, 2179919870, 871925679, 635973757, 154637860, 99925185, 81393500, 54281096, 34011739, 32808836, 29404519, 19793884, 16427274], \"xaxis\": \"x\", \"y\": [954852600, 954852600, 534644785, 42453369, 0, 2534363, 4655000, 3331266, 9031565, 0, 0, 311043, 0], \"yaxis\": \"y\"}, {\"customdata\": [[\"SHRIMANT CHH. UDAYANRAJE PRATAPSINHMAHARAJ BHONSLE\", \"NCP\", \"SATARA\", \"Maharashtra\", \"Yes\"], [\"Supriya Sule\", \"NCP\", \"BARAMATI\", \"Maharashtra\", \"Yes\"], [\"Ranjeetsinha Hindurao Naik- Nimbalkar\", \"BJP\", \"MADHA\", \"Maharashtra\", \"Yes\"], [\"SHRIRANG APPA CHANDU BARNE\", \"SHS\", \"MAVAL\", \"Maharashtra\", \"Yes\"], [\"Sunil Baburao Mendhe\", \"BJP\", \"BHANDARA - GONDIYA\", \"Maharashtra\", \"Yes\"], [\"KAPIL MORESHWAR PATIL\", \"BJP\", \"BHIWANDI\", \"Maharashtra\", \"Yes\"], [\"Sudhakar Tukaram Shrangare\", \"BJP\", \"LATUR\", \"Maharashtra\", \"Yes\"], [\"Dr. Heena Vijaykumar Gavit\", \"BJP\", \"NANDURBAR\", \"Maharashtra\", \"Yes\"], [\"Sanjaykaka Patil\", \"BJP\", \"SANGLI\", \"Maharashtra\", \"Yes\"], [\"NITIN JAIRAM GADKARI\", \"BJP\", \"NAGPUR\", \"Maharashtra\", \"Yes\"], [\"RAJAN BABURAO VICHARE\", \"SHS\", \"THANE\", \"Maharashtra\", \"Yes\"], [\"Khadse Raksha Nikhil\", \"BJP\", \"RAVER\", \"Maharashtra\", \"Yes\"], [\"Dr. SUJAY RADHAKRISHNA VIKHEPATIL\", \"BJP\", \"AHMADNAGAR\", \"Maharashtra\", \"Yes\"], [\"Bhamre Subhash Ramrao\", \"BJP\", \"DHULE\", \"Maharashtra\", \"Yes\"], [\"Gopal Shetty\", \"BJP\", \"MUMBAI NORTH\", \"Maharashtra\", \"Yes\"], [\"Godse Hemant Tukaram\", \"SHS\", \"NASHIK\", \"Maharashtra\", \"Yes\"], [\"Balubhau alias Suresh Narayan Dhanorkar\", \"INC\", \"CHANDRAPUR\", \"Maharashtra\", \"Yes\"], [\"Tatkare Sunil Dattatray\", \"NCP\", \"RAIGAD\", \"Maharashtra\", \"Yes\"], [\"Navnit Ravi Rana\", \"IND\", \"AMRAVATI\", \"Maharashtra\", \"Yes\"], [\"Dr. Bharati Pravin Pawar\", \"BJP\", \"DINDORI\", \"Maharashtra\", \"Yes\"], [\"Jadhav Prataprao Ganpatrao\", \"SHS\", \"BULDHANA\", \"Maharashtra\", \"Yes\"], [\"SADASHIV KISAN LOKHANDE\", \"SHS\", \"SHIRDI\", \"Maharashtra\", \"Yes\"], [\"Gajanan Kirtikar\", \"SHS\", \"MUMBAI NORTH WEST\", \"Maharashtra\", \"Yes\"], [\"Bhavana Pundlikrao Gawali\", \"SHS\", \"YAVATMAL-WASHIM\", \"Maharashtra\", \"Yes\"], [\"Krupal Balaji Tumane\", \"SHS\", \"RAMTEK\", \"Maharashtra\", \"Yes\"], [\"Sanjay Sadashivrao Mandlik\", \"SHS\", \"KOLHAPUR\", \"Maharashtra\", \"Yes\"], [\"Rajendra Dhedya Gavit\", \"SHS\", \"PALGHAR\", \"Maharashtra\", \"Yes\"], [\"Dhotre Sanjay Shamrao\", \"BJP\", \"AKOLA\", \"Maharashtra\", \"Yes\"], [\"Ramdas Chandrabhanji Tadas\", \"BJP\", \"WARDHA\", \"Maharashtra\", \"Yes\"], [\"Girish Bhalchandra Bapat\", \"BJP\", \"PUNE\", \"Maharashtra\", \"Yes\"], [\"Manoj Kotak\", \"BJP\", \"MUMBAI NORTH EAST\", \"Maharashtra\", \"Yes\"], [\"Prataprao Patil Chikhalikar\", \"BJP\", \"NANDED\", \"Maharashtra\", \"Yes\"], [\"Vinayak Raut\", \"SHS\", \"RATNAGIRI - SINDHUDURG\", \"Maharashtra\", \"Yes\"], [\"Omprakash Bhupalsinh Alias Pawan Rajenimbalkar\", \"SHS\", \"OSMANABAD\", \"Maharashtra\", \"Yes\"], [\"ASHOK MAHADEORAO NETE\", \"BJP\", \"GADCHIROLI-CHIMUR\", \"Maharashtra\", \"Yes\"], [\"Dhairyasheel Sambhajirao Mane\", \"SHS\", \"HATKANANGLE\", \"Maharashtra\", \"Yes\"], [\"Dr. Amol Ramsing Kolhe\", \"NCP\", \"SHIRUR\", \"Maharashtra\", \"Yes\"], [\"JADHAV SANJAY (BANDU) HARIBHAU\", \"SHS\", \"PARBHANI\", \"Maharashtra\", \"Yes\"], [\"Imtiaz Jaleel Syed\", \"AIMIM\", \"AURANGABAD\", \"Maharashtra\", \"Yes\"], [\"SHRI. SHA. BRA. DR. JAI SIDHESHWAR SHIVACHARY MAHASWAMIJI\", \"BJP\", \"SOLAPUR\", \"Maharashtra\", \"Yes\"], [\"Arvind Ganpat Sawant\", \"SHS\", \"MUMBAI SOUTH\", \"Maharashtra\", \"Yes\"], [\"POONAM MAHAJAN\", \"BJP\", \"MUMBAI NORTH CENTRAL\", \"Maharashtra\", \"Yes\"], [\"Dr. SHRIKANT EKNATH SHINDE\", \"SHS\", \"KALYAN\", \"Maharashtra\", \"Yes\"], [\"Rahul Ramesh Shewale\", \"SHS\", \"MUMBAI SOUTH CENTRAL\", \"Maharashtra\", \"Yes\"], [\"Hemant Patil\", \"SHS\", \"HINGOLI\", \"Maharashtra\", \"Yes\"], [\"Unmesh Bhaiyyasaheb Patil\", \"BJP\", \"JALGAON\", \"Maharashtra\", \"Yes\"], [\"Pritam Gopinathrao Munde\", \"BJP\", \"BEED\", \"Maharashtra\", \"Yes\"]], \"hoverlabel\": {\"namelength\": 0}, \"hovertemplate\": \"STATE=%{customdata[3]}<br>ASSETS=%{marker.size}<br>LIABILITIES=%{y}<br>NAME=%{customdata[0]}<br>PARTY=%{customdata[1]}<br>CONSTITUENCY=%{customdata[2]}<br>WINNER=%{customdata[4]}\", \"legendgroup\": \"STATE=Maharashtra\", \"marker\": {\"color\": \"#FF6692\", \"size\": [1996813173, 1408888704, 1275160578, 1023310134, 627543615, 418850781, 286478302, 271634532, 191192187, 187916075, 181441465, 172713734, 168664576, 158651112, 157535232, 146869996, 137455342, 127487277, 124554656, 122885349, 116272966, 113710526, 105392000, 96873189, 95603165, 95171892, 87616920, 77153230, 65807822, 57959302, 54661944, 52178606, 50660534, 50299295, 50136369, 47771462, 43351521, 41040011, 29562768, 27870079, 27181577, 22242513, 19616515, 18881363, 18594458, 12324604, 4654000], \"sizemode\": \"area\", \"sizeref\": 16504866.8925, \"symbol\": \"circle\"}, \"mode\": \"markers\", \"name\": \"STATE=Maharashtra\", \"showlegend\": true, \"type\": \"scatter\", \"x\": [1996813173, 1408888704, 1275160578, 1023310134, 627543615, 418850781, 286478302, 271634532, 191192187, 187916075, 181441465, 172713734, 168664576, 158651112, 157535232, 146869996, 137455342, 127487277, 124554656, 122885349, 116272966, 113710526, 105392000, 96873189, 95603165, 95171892, 87616920, 77153230, 65807822, 57959302, 54661944, 52178606, 50660534, 50299295, 50136369, 47771462, 43351521, 41040011, 29562768, 27870079, 27181577, 22242513, 19616515, 18881363, 18594458, 12324604, 4654000], \"xaxis\": \"x\", \"y\": [12340338, 5500000, 896315287, 416612, 19861338, 5645459, 100250602, 15291251, 23345328, 40729055, 54080733, 0, 2623964, 1000000, 21136135, 41083126, 22752880, 3221073, 70576979, 1449572, 735482, 205100, 4032000, 7396250, 4228793, 10580414, 30223375, 14985774, 8961387, 1793891, 2048000, 594000, 2830000, 10045858, 15682840, 41599959, 1488116, 4519583, 6800000, 0, 0, 0, 1241233, 7778954, 1299983, 2529954, 1622000], \"yaxis\": \"y\"}, {\"customdata\": [[\"MALA RAJYA LAXMI SHAH\", \"BJP\", \"TEHRI GARHWAL\", \"Uttarakhand\", \"Yes\"], [\"Ramesh Pokhriyal 'Nishank'\", \"BJP\", \"HARDWAR\", \"Uttarakhand\", \"Yes\"], [\"Ajay Bhatt\", \"BJP\", \"NAINITAL-UDHAMSINGH NAGAR\", \"Uttarakhand\", \"Yes\"], [\"Tirath Singh Rawat\", \"BJP\", \"GARHWAL\", \"Uttarakhand\", \"Yes\"], [\"Ajay Tamta\", \"BJP\", \"ALMORA\", \"Uttarakhand\", \"Yes\"]], \"hoverlabel\": {\"namelength\": 0}, \"hovertemplate\": \"STATE=%{customdata[3]}<br>ASSETS=%{marker.size}<br>LIABILITIES=%{y}<br>NAME=%{customdata[0]}<br>PARTY=%{customdata[1]}<br>CONSTITUENCY=%{customdata[2]}<br>WINNER=%{customdata[4]}\", \"legendgroup\": \"STATE=Uttarakhand\", \"marker\": {\"color\": \"#B6E880\", \"size\": [1846640100, 28739888, 19699529, 15032657, 9910448], \"sizemode\": \"area\", \"sizeref\": 16504866.8925, \"symbol\": \"circle\"}, \"mode\": \"markers\", \"name\": \"STATE=Uttarakhand\", \"showlegend\": true, \"type\": \"scatter\", \"x\": [1846640100, 28739888, 19699529, 15032657, 9910448], \"xaxis\": \"x\", \"y\": [1350000000, 16444, 0, 3500000, 55845], \"yaxis\": \"y\"}, {\"customdata\": [[\"Dr. G. Ranjith Reddy\", \"TRS\", \"CHEVELLA\", \"Telangana\", \"Yes\"], [\"B.B.PATIL\", \"TRS\", \"ZAHIRABAD\", \"Telangana\", \"Yes\"], [\"Kotha Prabhakar Reddy\", \"TRS\", \"MEDAK\", \"Telangana\", \"Yes\"], [\"NAMA NAGESWR RAO\", \"TRS\", \"KHAMMAM\", \"Telangana\", \"Yes\"], [\"ARVIND DHARMAPURI\", \"BJP\", \"NIZAMABAD\", \"Telangana\", \"Yes\"], [\"ANUMULA REVANTH REDDY\", \"INC\", \"MALKAJGIRI\", \"Telangana\", \"Yes\"], [\"ASADUDDIN OWAISI\", \"AIMIM\", \"HYDERABAD\", \"Telangana\", \"Yes\"], [\"Komati Reddy Venkat Reddy\", \"INC\", \"BHONGIR\", \"Telangana\", \"Yes\"], [\"G . KISHAN REDDY\", \"BJP\", \"SECUNDRABAD\", \"Telangana\", \"Yes\"], [\"MANNE SRINIVAS REDDY\", \"TRS\", \"MAHBUBNAGAR\", \"Telangana\", \"Yes\"], [\"UTTAM KUMAR REDDY NALAMADA\", \"INC\", \"NALGONDA\", \"Telangana\", \"Yes\"], [\"DAYAKAR PASUNOORI\", \"TRS\", \"WARANGAL\", \"Telangana\", \"Yes\"], [\"Kavitha Malothu\", \"TRS\", \"MAHABUBABAD\", \"Telangana\", \"Yes\"], [\"Venkatesh Netha Borlakunta\", \"TRS\", \"PEDDAPALLE\", \"Telangana\", \"Yes\"], [\"POTHUGANTI RAMULU\", \"TRS\", \"NAGARKURNOOL\", \"Telangana\", \"Yes\"], [\"SOYAM BAPU RAO\", \"BJP\", \"ADILABAD\", \"Telangana\", \"Yes\"], [\"BANDI SANJAY KUMAR\", \"BJP\", \"KARIMNAGAR\", \"Telangana\", \"Yes\"]], \"hoverlabel\": {\"namelength\": 0}, \"hovertemplate\": \"STATE=%{customdata[3]}<br>ASSETS=%{marker.size}<br>LIABILITIES=%{y}<br>NAME=%{customdata[0]}<br>PARTY=%{customdata[1]}<br>CONSTITUENCY=%{customdata[2]}<br>WINNER=%{customdata[4]}\", \"legendgroup\": \"STATE=Telangana\", \"marker\": {\"color\": \"#FF97FF\", \"size\": [1634695131, 1287851556, 1266581773, 1074671341, 876930468, 245357182, 179044376, 162543845, 81430778, 63353123, 31501349, 24889712, 19731269, 16597300, 10778684, 3099414, 2270000], \"sizemode\": \"area\", \"sizeref\": 16504866.8925, \"symbol\": \"circle\"}, \"mode\": \"markers\", \"name\": \"STATE=Telangana\", \"showlegend\": true, \"type\": \"scatter\", \"x\": [1634695131, 1287851556, 1266581773, 1074671341, 876930468, 245357182, 179044376, 162543845, 81430778, 63353123, 31501349, 24889712, 19731269, 16597300, 10778684, 3099414, 2270000], \"xaxis\": \"x\", \"y\": [197007553, 11535000, 268266203, 80721594, 337580746, 27807304, 120500000, 24069129, 4500000, 4569251, 1200000, 1428227, 1252068, 0, 0, 231450, 1341800], \"yaxis\": \"y\"}, {\"customdata\": [[\"GAUTAM GAMBHIR\", \"BJP\", \"EAST DELHI\", \"NCT OF Delhi\", \"Yes\"], [\"MEENAKASHI LEKHI\", \"BJP\", \"NEW DELHI\", \"NCT OF Delhi\", \"Yes\"], [\"MANOJ TIWARI\", \"BJP\", \"NORTH EAST DELHI\", \"NCT OF Delhi\", \"Yes\"], [\"RAMESH BIDHURI\", \"BJP\", \"SOUTH DELHI\", \"NCT OF Delhi\", \"Yes\"], [\"PARVESH SAHIB SINGH VERMA\", \"BJP\", \"WEST DELHI\", \"NCT OF Delhi\", \"Yes\"], [\"HANS RAJ HANS\", \"BJP\", \"NORTH WEST DELHI\", \"NCT OF Delhi\", \"Yes\"], [\"HARSH VARDHAN\", \"BJP\", \"CHANDNI CHOWK\", \"NCT OF Delhi\", \"Yes\"]], \"hoverlabel\": {\"namelength\": 0}, \"hovertemplate\": \"STATE=%{customdata[3]}<br>ASSETS=%{marker.size}<br>LIABILITIES=%{y}<br>NAME=%{customdata[0]}<br>PARTY=%{customdata[1]}<br>CONSTITUENCY=%{customdata[2]}<br>WINNER=%{customdata[4]}\", \"legendgroup\": \"STATE=NCT OF Delhi\", \"marker\": {\"color\": \"#FECB52\", \"size\": [1471587789, 361441689, 242817031, 180052708, 155195014, 130937732, 30171897], \"sizemode\": \"area\", \"sizeref\": 16504866.8925, \"symbol\": \"circle\"}, \"mode\": \"markers\", \"name\": \"STATE=NCT OF Delhi\", \"showlegend\": true, \"type\": \"scatter\", \"x\": [1471587789, 361441689, 242817031, 180052708, 155195014, 130937732, 30171897], \"xaxis\": \"x\", \"y\": [342035860, 7938378, 13618755, 2038454, 40097329, 47897494, 0], \"yaxis\": \"y\"}, {\"customdata\": [[\"Sukhbir Singh Jaunapuria\", \"BJP\", \"TONK-SAWAI MADHOPUR\", \"Rajasthan\", \"Yes\"], [\"P. P. CHAUDHARY\", \"BJP\", \"PALI\", \"Rajasthan\", \"Yes\"], [\"DUSHYANT SINGH\", \"BJP\", \"JHALAWAR-BARAN\", \"Rajasthan\", \"Yes\"], [\"SUBHASH CHANDRA BAHERIA\", \"BJP\", \"BHILWARA\", \"Rajasthan\", \"Yes\"], [\"Diya Kumari\", \"BJP\", \"RAJSAMAND\", \"Rajasthan\", \"Yes\"], [\"Ramcharan Bohra\", \"BJP\", \"JAIPUR\", \"Rajasthan\", \"Yes\"], [\"Jaskaur Meena\", \"BJP\", \"DAUSA\", \"Rajasthan\", \"Yes\"], [\"Gajendra Singh Shekhawat\", \"BJP\", \"JODHPUR\", \"Rajasthan\", \"Yes\"], [\"COL. RAJYAVARDHAN RATHORE\", \"BJP\", \"JAIPUR RURAL\", \"Rajasthan\", \"Yes\"], [\"Devaji Patel\", \"BJP\", \"JALORE\", \"Rajasthan\", \"Yes\"], [\"Bhagirath Chaudhary\", \"BJP\", \"AJMER\", \"Rajasthan\", \"Yes\"], [\"MANOJ RAJORIA\", \"BJP\", \"KARAULI-DHOLPUR\", \"Rajasthan\", \"Yes\"], [\"KANAKMAL KATARA\", \"BJP\", \"BANSWARA\", \"Rajasthan\", \"Yes\"], [\"OM BIRLA\", \"BJP\", \"KOTA\", \"Rajasthan\", \"Yes\"], [\"ARJUNLAL MEENA\", \"BJP\", \"UDAIPUR\", \"Rajasthan\", \"Yes\"], [\"NARENDRA KUMAR\", \"BJP\", \"JHUNJHUNU\", \"Rajasthan\", \"Yes\"], [\"RAHUL KASWAN\", \"BJP\", \"CHURU\", \"Rajasthan\", \"Yes\"], [\"ARJUN RAM MEGHWAL\", \"BJP\", \"BIKANER (SC)\", \"Rajasthan\", \"Yes\"], [\"NIHAL CHAND\", \"BJP\", \"GANGANAGAR\", \"Rajasthan\", \"Yes\"], [\"Chandra Prakash Joshi\", \"BJP\", \"CHITTORGARH\", \"Rajasthan\", \"Yes\"], [\"HANUMAN BENIWAL\", \"RLTP\", \"NAGAUR\", \"Rajasthan\", \"Yes\"], [\"RANJEETA KOLI\", \"BJP\", \"BHARATPUR\", \"Rajasthan\", \"Yes\"], [\"Sumedhanand Saraswati\", \"BJP\", \"SIKAR\", \"Rajasthan\", \"Yes\"], [\"KAILASH CHOUDHARY\", \"BJP\", \"BARMER\", \"Rajasthan\", \"Yes\"], [\"Balak Nath\", \"BJP\", \"ALWAR\", \"Rajasthan\", \"Yes\"]], \"hoverlabel\": {\"namelength\": 0}, \"hovertemplate\": \"STATE=%{customdata[3]}<br>ASSETS=%{marker.size}<br>LIABILITIES=%{y}<br>NAME=%{customdata[0]}<br>PARTY=%{customdata[1]}<br>CONSTITUENCY=%{customdata[2]}<br>WINNER=%{customdata[4]}\", \"legendgroup\": \"STATE=Rajasthan\", \"marker\": {\"color\": \"#636efa\", \"size\": [1233802420, 385111923, 370432373, 232703276, 165984623, 165322707, 143742564, 138029511, 127808070, 88332292, 85101774, 64867148, 58711904, 48347737, 48196946, 47474109, 36723865, 23524459, 21014362, 19725115, 4218568, 3117190, 2827638, 2402250, 352929], \"sizemode\": \"area\", \"sizeref\": 16504866.8925, \"symbol\": \"circle\"}, \"mode\": \"markers\", \"name\": \"STATE=Rajasthan\", \"showlegend\": true, \"type\": \"scatter\", \"x\": [1233802420, 385111923, 370432373, 232703276, 165984623, 165322707, 143742564, 138029511, 127808070, 88332292, 85101774, 64867148, 58711904, 48347737, 48196946, 47474109, 36723865, 23524459, 21014362, 19725115, 4218568, 3117190, 2827638, 2402250, 352929], \"xaxis\": \"x\", \"y\": [0, 7278041, 85824156, 1827380, 0, 22000000, 5825431, 58573744, 0, 60936530, 8319942, 22121569, 1746729, 0, 15602872, 3278401, 15163379, 1060314, 3631287, 100000, 0, 0, 2719583, 0, 0], \"yaxis\": \"y\"}, {\"customdata\": [[\"PINAKI MISRA\", \"BJD\", \"PURI\", \"Odisha\", \"Yes\"], [\"Sangeeta Kumari Singh Deo\", \"BJP\", \"BOLANGIR\", \"Odisha\", \"Yes\"], [\"NITESH GANGA DEB\", \"BJP\", \"SAMBALPUR\", \"Odisha\", \"Yes\"], [\"BHARTRUHARI MAHTAB\", \"BJD\", \"CUTTACK\", \"Odisha\", \"Yes\"], [\"Jual Oram\", \"BJP\", \"SUNDARGARH\", \"Odisha\", \"Yes\"], [\"RAJASHREE MALLICK\", \"BJD\", \"JAGATSINGHPUR\", \"Odisha\", \"Yes\"], [\"MANJULATA MANDAL\", \"BJD\", \"BHADRAK\", \"Odisha\", \"Yes\"], [\"SAPTAGIRI SANKAR ULAKA\", \"INC\", \"KORAPUT\", \"Odisha\", \"Yes\"], [\"APARAJITA SARANGI\", \"BJP\", \"BHUBANESWAR\", \"Odisha\", \"Yes\"], [\"Anubhav Mohanty\", \"BJD\", \"KENDRAPARA\", \"Odisha\", \"Yes\"], [\"SARMISTHA SETHI\", \"BJD\", \"JAJPUR\", \"Odisha\", \"Yes\"], [\"MAHESH SAHOO\", \"BJD\", \"DHENKANAL\", \"Odisha\", \"Yes\"], [\"CHANDRA SEKHAR SAHU\", \"BJD\", \"BERHAMPUR\", \"Odisha\", \"Yes\"], [\"Suresh Pujari\", \"BJP\", \"BARGARH\", \"Odisha\", \"Yes\"], [\"BASANTA KUMAR PANDA\", \"BJP\", \"KALAHANDI\", \"Odisha\", \"Yes\"], [\"RAMESH CHANDRA MAJHI\", \"BJD\", \"NABARANGPUR\", \"Odisha\", \"Yes\"], [\"BISHWESWAR TUDU\", \"BJP\", \"MAYURBHANJ\", \"Odisha\", \"Yes\"], [\"PRATAP CHANDRA SARANGI\", \"BJP\", \"BALASORE\", \"Odisha\", \"Yes\"], [\"ACHYUTANANDA SAMANTA\", \"BJD\", \"KANDHAMAL\", \"Odisha\", \"Yes\"], [\"Pramila Bisoyi\", \"BJD\", \"ASKA\", \"Odisha\", \"Yes\"]], \"hoverlabel\": {\"namelength\": 0}, \"hovertemplate\": \"STATE=%{customdata[3]}<br>ASSETS=%{marker.size}<br>LIABILITIES=%{y}<br>NAME=%{customdata[0]}<br>PARTY=%{customdata[1]}<br>CONSTITUENCY=%{customdata[2]}<br>WINNER=%{customdata[4]}\", \"legendgroup\": \"STATE=Odisha\", \"marker\": {\"color\": \"#EF553B\", \"size\": [1174701344, 379590851, 269543587, 106894976, 74185014, 40023972, 39417891, 37587560, 31677600, 22309172, 15837082, 14529286, 11716989, 11673429, 9547000, 8100600, 2742000, 1346236, 1244722, 732470], \"sizemode\": \"area\", \"sizeref\": 16504866.8925, \"symbol\": \"circle\"}, \"mode\": \"markers\", \"name\": \"STATE=Odisha\", \"showlegend\": true, \"type\": \"scatter\", \"x\": [1174701344, 379590851, 269543587, 106894976, 74185014, 40023972, 39417891, 37587560, 31677600, 22309172, 15837082, 14529286, 11716989, 11673429, 9547000, 8100600, 2742000, 1346236, 1244722, 732470], \"xaxis\": \"x\", \"y\": [21932742, 7500000, 10337195, 0, 12743330, 1433305, 8958149, 1217963, 4329959, 4133506, 0, 0, 0, 0, 0, 771000, 400000, 160, 0, 0], \"yaxis\": \"y\"}, {\"customdata\": [[\"BADRUDDIN AJMAL\", \"AIUDF\", \"DHUBRI\", \"Assam\", \"Yes\"], [\"QUEEN OJA\", \"BJP\", \"GAUHATI\", \"Assam\", \"Yes\"], [\"Pradyut Bordoloi\", \"INC\", \"NOWGONG\", \"Assam\", \"Yes\"], [\"RAJDEEP ROY\", \"BJP\", \"SILCHAR\", \"Assam\", \"Yes\"], [\"HOREN SING BEY\", \"BJP\", \"AUTONOMOUS DISTRICT\", \"Assam\", \"Yes\"], [\"PALLAB LOCHAN DAS\", \"BJP\", \"TEZPUR\", \"Assam\", \"Yes\"], [\"PRADAN BARUAH\", \"BJP\", \"LAKHIMPUR\", \"Assam\", \"Yes\"], [\"Gaurav Gogoi\", \"INC\", \"KALIABOR\", \"Assam\", \"Yes\"], [\"Naba Kumar Sarania\", \"IND\", \"KOKRAJHAR\", \"Assam\", \"Yes\"], [\"TOPON KUMAR GOGOI\", \"BJP\", \"JORHAT\", \"Assam\", \"Yes\"], [\"Abdul Khaleque\", \"INC\", \"BARPETA\", \"Assam\", \"Yes\"], [\"DILIP SAIKIA\", \"BJP\", \"MANGALDOI\", \"Assam\", \"Yes\"], [\"RAMESWAR TELI\", \"BJP\", \"DIBRUGARH\", \"Assam\", \"Yes\"], [\"KRIPANATH MALLAH\", \"BJP\", \"KARIMGANJ\", \"Assam\", \"Yes\"]], \"hoverlabel\": {\"namelength\": 0}, \"hovertemplate\": \"STATE=%{customdata[3]}<br>ASSETS=%{marker.size}<br>LIABILITIES=%{y}<br>NAME=%{customdata[0]}<br>PARTY=%{customdata[1]}<br>CONSTITUENCY=%{customdata[2]}<br>WINNER=%{customdata[4]}\", \"legendgroup\": \"STATE=Assam\", \"marker\": {\"color\": \"#00cc96\", \"size\": [788064044, 630219570, 74143272, 29901767, 20693570, 14445139, 14307978, 13727834, 13013994, 12597461, 7398753, 6206286, 4370067, 1871040], \"sizemode\": \"area\", \"sizeref\": 16504866.8925, \"symbol\": \"circle\"}, \"mode\": \"markers\", \"name\": \"STATE=Assam\", \"showlegend\": true, \"type\": \"scatter\", \"x\": [788064044, 630219570, 74143272, 29901767, 20693570, 14445139, 14307978, 13727834, 13013994, 12597461, 7398753, 6206286, 4370067, 1871040], \"xaxis\": \"x\", \"y\": [10159381, 34034178, 4011152, 6976701, 5956209, 0, 5839285, 1250000, 175069, 455398, 2703693, 0, 0, 0], \"yaxis\": \"y\"}, {\"customdata\": [[\"JAYANT SINHA\", \"BJP\", \"HAZARIBAGH\", \"Jharkhand\", \"Yes\"], [\"Nishikant Dubey\", \"BJP\", \"GODDA\", \"Jharkhand\", \"Yes\"], [\"SUNIL KUMAR SINGH\", \"BJP\", \"CHATRA\", \"Jharkhand\", \"Yes\"], [\"ANNPURNA DEVI\", \"BJP\", \"KODARMA\", \"Jharkhand\", \"Yes\"], [\"ARJUN MUNDA\", \"BJP\", \"KHUNTI\", \"Jharkhand\", \"Yes\"], [\"VISHNU DAYAL RAM\", \"BJP\", \"PALAMAU\", \"Jharkhand\", \"Yes\"], [\"Bidyut Baran Mahato\", \"BJP\", \"JAMSHEDPUR\", \"Jharkhand\", \"Yes\"], [\"PASHUPATI NATH SINGH\", \"BJP\", \"DHANBAD\", \"Jharkhand\", \"Yes\"], [\"GEETA KORA\", \"INC\", \"SINGHBHUM\", \"Jharkhand\", \"Yes\"], [\"SANJAY SETH\", \"BJP\", \"RANCHI\", \"Jharkhand\", \"Yes\"], [\"Chandra Prakash Choudhary\", \"AJSUP\", \"GIRIDIH\", \"Jharkhand\", \"Yes\"], [\"SUDARSHAN BHAGAT\", \"BJP\", \"LOHARDAGA\", \"Jharkhand\", \"Yes\"], [\"VIJAY KUMAR HANSDAK\", \"JMM\", \"RAJMAHAL\", \"Jharkhand\", \"Yes\"], [\"SUNIL SOREN\", \"BJP\", \"DUMKA\", \"Jharkhand\", \"Yes\"]], \"hoverlabel\": {\"namelength\": 0}, \"hovertemplate\": \"STATE=%{customdata[3]}<br>ASSETS=%{marker.size}<br>LIABILITIES=%{y}<br>NAME=%{customdata[0]}<br>PARTY=%{customdata[1]}<br>CONSTITUENCY=%{customdata[2]}<br>WINNER=%{customdata[4]}\", \"legendgroup\": \"STATE=Jharkhand\", \"marker\": {\"color\": \"#ab63fa\", \"size\": [770749002, 462757500, 226209137, 97636939, 91507865, 32273873, 27750671, 27286918, 25249018, 14044267, 13456889, 12947303, 12919555, 4737559], \"sizemode\": \"area\", \"sizeref\": 16504866.8925, \"symbol\": \"circle\"}, \"mode\": \"markers\", \"name\": \"STATE=Jharkhand\", \"showlegend\": true, \"type\": \"scatter\", \"x\": [770749002, 462757500, 226209137, 97636939, 91507865, 32273873, 27750671, 27286918, 25249018, 14044267, 13456889, 12947303, 12919555, 4737559], \"xaxis\": \"x\", \"y\": [193271437, 0, 1889051, 3189066, 27106434, 90922, 2961830, 0, 1928508, 100000, 1330000, 525000, 2743560, 685516], \"yaxis\": \"y\"}, {\"customdata\": [[\"DELKAR MOHANBHAI SANJIBHAI\", \"IND\", \"DADRA AND NAGAR HAVELI\", \"Dadra & Nagar Haveli\", \"Yes\"]], \"hoverlabel\": {\"namelength\": 0}, \"hovertemplate\": \"STATE=%{customdata[3]}<br>ASSETS=%{marker.size}<br>LIABILITIES=%{y}<br>NAME=%{customdata[0]}<br>PARTY=%{customdata[1]}<br>CONSTITUENCY=%{customdata[2]}<br>WINNER=%{customdata[4]}\", \"legendgroup\": \"STATE=Dadra & Nagar Haveli\", \"marker\": {\"color\": \"#FFA15A\", \"size\": [708885980], \"sizemode\": \"area\", \"sizeref\": 16504866.8925, \"symbol\": \"circle\"}, \"mode\": \"markers\", \"name\": \"STATE=Dadra & Nagar Haveli\", \"showlegend\": true, \"type\": \"scatter\", \"x\": [708885980], \"xaxis\": \"x\", \"y\": [37268162], \"yaxis\": \"y\"}, {\"customdata\": [[\"MOHAMMAD AKBAR LONE\", \"JKN\", \"BARAMULLA\", \"Jammu & Kashmir\", \"Yes\"], [\"Farooq Abdullah\", \"JKN\", \"SRINAGAR\", \"Jammu & Kashmir\", \"Yes\"], [\"HASNAIN MASOODI\", \"JKN\", \"ANANTNAG\", \"Jammu & Kashmir\", \"Yes\"], [\"DR. JITENDRA SINGH\", \"BJP\", \"UDHAMPUR\", \"Jammu & Kashmir\", \"Yes\"], [\"Jugal Kishore\", \"BJP\", \"JAMMU\", \"Jammu & Kashmir\", \"Yes\"], [\"Jamyang Tsering Namgyal\", \"BJP\", \"LADAKH\", \"Jammu & Kashmir\", \"Yes\"]], \"hoverlabel\": {\"namelength\": 0}, \"hovertemplate\": \"STATE=%{customdata[3]}<br>ASSETS=%{marker.size}<br>LIABILITIES=%{y}<br>NAME=%{customdata[0]}<br>PARTY=%{customdata[1]}<br>CONSTITUENCY=%{customdata[2]}<br>WINNER=%{customdata[4]}\", \"legendgroup\": \"STATE=Jammu & Kashmir\", \"marker\": {\"color\": \"#19d3f3\", \"size\": [597434000, 121904435, 87620672, 70827203, 56481801, 981904], \"sizemode\": \"area\", \"sizeref\": 16504866.8925, \"symbol\": \"circle\"}, \"mode\": \"markers\", \"name\": \"STATE=Jammu & Kashmir\", \"showlegend\": true, \"type\": \"scatter\", \"x\": [597434000, 121904435, 87620672, 70827203, 56481801, 981904], \"xaxis\": \"x\", \"y\": [104935, 0, 0, 0, 350040219, 0], \"yaxis\": \"y\"}, {\"customdata\": [[\"VINCENT H. PALA\", \"INC\", \"SHILLONG\", \"Meghalaya\", \"Yes\"], [\"AGATHA K. SANGMA\", \"NPEP\", \"TURA\", \"Meghalaya\", \"Yes\"]], \"hoverlabel\": {\"namelength\": 0}, \"hovertemplate\": \"STATE=%{customdata[3]}<br>ASSETS=%{marker.size}<br>LIABILITIES=%{y}<br>NAME=%{customdata[0]}<br>PARTY=%{customdata[1]}<br>CONSTITUENCY=%{customdata[2]}<br>WINNER=%{customdata[4]}\", \"legendgroup\": \"STATE=Meghalaya\", \"marker\": {\"color\": \"#FF6692\", \"size\": [549515421, 29406813], \"sizemode\": \"area\", \"sizeref\": 16504866.8925, \"symbol\": \"circle\"}, \"mode\": \"markers\", \"name\": \"STATE=Meghalaya\", \"showlegend\": true, \"type\": \"scatter\", \"x\": [549515421, 29406813], \"xaxis\": \"x\", \"y\": [0, 0], \"yaxis\": \"y\"}, {\"customdata\": [[\"KIRRON KHER\", \"BJP\", \"CHANDIGARH\", \"Chandigarh\", \"Yes\"]], \"hoverlabel\": {\"namelength\": 0}, \"hovertemplate\": \"STATE=%{customdata[3]}<br>ASSETS=%{marker.size}<br>LIABILITIES=%{y}<br>NAME=%{customdata[0]}<br>PARTY=%{customdata[1]}<br>CONSTITUENCY=%{customdata[2]}<br>WINNER=%{customdata[4]}\", \"legendgroup\": \"STATE=Chandigarh\", \"marker\": {\"color\": \"#B6E880\", \"size\": [474983574], \"sizemode\": \"area\", \"sizeref\": 16504866.8925, \"symbol\": \"circle\"}, \"mode\": \"markers\", \"name\": \"STATE=Chandigarh\", \"showlegend\": true, \"type\": \"scatter\", \"x\": [474983574], \"xaxis\": \"x\", \"y\": [6279188], \"yaxis\": \"y\"}, {\"customdata\": [[\"C. R. Patil\", \"BJP\", \"NAVSARI\", \"Gujarat\", \"Yes\"], [\"SHARDABEN ANILBHAI PATEL\", \"BJP\", \"MAHESANA\", \"Gujarat\", \"Yes\"], [\"POONAMBEN HEMATBHAI MAADAM\", \"BJP\", \"JAMNAGAR\", \"Gujarat\", \"Yes\"], [\"AMIT SHAH\", \"BJP\", \"GANDHINAGAR\", \"Gujarat\", \"Yes\"], [\"RAMESHBHAI LAVJIBHAI DHADUK\", \"BJP\", \"PORBANDAR\", \"Gujarat\", \"Yes\"], [\"DR. KIRIT P. SOLANKI\", \"BJP\", \"AHMEDABAD WEST\", \"Gujarat\", \"Yes\"], [\"Dr. MUNJAPARA MAHENDRABHAI\", \"BJP\", \"SURENDRANAGAR\", \"Gujarat\", \"Yes\"], [\"PATEL MITESH RAMESHBHAI (BAKABHAI)\", \"BJP\", \"ANAND\", \"Gujarat\", \"Yes\"], [\"Patel Hasmukhbhai Somabhai\", \"BJP\", \"AHMEDABAD EAST\", \"Gujarat\", \"Yes\"], [\"KUNDARIA MOHANBHAI KALYANJIBHAI\", \"BJP\", \"RAJKOT\", \"Gujarat\", \"Yes\"], [\"Dr.K.C.PATEL\", \"BJP\", \"VALSAD\", \"Gujarat\", \"Yes\"], [\"DABHI BHARATSINHJI SHANKARJI\", \"BJP\", \"PATAN\", \"Gujarat\", \"Yes\"], [\"PARBATBHAI SAVABHAI PATEL\", \"BJP\", \"BANASKANTHA\", \"Gujarat\", \"Yes\"], [\"Kachhadiya Naranbhai Bhikhabhai\", \"BJP\", \"AMRELI\", \"Gujarat\", \"Yes\"], [\"CHAVDA VINOD LAKHAMSHI\", \"BJP\", \"KACHCHH\", \"Gujarat\", \"Yes\"], [\"RANJANBEN BHATT\", \"BJP\", \"VADODARA\", \"Gujarat\", \"Yes\"], [\"PARBHUBHAI NAGARBHAI VASAVA\", \"BJP\", \"BARDOLI\", \"Gujarat\", \"Yes\"], [\"JASHVANTSINH SUMANBHAI BHABHOR\", \"BJP\", \"DAHOD\", \"Gujarat\", \"Yes\"], [\"RATHOD DIPSINH SHANKARSINH\", \"BJP\", \"SABARKANTHA\", \"Gujarat\", \"Yes\"], [\"Darshana Vikram Jardosh\", \"BJP\", \"SURAT\", \"Gujarat\", \"Yes\"], [\"DR.BHARATIBEN DHIRUBHAI SHIYAL\", \"BJP\", \"BHAVNAGAR\", \"Gujarat\", \"Yes\"], [\"Chauhan Devusinh\", \"BJP\", \"KHEDA\", \"Gujarat\", \"Yes\"], [\"CHUDASAMA RAJESHBHAI NARANBHAI\", \"BJP\", \"JUNAGADH\", \"Gujarat\", \"Yes\"], [\"Ratansinh Magansinh Rathod\", \"BJP\", \"PANCHMAHAL\", \"Gujarat\", \"Yes\"], [\"RATHVA GITABEN VAJESINGBHAI\", \"BJP\", \"CHHOTA UDAIPUR\", \"Gujarat\", \"Yes\"], [\"Mansukhbhai Dhanjibhai Vasava\", \"BJP\", \"BHARUCH\", \"Gujarat\", \"Yes\"]], \"hoverlabel\": {\"namelength\": 0}, \"hovertemplate\": \"STATE=%{customdata[3]}<br>ASSETS=%{marker.size}<br>LIABILITIES=%{y}<br>NAME=%{customdata[0]}<br>PARTY=%{customdata[1]}<br>CONSTITUENCY=%{customdata[2]}<br>WINNER=%{customdata[4]}\", \"legendgroup\": \"STATE=Gujarat\", \"marker\": {\"color\": \"#FF97FF\", \"size\": [446044269, 440308300, 427331034, 403275307, 357564783, 89474039, 79084513, 77043053, 74699690, 68818120, 68239480, 47373221, 41819177, 35900763, 33508455, 29426428, 28350217, 27070480, 23997443, 23872876, 17753161, 13023202, 10866041, 10260663, 8634660, 6835957], \"sizemode\": \"area\", \"sizeref\": 16504866.8925, \"symbol\": \"circle\"}, \"mode\": \"markers\", \"name\": \"STATE=Gujarat\", \"showlegend\": true, \"type\": \"scatter\", \"x\": [446044269, 440308300, 427331034, 403275307, 357564783, 89474039, 79084513, 77043053, 74699690, 68818120, 68239480, 47373221, 41819177, 35900763, 33508455, 29426428, 28350217, 27070480, 23997443, 23872876, 17753161, 13023202, 10866041, 10260663, 8634660, 6835957], \"xaxis\": \"x\", \"y\": [56846658, 7477793, 98632194, 4769587, 217944697, 0, 14822528, 7810840, 6252577, 16566856, 0, 5613860, 4500000, 828961, 12458607, 0, 3676869, 0, 0, 0, 3689036, 995240, 1481768, 1081611, 0, 0], \"yaxis\": \"y\"}, {\"customdata\": [[\"RAO INDERJIT SINGH\", \"BJP\", \"GURGAON\", \"Haryana\", \"Yes\"], [\"KRISHAN PAL\", \"BJP\", \"FARIDABAD\", \"Haryana\", \"Yes\"], [\"RAMESH CHANDER KAUSHIK\", \"BJP\", \"SONIPAT\", \"Haryana\", \"Yes\"], [\"BRIJENDRA SINGH\", \"BJP\", \"HISAR\", \"Haryana\", \"Yes\"], [\"Dharambir Singh S/o Bhale Ram\", \"BJP\", \"BHIWANI-MAHENDRAGARH\", \"Haryana\", \"Yes\"], [\"RATTAN LAL KATARIA\", \"BJP\", \"AMBALA\", \"Haryana\", \"Yes\"], [\"Sunita Duggal\", \"BJP\", \"SIRSA\", \"Haryana\", \"Yes\"], [\"ARVIND KUMAR SHARMA\", \"BJP\", \"ROHTAK\", \"Haryana\", \"Yes\"], [\"NAYAB SINGH\", \"BJP\", \"KURUKSHETRA\", \"Haryana\", \"Yes\"], [\"Sanjay Bhatia\", \"BJP\", \"KARNAL\", \"Haryana\", \"Yes\"]], \"hoverlabel\": {\"namelength\": 0}, \"hovertemplate\": \"STATE=%{customdata[3]}<br>ASSETS=%{marker.size}<br>LIABILITIES=%{y}<br>NAME=%{customdata[0]}<br>PARTY=%{customdata[1]}<br>CONSTITUENCY=%{customdata[2]}<br>WINNER=%{customdata[4]}\", \"legendgroup\": \"STATE=Haryana\", \"marker\": {\"color\": \"#FECB52\", \"size\": [420970754, 369652786, 235859266, 146408734, 60642205, 54361499, 42596349, 41079284, 35785621, 2256739], \"sizemode\": \"area\", \"sizeref\": 16504866.8925, \"symbol\": \"circle\"}, \"mode\": \"markers\", \"name\": \"STATE=Haryana\", \"showlegend\": true, \"type\": \"scatter\", \"x\": [420970754, 369652786, 235859266, 146408734, 60642205, 54361499, 42596349, 41079284, 35785621, 2256739], \"xaxis\": \"x\", \"y\": [31500000, 105593242, 0, 27225637, 240000, 188861, 2500000, 16778090, 5720000, 500000], \"yaxis\": \"y\"}, {\"customdata\": [[\"KHALILUR RAHAMAN\", \"AITC\", \"JANGIPUR\", \"West Bengal\", \"Yes\"], [\"ADHIKARI DEEPAK (DEV)\", \"AITC\", \"GHATAL\", \"West Bengal\", \"Yes\"], [\"ABU HASEM KHAN CHOWDHURY (DALU)\", \"INC\", \"MALDAHA DAKSHIN\", \"West Bengal\", \"Yes\"], [\"KALYAN BANERJEE\", \"AITC\", \"SRERAMPUR\", \"West Bengal\", \"Yes\"], [\"RAJU BISTA\", \"BJP\", \"DARJEELING\", \"West Bengal\", \"Yes\"], [\"ADHIR RANJAN CHOWDHURY\", \"INC\", \"BAHARAMPUR\", \"West Bengal\", \"Yes\"], [\"BANDYOPADHYAY SUDIP\", \"AITC\", \"KOLKATA UTTAR\", \"West Bengal\", \"Yes\"], [\"BABUL SUPRIYO\", \"BJP\", \"ASANSOL\", \"West Bengal\", \"Yes\"], [\"SATABDI ROY\", \"AITC\", \"BIRBHUM\", \"West Bengal\", \"Yes\"], [\"SOUGATA RAY\", \"AITC\", \"DUM DUM\", \"West Bengal\", \"Yes\"], [\"Dr. Kakoli Ghoshdastidar\", \"AITC\", \"BARASAT\", \"West Bengal\", \"Yes\"], [\"Adhikari Dibyendu\", \"AITC\", \"TAMLUK\", \"West Bengal\", \"Yes\"], [\"LOCKET CHATTERJEE\", \"BJP\", \"HOOGHLY\", \"West Bengal\", \"Yes\"], [\"Adhikari Sisir\", \"AITC\", \"KANTHI\", \"West Bengal\", \"Yes\"], [\"Nusrat Jahan Ruhi\", \"AITC\", \"BASIRHAT\", \"West Bengal\", \"Yes\"], [\"SAJDA AHMED\", \"AITC\", \"ULUBERIA\", \"West Bengal\", \"Yes\"], [\"PRATIMA MONDAL\", \"AITC\", \"JAYNAGAR\", \"West Bengal\", \"Yes\"], [\"S.S AHLUWALIA\", \"BJP\", \"BARDHAMAN DURGAPUR\", \"West Bengal\", \"Yes\"], [\"MAHUA MOITRA\", \"AITC\", \"KRISHNANAGAR\", \"West Bengal\", \"Yes\"], [\"MIMI CHAKRABORTY\", \"AITC\", \"JADAVPUR\", \"West Bengal\", \"Yes\"], [\"SUNIL KUMAR MONDAL\", \"AITC\", \"BARDHAMAN PURBA\", \"West Bengal\", \"Yes\"], [\"DR. SUBHAS SARKAR\", \"BJP\", \"BANKURA\", \"West Bengal\", \"Yes\"], [\"JAGANNATH SARKAR\", \"BJP\", \"RANAGHAT\", \"West Bengal\", \"Yes\"], [\"ABHISHEK BANERJEE\", \"AITC\", \"DIAMOND HARBOUR\", \"West Bengal\", \"Yes\"], [\"Prasun Banerjee\", \"AITC\", \"HOWRAH\", \"West Bengal\", \"Yes\"], [\"APARUPA PODDAR (AFRIN ALI)\", \"AITC\", \"ARAMBAGH\", \"West Bengal\", \"Yes\"], [\"Dr. JAYANTA KUMAR ROY\", \"BJP\", \"JALPAIGURI\", \"West Bengal\", \"Yes\"], [\"CHOUDHURY MOHAN JATUA\", \"AITC\", \"MATHURAPUR\", \"West Bengal\", \"Yes\"], [\"Kunar Hembram\", \"BJP\", \"JHARGRAM\", \"West Bengal\", \"Yes\"], [\"Mala Roy\", \"AITC\", \"KOLKATA DAKSHIN\", \"West Bengal\", \"Yes\"], [\"KHAGEN MURMU\", \"BJP\", \"MALDAHA UTTAR\", \"West Bengal\", \"Yes\"], [\"NISITH PRAMANIK\", \"BJP\", \"COOCH BEHAR\", \"West Bengal\", \"Yes\"], [\"ABU TAHER KHAN\", \"AITC\", \"MURSHIDABAD\", \"West Bengal\", \"Yes\"], [\"KHAN SAUMITRA\", \"BJP\", \"BISHNUPUR\", \"West Bengal\", \"Yes\"], [\"ARJUN SINGH\", \"BJP\", \"BARRACKPORE\", \"West Bengal\", \"Yes\"], [\"DEBASREE CHAUDHURI\", \"BJP\", \"RAIGANJ\", \"West Bengal\", \"Yes\"], [\"Sukanta Majumdar\", \"BJP\", \"BALURGHAT\", \"West Bengal\", \"Yes\"], [\"SHANTANU THAKUR\", \"BJP\", \"BANGAON\", \"West Bengal\", \"Yes\"], [\"Dilip Ghosh\", \"BJP\", \"MEDINIPUR\", \"West Bengal\", \"Yes\"], [\"JYOTIRMAY SINGH MAHATO\", \"BJP\", \"PURULIA\", \"West Bengal\", \"Yes\"], [\"JOHN BARLA\", \"BJP\", \"ALIPURDUARS\", \"West Bengal\", \"Yes\"], [\"ASIT KUMAR MAL\", \"AITC\", \"BOLPUR\", \"West Bengal\", \"Yes\"]], \"hoverlabel\": {\"namelength\": 0}, \"hovertemplate\": \"STATE=%{customdata[3]}<br>ASSETS=%{marker.size}<br>LIABILITIES=%{y}<br>NAME=%{customdata[0]}<br>PARTY=%{customdata[1]}<br>CONSTITUENCY=%{customdata[2]}<br>WINNER=%{customdata[4]}\", \"legendgroup\": \"STATE=West Bengal\", \"marker\": {\"color\": \"#636efa\", \"size\": [368306705, 317320579, 270959520, 175968902, 151106062, 101315437, 61176355, 59234826, 48652722, 42518790, 40531018, 37687867, 35655698, 33979650, 29088391, 28351569, 27471675, 26521750, 26495250, 24398786, 20371283, 19799440, 17622476, 13794320, 13216066, 12527597, 11625047, 10667304, 10387498, 10308401, 10232439, 9629810, 8926616, 8656777, 8055691, 6139123, 5825866, 5265388, 4536462, 2250540, 1418730, 1310691], \"sizemode\": \"area\", \"sizeref\": 16504866.8925, \"symbol\": \"circle\"}, \"mode\": \"markers\", \"name\": \"STATE=West Bengal\", \"showlegend\": true, \"type\": \"scatter\", \"x\": [368306705, 317320579, 270959520, 175968902, 151106062, 101315437, 61176355, 59234826, 48652722, 42518790, 40531018, 37687867, 35655698, 33979650, 29088391, 28351569, 27471675, 26521750, 26495250, 24398786, 20371283, 19799440, 17622476, 13794320, 13216066, 12527597, 11625047, 10667304, 10387498, 10308401, 10232439, 9629810, 8926616, 8656777, 8055691, 6139123, 5825866, 5265388, 4536462, 2250540, 1418730, 1310691], \"xaxis\": \"x\", \"y\": [2248968, 7879681, 728107, 5522403, 27428941, 8506984, 0, 5722184, 18604443, 0, 1496059, 8397501, 0, 0, 16881608, 5322615, 0, 744076, 671138, 1900788, 148598, 3261495, 0, 0, 0, 4244000, 1352581, 0, 565000, 0, 1070914, 0, 1350000, 1077120, 1100000, 823416, 2168170, 0, 0, 456100, 0, 0], \"yaxis\": \"y\"}, {\"customdata\": [[\"Dr. SHASHI THAROOR\", \"INC\", \"THIRUVANANTHAPURAM\", \"Kerala\", \"Yes\"], [\"Rahul Gandhi\", \"INC\", \"WAYANAD\", \"Kerala\", \"Yes\"], [\"Adv. ADOOR PRAKASH\", \"INC\", \"ATTINGAL\", \"Kerala\", \"Yes\"], [\"K. MURALEEDHARAN\", \"INC\", \"VADAKARA\", \"Kerala\", \"Yes\"], [\"P.K. Kunhalikutty\", \"IUML\", \"MALAPPURAM\", \"Kerala\", \"Yes\"], [\"K. SUDHAKARAN\", \"INC\", \"KANNUR\", \"Kerala\", \"Yes\"], [\"Thomas Chazhikadan\", \"KEC(M)\", \"KOTTAYAM\", \"Kerala\", \"Yes\"], [\"Rajmohan Unnithan\", \"INC\", \"KASARAGOD\", \"Kerala\", \"Yes\"], [\"BENNY BEHANAN\", \"INC\", \"CHALAKUDY\", \"Kerala\", \"Yes\"], [\"N.K.Premachandran\", \"RSP\", \"KOLLAM\", \"Kerala\", \"Yes\"], [\"Adv. A M ARIFF\", \"CPI(M)\", \"ALAPPUZHA\", \"Kerala\", \"Yes\"], [\"Adv. DEAN KURIAKOSE\", \"INC\", \"IDUKKI\", \"Kerala\", \"Yes\"], [\"KODIKUNNIL SURESH\", \"INC\", \"MAVELIKKARA\", \"Kerala\", \"Yes\"], [\"M.K.RAGHAVAN\", \"INC\", \"KOZHIKODE\", \"Kerala\", \"Yes\"], [\"T. N. PRATHAPAN\", \"INC\", \"THRISSUR\", \"Kerala\", \"Yes\"], [\"E. T. Mohammed Basheer\", \"IUML\", \"PONNANI\", \"Kerala\", \"Yes\"], [\"HIBI EDEN\", \"INC\", \"ERNAKULAM\", \"Kerala\", \"Yes\"], [\"V K SREEKANDAN\", \"INC\", \"PALAKKAD\", \"Kerala\", \"Yes\"], [\"ANTO ANTONY\", \"INC\", \"PATHANAMTHITTA\", \"Kerala\", \"Yes\"], [\"RAMYA HARIDAS\", \"INC\", \"ALATHUR\", \"Kerala\", \"Yes\"]], \"hoverlabel\": {\"namelength\": 0}, \"hovertemplate\": \"STATE=%{customdata[3]}<br>ASSETS=%{marker.size}<br>LIABILITIES=%{y}<br>NAME=%{customdata[0]}<br>PARTY=%{customdata[1]}<br>CONSTITUENCY=%{customdata[2]}<br>WINNER=%{customdata[4]}\", \"legendgroup\": \"STATE=Kerala\", \"marker\": {\"color\": \"#EF553B\", \"size\": [350022585, 158877063, 144098612, 114379340, 52932535, 29699206, 26027478, 21570257, 20461931, 17500650, 15268906, 13395011, 12965129, 12502009, 8609349, 8103274, 7908467, 6356399, 6075876, 1152816], \"sizemode\": \"area\", \"sizeref\": 16504866.8925, \"symbol\": \"circle\"}, \"mode\": \"markers\", \"name\": \"STATE=Kerala\", \"showlegend\": true, \"type\": \"scatter\", \"x\": [350022585, 158877063, 144098612, 114379340, 52932535, 29699206, 26027478, 21570257, 20461931, 17500650, 15268906, 13395011, 12965129, 12502009, 8609349, 8103274, 7908467, 6356399, 6075876, 1152816], \"xaxis\": \"x\", \"y\": [0, 7201904, 27622685, 0, 0, 7468633, 495778, 862257, 915938, 3270587, 2220700, 10000000, 982819, 3174805, 2978120, 0, 200000, 2709000, 7723227, 0], \"yaxis\": \"y\"}, {\"customdata\": [[\"Veena Devi (W/o Dinesh Prasad Singh)\", \"LJP\", \"VAISHALI\", \"Bihar\", \"Yes\"], [\"RAMA DEVI\", \"BJP\", \"SHEOHAR\", \"Bihar\", \"Yes\"], [\"Ajay Nishad\", \"BJP\", \"MUZAFFARPUR\", \"Bihar\", \"Yes\"], [\"RAVI SHANKAR PRASAD\", \"BJP\", \"PATNA SAHIB\", \"Bihar\", \"Yes\"], [\"DR. SANJAY JAISWAL\", \"BJP\", \"PASCHIM CHAMPARAN\", \"Bihar\", \"Yes\"], [\"Nityanand Rai\", \"BJP\", \"UJIARPUR\", \"Bihar\", \"Yes\"], [\"Chandan Singh\", \"LJP\", \"NAWADA\", \"Bihar\", \"Yes\"], [\"SUSHIL KUMAR SINGH\", \"BJP\", \"AURANGABAD\", \"Bihar\", \"Yes\"], [\"CHANDESHWAR PRASAD\", \"JD(U)\", \"JAHANABAD\", \"Bihar\", \"Yes\"], [\"Choudhary Mehboob Ali Kaiser\", \"LJP\", \"KHAGARIA\", \"Bihar\", \"Yes\"], [\"Dr. Mohammad Jawed\", \"INC\", \"KISHANGANJ\", \"Bihar\", \"Yes\"], [\"RAJIV RANJAN SINGH ALIAS LALAN SINGH\", \"JD(U)\", \"MUNGER\", \"Bihar\", \"Yes\"], [\"Ramprit Mandal\", \"JD(U)\", \"JHANJHARPUR\", \"Bihar\", \"Yes\"], [\"Giriraj Singh\", \"BJP\", \"BEGUSARAI\", \"Bihar\", \"Yes\"], [\"Rajiv Pratap Rudy\", \"BJP\", \"SARAN\", \"Bihar\", \"Yes\"], [\"R. K. Singh\", \"BJP\", \"ARRAH\", \"Bihar\", \"Yes\"], [\"PASHU PATI KUMAR PARAS\", \"LJP\", \"HAJIPUR (SC)\", \"Bihar\", \"Yes\"], [\"Sunil Kumar Pintu\", \"JD(U)\", \"SITAMARHI\", \"Bihar\", \"Yes\"], [\"ASHOK KUMAR YADAV\", \"BJP\", \"MADHUBANI\", \"Bihar\", \"Yes\"], [\"MAHABALI SINGH\", \"JD(U)\", \"KARAKAT\", \"Bihar\", \"Yes\"], [\"SANTOSH KUMAR\", \"JD(U)\", \"PURNIA\", \"Bihar\", \"Yes\"], [\"Ashwini Kumar Choubey\", \"BJP\", \"BUXAR\", \"Bihar\", \"Yes\"], [\"Dinesh Chandra Yadav\", \"JD(U)\", \"MADHEPURA\", \"Bihar\", \"Yes\"], [\"RADHA MOHAN SINGH\", \"BJP\", \"PURVI CHAMPARAN\", \"Bihar\", \"Yes\"], [\"DR. ALOK KUMAR SUMAN\", \"JD(U)\", \"GOPALGANJ (SC)\", \"Bihar\", \"Yes\"], [\"CHHEDI PASWAN\", \"BJP\", \"SASARAM (SC)\", \"Bihar\", \"Yes\"], [\"Kaushlendra Kumar\", \"JD(U)\", \"NALANDA\", \"Bihar\", \"Yes\"], [\"RAM KRIPAL YADAV\", \"BJP\", \"PATALIPUTRA\", \"Bihar\", \"Yes\"], [\"Dileshwar Kamait\", \"JD(U)\", \"SUPAUL\", \"Bihar\", \"Yes\"], [\"GIRIDHARI YADAV\", \"JD(U)\", \"BANKA\", \"Bihar\", \"Yes\"], [\"Kavita Singh\", \"JD(U)\", \"SIWAN\", \"Bihar\", \"Yes\"], [\"Gopal Jee Thakur\", \"BJP\", \"DARBHANGA\", \"Bihar\", \"Yes\"], [\"CHIRAG KUMAR PASWAN\", \"LJP\", \"JAMUI (SC)\", \"Bihar\", \"Yes\"], [\"BAIDYANATH PRASAD MAHTO\", \"JD(U)\", \"VALMIKI NAGAR\", \"Bihar\", \"Yes\"], [\"Ramchandra Paswan\", \"LJP\", \"SAMASTIPUR (SC)\", \"Bihar\", \"Yes\"], [\"DULAL CHANDRA GOSWAMI\", \"JD(U)\", \"KATIHAR\", \"Bihar\", \"Yes\"], [\"Vijay Kumar\", \"JD(U)\", \"GAYA (SC)\", \"Bihar\", \"Yes\"], [\"NARESH YADAV\", \"BSP\", \"AURANGABAD\", \"Bihar\", \"Yes\"], [\"Janardan Singh 'Sigriwal\\\"\", \"BJP\", \"MAHARAJGANJ\", \"Bihar\", \"Yes\"], [\"AJAY KUMAR MANDAL\", \"JD(U)\", \"BHAGALPUR\", \"Bihar\", \"Yes\"], [\"PRADEEP KUMAR SINGH\", \"BJP\", \"ARARIA\", \"Bihar\", \"Yes\"]], \"hoverlabel\": {\"namelength\": 0}, \"hovertemplate\": \"STATE=%{customdata[3]}<br>ASSETS=%{marker.size}<br>LIABILITIES=%{y}<br>NAME=%{customdata[0]}<br>PARTY=%{customdata[1]}<br>CONSTITUENCY=%{customdata[2]}<br>WINNER=%{customdata[4]}\", \"legendgroup\": \"STATE=Bihar\", \"marker\": {\"color\": \"#00cc96\", \"size\": [337284632, 328364940, 298867486, 235275591, 199404885, 187007570, 176720167, 167895109, 139271693, 109788313, 90973803, 88324866, 88119686, 83024577, 80740349, 79971720, 62834200, 60717031, 46699125, 43442051, 41036294, 40183612, 37420953, 33791375, 32739903, 32152250, 29251651, 29213467, 23441606, 19816050, 19325264, 19301808, 18466066, 17934888, 17375975, 13302734, 12766141, 12674177, 10451986, 6801126, 5010577], \"sizemode\": \"area\", \"sizeref\": 16504866.8925, \"symbol\": \"circle\"}, \"mode\": \"markers\", \"name\": \"STATE=Bihar\", \"showlegend\": true, \"type\": \"scatter\", \"x\": [337284632, 328364940, 298867486, 235275591, 199404885, 187007570, 176720167, 167895109, 139271693, 109788313, 90973803, 88324866, 88119686, 83024577, 80740349, 79971720, 62834200, 60717031, 46699125, 43442051, 41036294, 40183612, 37420953, 33791375, 32739903, 32152250, 29251651, 29213467, 23441606, 19816050, 19325264, 19301808, 18466066, 17934888, 17375975, 13302734, 12766141, 12674177, 10451986, 6801126, 5010577], \"xaxis\": \"x\", \"y\": [112089220, 0, 15714320, 0, 67370030, 357561, 4722200, 3746607, 0, 0, 5383958, 7534918, 1000000, 12236000, 0, 0, 6744375, 10277790, 7892847, 3000000, 2500000, 1350667, 700000, 1146627, 3576376, 2214842, 2712389, 1717310, 0, 405701, 412511, 1039660, 0, 2915945, 999057, 3130766, 3148932, 824000, 376000, 5364747, 1159200], \"yaxis\": \"y\"}, {\"customdata\": [[\"LALUBHAI BABUBHAI PATEL\", \"BJP\", \"DAMAN & DIU\", \"Daman & Diu\", \"Yes\"]], \"hoverlabel\": {\"namelength\": 0}, \"hovertemplate\": \"STATE=%{customdata[3]}<br>ASSETS=%{marker.size}<br>LIABILITIES=%{y}<br>NAME=%{customdata[0]}<br>PARTY=%{customdata[1]}<br>CONSTITUENCY=%{customdata[2]}<br>WINNER=%{customdata[4]}\", \"legendgroup\": \"STATE=Daman & Diu\", \"marker\": {\"color\": \"#ab63fa\", \"size\": [213993750], \"sizemode\": \"area\", \"sizeref\": 16504866.8925, \"symbol\": \"circle\"}, \"mode\": \"markers\", \"name\": \"STATE=Daman & Diu\", \"showlegend\": true, \"type\": \"scatter\", \"x\": [213993750], \"xaxis\": \"x\", \"y\": [9969514], \"yaxis\": \"y\"}, {\"customdata\": [[\"JYOTSNA CHARANDAS MAHANT\", \"INC\", \"KORBA\", \"Chhattisgarh\", \"Yes\"], [\"Sunil Kumar Soni\", \"BJP\", \"RAIPUR\", \"Chhattisgarh\", \"Yes\"], [\"VIJAY BAGHEL\", \"BJP\", \"DURG\", \"Chhattisgarh\", \"Yes\"], [\"MOHAN MANDAVI\", \"BJP\", \"KANKER\", \"Chhattisgarh\", \"Yes\"], [\"Renuka Singh Saruta\", \"BJP\", \"SARGUJA\", \"Chhattisgarh\", \"Yes\"], [\"SANTOSH PANDEY\", \"BJP\", \"RAJNANDGAON\", \"Chhattisgarh\", \"Yes\"], [\"GUHARAM AJGALLEY\", \"BJP\", \"JANJGIR-CHAMPA\", \"Chhattisgarh\", \"Yes\"], [\"CHUNNI LAL SAHU\", \"BJP\", \"MAHASAMUND\", \"Chhattisgarh\", \"Yes\"], [\"ARUN SAO\", \"BJP\", \"BILASPUR\", \"Chhattisgarh\", \"Yes\"], [\"DEEPAK BAIJ\", \"INC\", \"BASTAR\", \"Chhattisgarh\", \"Yes\"], [\"GOMATI SAI\", \"BJP\", \"RAIGARH\", \"Chhattisgarh\", \"Yes\"]], \"hoverlabel\": {\"namelength\": 0}, \"hovertemplate\": \"STATE=%{customdata[3]}<br>ASSETS=%{marker.size}<br>LIABILITIES=%{y}<br>NAME=%{customdata[0]}<br>PARTY=%{customdata[1]}<br>CONSTITUENCY=%{customdata[2]}<br>WINNER=%{customdata[4]}\", \"legendgroup\": \"STATE=Chhattisgarh\", \"marker\": {\"color\": \"#FFA15A\", \"size\": [150639697, 46068126, 34429027, 28675553, 27682493, 24861970, 18400837, 17591683, 13544588, 7721293, 7043539], \"sizemode\": \"area\", \"sizeref\": 16504866.8925, \"symbol\": \"circle\"}, \"mode\": \"markers\", \"name\": \"STATE=Chhattisgarh\", \"showlegend\": true, \"type\": \"scatter\", \"x\": [150639697, 46068126, 34429027, 28675553, 27682493, 24861970, 18400837, 17591683, 13544588, 7721293, 7043539], \"xaxis\": \"x\", \"y\": [0, 2482214, 8748686, 679000, 3251275, 1519820, 0, 1383014, 50000, 1801236, 0], \"yaxis\": \"y\"}, {\"customdata\": [[\"Tapir Gao\", \"BJP\", \"ARUNACHAL EAST\", \"Arunachal Pradesh\", \"Yes\"], [\"KIREN RIJIJU\", \"BJP\", \"ARUNACHAL WEST\", \"Arunachal Pradesh\", \"Yes\"]], \"hoverlabel\": {\"namelength\": 0}, \"hovertemplate\": \"STATE=%{customdata[3]}<br>ASSETS=%{marker.size}<br>LIABILITIES=%{y}<br>NAME=%{customdata[0]}<br>PARTY=%{customdata[1]}<br>CONSTITUENCY=%{customdata[2]}<br>WINNER=%{customdata[4]}\", \"legendgroup\": \"STATE=Arunachal Pradesh\", \"marker\": {\"color\": \"#19d3f3\", \"size\": [136628259, 15279000], \"sizemode\": \"area\", \"sizeref\": 16504866.8925, \"symbol\": \"circle\"}, \"mode\": \"markers\", \"name\": \"STATE=Arunachal Pradesh\", \"showlegend\": true, \"type\": \"scatter\", \"x\": [136628259, 15279000], \"xaxis\": \"x\", \"y\": [0, 0], \"yaxis\": \"y\"}, {\"customdata\": [[\"KULDEEP RAI SHARMA\", \"INC\", \"ANDAMAN & NICOBAR ISLANDS\", \"Andaman & Nicobar Islands\", \"Yes\"]], \"hoverlabel\": {\"namelength\": 0}, \"hovertemplate\": \"STATE=%{customdata[3]}<br>ASSETS=%{marker.size}<br>LIABILITIES=%{y}<br>NAME=%{customdata[0]}<br>PARTY=%{customdata[1]}<br>CONSTITUENCY=%{customdata[2]}<br>WINNER=%{customdata[4]}\", \"legendgroup\": \"STATE=Andaman & Nicobar Islands\", \"marker\": {\"color\": \"#FF6692\", \"size\": [132233012], \"sizemode\": \"area\", \"sizeref\": 16504866.8925, \"symbol\": \"circle\"}, \"mode\": \"markers\", \"name\": \"STATE=Andaman & Nicobar Islands\", \"showlegend\": true, \"type\": \"scatter\", \"x\": [132233012], \"xaxis\": \"x\", \"y\": [80450870], \"yaxis\": \"y\"}, {\"customdata\": [[\"C LALROSANGA\", \"MNF\", \"MIZORAM\", \"Mizoram\", \"Yes\"]], \"hoverlabel\": {\"namelength\": 0}, \"hovertemplate\": \"STATE=%{customdata[3]}<br>ASSETS=%{marker.size}<br>LIABILITIES=%{y}<br>NAME=%{customdata[0]}<br>PARTY=%{customdata[1]}<br>CONSTITUENCY=%{customdata[2]}<br>WINNER=%{customdata[4]}\", \"legendgroup\": \"STATE=Mizoram\", \"marker\": {\"color\": \"#B6E880\", \"size\": [131201374], \"sizemode\": \"area\", \"sizeref\": 16504866.8925, \"symbol\": \"circle\"}, \"mode\": \"markers\", \"name\": \"STATE=Mizoram\", \"showlegend\": true, \"type\": \"scatter\", \"x\": [131201374], \"xaxis\": \"x\", \"y\": [0], \"yaxis\": \"y\"}, {\"customdata\": [[\"Tokheho Yepthomi\", \"NDPP\", \"NAGALAND\", \"Nagaland\", \"Yes\"]], \"hoverlabel\": {\"namelength\": 0}, \"hovertemplate\": \"STATE=%{customdata[3]}<br>ASSETS=%{marker.size}<br>LIABILITIES=%{y}<br>NAME=%{customdata[0]}<br>PARTY=%{customdata[1]}<br>CONSTITUENCY=%{customdata[2]}<br>WINNER=%{customdata[4]}\", \"legendgroup\": \"STATE=Nagaland\", \"marker\": {\"color\": \"#FF97FF\", \"size\": [128117474], \"sizemode\": \"area\", \"sizeref\": 16504866.8925, \"symbol\": \"circle\"}, \"mode\": \"markers\", \"name\": \"STATE=Nagaland\", \"showlegend\": true, \"type\": \"scatter\", \"x\": [128117474], \"xaxis\": \"x\", \"y\": [18600000], \"yaxis\": \"y\"}, {\"customdata\": [[\"Ve. VAITHILINGAM\", \"INC\", \"PUDUCHERRY\", \"Puducherry\", \"Yes\"]], \"hoverlabel\": {\"namelength\": 0}, \"hovertemplate\": \"STATE=%{customdata[3]}<br>ASSETS=%{marker.size}<br>LIABILITIES=%{y}<br>NAME=%{customdata[0]}<br>PARTY=%{customdata[1]}<br>CONSTITUENCY=%{customdata[2]}<br>WINNER=%{customdata[4]}\", \"legendgroup\": \"STATE=Puducherry\", \"marker\": {\"color\": \"#FECB52\", \"size\": [108015548], \"sizemode\": \"area\", \"sizeref\": 16504866.8925, \"symbol\": \"circle\"}, \"mode\": \"markers\", \"name\": \"STATE=Puducherry\", \"showlegend\": true, \"type\": \"scatter\", \"x\": [108015548], \"xaxis\": \"x\", \"y\": [520989], \"yaxis\": \"y\"}, {\"customdata\": [[\"Kishan Kapoor\", \"BJP\", \"KANGRA\", \"Himachal Pradesh\", \"Yes\"], [\"ANURAG SINGH THAKUR\", \"BJP\", \"HAMIRPUR\", \"Himachal Pradesh\", \"Yes\"], [\"RAM SWAROOP SHARMA\", \"BJP\", \"MANDI\", \"Himachal Pradesh\", \"Yes\"], [\"SURESH KUMAR KASHYAP\", \"BJP\", \"SHIMLA\", \"Himachal Pradesh\", \"Yes\"]], \"hoverlabel\": {\"namelength\": 0}, \"hovertemplate\": \"STATE=%{customdata[3]}<br>ASSETS=%{marker.size}<br>LIABILITIES=%{y}<br>NAME=%{customdata[0]}<br>PARTY=%{customdata[1]}<br>CONSTITUENCY=%{customdata[2]}<br>WINNER=%{customdata[4]}\", \"legendgroup\": \"STATE=Himachal Pradesh\", \"marker\": {\"color\": \"#636efa\", \"size\": [85841247, 56770463, 15724337, 15705738], \"sizemode\": \"area\", \"sizeref\": 16504866.8925, \"symbol\": \"circle\"}, \"mode\": \"markers\", \"name\": \"STATE=Himachal Pradesh\", \"showlegend\": true, \"type\": \"scatter\", \"x\": [85841247, 56770463, 15724337, 15705738], \"xaxis\": \"x\", \"y\": [3605161, 1085145, 783963, 7873806], \"yaxis\": \"y\"}, {\"customdata\": [[\"COSME FRANCISCO CAITANO SARDINHA\", \"INC\", \"SOUTH GOA\", \"Goa\", \"Yes\"], [\"SHRIPAD YESSO NAIK\", \"BJP\", \"NORTH GOA\", \"Goa\", \"Yes\"]], \"hoverlabel\": {\"namelength\": 0}, \"hovertemplate\": \"STATE=%{customdata[3]}<br>ASSETS=%{marker.size}<br>LIABILITIES=%{y}<br>NAME=%{customdata[0]}<br>PARTY=%{customdata[1]}<br>CONSTITUENCY=%{customdata[2]}<br>WINNER=%{customdata[4]}\", \"legendgroup\": \"STATE=Goa\", \"marker\": {\"color\": \"#EF553B\", \"size\": [79402232, 65795623], \"sizemode\": \"area\", \"sizeref\": 16504866.8925, \"symbol\": \"circle\"}, \"mode\": \"markers\", \"name\": \"STATE=Goa\", \"showlegend\": true, \"type\": \"scatter\", \"x\": [79402232, 65795623], \"xaxis\": \"x\", \"y\": [0, 1491387], \"yaxis\": \"y\"}, {\"customdata\": [[\"DR RAJKUMAR RANJAN SINGH\", \"BJP\", \"INNER MANIPUR\", \"Manipur\", \"Yes\"], [\"Lorho S. Pfoze\", \"NPF\", \"OUTER MANIPUR\", \"Manipur\", \"Yes\"]], \"hoverlabel\": {\"namelength\": 0}, \"hovertemplate\": \"STATE=%{customdata[3]}<br>ASSETS=%{marker.size}<br>LIABILITIES=%{y}<br>NAME=%{customdata[0]}<br>PARTY=%{customdata[1]}<br>CONSTITUENCY=%{customdata[2]}<br>WINNER=%{customdata[4]}\", \"legendgroup\": \"STATE=Manipur\", \"marker\": {\"color\": \"#00cc96\", \"size\": [19616174, 13709352], \"sizemode\": \"area\", \"sizeref\": 16504866.8925, \"symbol\": \"circle\"}, \"mode\": \"markers\", \"name\": \"STATE=Manipur\", \"showlegend\": true, \"type\": \"scatter\", \"x\": [19616174, 13709352], \"xaxis\": \"x\", \"y\": [0, 0], \"yaxis\": \"y\"}, {\"customdata\": [[\"Rebati Tripura\", \"BJP\", \"TRIPURA EAST\", \"Tripura\", \"Yes\"], [\"Pratima Bhoumik\", \"BJP\", \"TRIPURA WEST\", \"Tripura\", \"Yes\"]], \"hoverlabel\": {\"namelength\": 0}, \"hovertemplate\": \"STATE=%{customdata[3]}<br>ASSETS=%{marker.size}<br>LIABILITIES=%{y}<br>NAME=%{customdata[0]}<br>PARTY=%{customdata[1]}<br>CONSTITUENCY=%{customdata[2]}<br>WINNER=%{customdata[4]}\", \"legendgroup\": \"STATE=Tripura\", \"marker\": {\"color\": \"#ab63fa\", \"size\": [1948315, 642398], \"sizemode\": \"area\", \"sizeref\": 16504866.8925, \"symbol\": \"circle\"}, \"mode\": \"markers\", \"name\": \"STATE=Tripura\", \"showlegend\": true, \"type\": \"scatter\", \"x\": [1948315, 642398], \"xaxis\": \"x\", \"y\": [0, 0], \"yaxis\": \"y\"}, {\"customdata\": [[\"MOHAMMED FAIZAL PP\", \"NCP\", \"LAKSHADWEEP\", \"Lakshadweep\", \"Yes\"]], \"hoverlabel\": {\"namelength\": 0}, \"hovertemplate\": \"STATE=%{customdata[3]}<br>ASSETS=%{marker.size}<br>LIABILITIES=%{y}<br>NAME=%{customdata[0]}<br>PARTY=%{customdata[1]}<br>CONSTITUENCY=%{customdata[2]}<br>WINNER=%{customdata[4]}\", \"legendgroup\": \"STATE=Lakshadweep\", \"marker\": {\"color\": \"#FFA15A\", \"size\": [938641], \"sizemode\": \"area\", \"sizeref\": 16504866.8925, \"symbol\": \"circle\"}, \"mode\": \"markers\", \"name\": \"STATE=Lakshadweep\", \"showlegend\": true, \"type\": \"scatter\", \"x\": [938641], \"xaxis\": \"x\", \"y\": [0], \"yaxis\": \"y\"}, {\"customdata\": [[\"INDRA HANG SUBBA\", \"SKM\", \"SIKKIM\", \"Sikkim\", \"Yes\"]], \"hoverlabel\": {\"namelength\": 0}, \"hovertemplate\": \"STATE=%{customdata[3]}<br>ASSETS=%{marker.size}<br>LIABILITIES=%{y}<br>NAME=%{customdata[0]}<br>PARTY=%{customdata[1]}<br>CONSTITUENCY=%{customdata[2]}<br>WINNER=%{customdata[4]}\", \"legendgroup\": \"STATE=Sikkim\", \"marker\": {\"color\": \"#19d3f3\", \"size\": [478817], \"sizemode\": \"area\", \"sizeref\": 16504866.8925, \"symbol\": \"circle\"}, \"mode\": \"markers\", \"name\": \"STATE=Sikkim\", \"showlegend\": true, \"type\": \"scatter\", \"x\": [478817], \"xaxis\": \"x\", \"y\": [0], \"yaxis\": \"y\"}],\n",
              "                        {\"legend\": {\"itemsizing\": \"constant\", \"tracegroupgap\": 0}, \"template\": {\"data\": {\"bar\": [{\"error_x\": {\"color\": \"#f2f5fa\"}, \"error_y\": {\"color\": \"#f2f5fa\"}, \"marker\": {\"line\": {\"color\": \"rgb(17,17,17)\", \"width\": 0.5}}, \"type\": \"bar\"}], \"barpolar\": [{\"marker\": {\"line\": {\"color\": \"rgb(17,17,17)\", \"width\": 0.5}}, \"type\": \"barpolar\"}], \"carpet\": [{\"aaxis\": {\"endlinecolor\": \"#A2B1C6\", \"gridcolor\": \"#506784\", \"linecolor\": \"#506784\", \"minorgridcolor\": \"#506784\", \"startlinecolor\": \"#A2B1C6\"}, \"baxis\": {\"endlinecolor\": \"#A2B1C6\", \"gridcolor\": \"#506784\", \"linecolor\": \"#506784\", \"minorgridcolor\": \"#506784\", \"startlinecolor\": \"#A2B1C6\"}, \"type\": \"carpet\"}], \"choropleth\": [{\"colorbar\": {\"outlinewidth\": 0, \"ticks\": \"\"}, \"type\": \"choropleth\"}], \"contour\": [{\"colorbar\": {\"outlinewidth\": 0, \"ticks\": \"\"}, \"colorscale\": [[0.0, \"#0d0887\"], [0.1111111111111111, \"#46039f\"], [0.2222222222222222, \"#7201a8\"], [0.3333333333333333, \"#9c179e\"], [0.4444444444444444, \"#bd3786\"], [0.5555555555555556, \"#d8576b\"], [0.6666666666666666, \"#ed7953\"], [0.7777777777777778, \"#fb9f3a\"], [0.8888888888888888, \"#fdca26\"], [1.0, \"#f0f921\"]], \"type\": \"contour\"}], \"contourcarpet\": [{\"colorbar\": {\"outlinewidth\": 0, \"ticks\": \"\"}, \"type\": \"contourcarpet\"}], \"heatmap\": [{\"colorbar\": {\"outlinewidth\": 0, \"ticks\": \"\"}, \"colorscale\": [[0.0, \"#0d0887\"], [0.1111111111111111, \"#46039f\"], [0.2222222222222222, \"#7201a8\"], [0.3333333333333333, \"#9c179e\"], [0.4444444444444444, \"#bd3786\"], [0.5555555555555556, \"#d8576b\"], [0.6666666666666666, \"#ed7953\"], [0.7777777777777778, \"#fb9f3a\"], [0.8888888888888888, \"#fdca26\"], [1.0, \"#f0f921\"]], \"type\": \"heatmap\"}], \"heatmapgl\": [{\"colorbar\": {\"outlinewidth\": 0, \"ticks\": \"\"}, \"colorscale\": [[0.0, \"#0d0887\"], [0.1111111111111111, \"#46039f\"], [0.2222222222222222, \"#7201a8\"], [0.3333333333333333, \"#9c179e\"], [0.4444444444444444, \"#bd3786\"], [0.5555555555555556, \"#d8576b\"], [0.6666666666666666, \"#ed7953\"], [0.7777777777777778, \"#fb9f3a\"], [0.8888888888888888, \"#fdca26\"], [1.0, \"#f0f921\"]], \"type\": \"heatmapgl\"}], \"histogram\": [{\"marker\": {\"colorbar\": {\"outlinewidth\": 0, \"ticks\": \"\"}}, \"type\": \"histogram\"}], \"histogram2d\": [{\"colorbar\": {\"outlinewidth\": 0, \"ticks\": \"\"}, \"colorscale\": [[0.0, \"#0d0887\"], [0.1111111111111111, \"#46039f\"], [0.2222222222222222, \"#7201a8\"], [0.3333333333333333, \"#9c179e\"], [0.4444444444444444, \"#bd3786\"], [0.5555555555555556, \"#d8576b\"], [0.6666666666666666, \"#ed7953\"], [0.7777777777777778, \"#fb9f3a\"], [0.8888888888888888, \"#fdca26\"], [1.0, \"#f0f921\"]], \"type\": \"histogram2d\"}], \"histogram2dcontour\": [{\"colorbar\": {\"outlinewidth\": 0, \"ticks\": \"\"}, \"colorscale\": [[0.0, \"#0d0887\"], [0.1111111111111111, \"#46039f\"], [0.2222222222222222, \"#7201a8\"], [0.3333333333333333, \"#9c179e\"], [0.4444444444444444, \"#bd3786\"], [0.5555555555555556, \"#d8576b\"], [0.6666666666666666, \"#ed7953\"], [0.7777777777777778, \"#fb9f3a\"], [0.8888888888888888, \"#fdca26\"], [1.0, \"#f0f921\"]], \"type\": \"histogram2dcontour\"}], \"mesh3d\": [{\"colorbar\": {\"outlinewidth\": 0, \"ticks\": \"\"}, \"type\": \"mesh3d\"}], \"parcoords\": [{\"line\": {\"colorbar\": {\"outlinewidth\": 0, \"ticks\": \"\"}}, \"type\": \"parcoords\"}], \"pie\": [{\"automargin\": true, \"type\": \"pie\"}], \"scatter\": [{\"marker\": {\"line\": {\"color\": \"#283442\"}}, \"type\": \"scatter\"}], \"scatter3d\": [{\"line\": {\"colorbar\": {\"outlinewidth\": 0, \"ticks\": \"\"}}, \"marker\": {\"colorbar\": {\"outlinewidth\": 0, \"ticks\": \"\"}}, \"type\": \"scatter3d\"}], \"scattercarpet\": [{\"marker\": {\"colorbar\": {\"outlinewidth\": 0, \"ticks\": \"\"}}, \"type\": \"scattercarpet\"}], \"scattergeo\": [{\"marker\": {\"colorbar\": {\"outlinewidth\": 0, \"ticks\": \"\"}}, \"type\": \"scattergeo\"}], \"scattergl\": [{\"marker\": {\"line\": {\"color\": \"#283442\"}}, \"type\": \"scattergl\"}], \"scattermapbox\": [{\"marker\": {\"colorbar\": {\"outlinewidth\": 0, \"ticks\": \"\"}}, \"type\": \"scattermapbox\"}], \"scatterpolar\": [{\"marker\": {\"colorbar\": {\"outlinewidth\": 0, \"ticks\": \"\"}}, \"type\": \"scatterpolar\"}], \"scatterpolargl\": [{\"marker\": {\"colorbar\": {\"outlinewidth\": 0, \"ticks\": \"\"}}, \"type\": \"scatterpolargl\"}], \"scatterternary\": [{\"marker\": {\"colorbar\": {\"outlinewidth\": 0, \"ticks\": \"\"}}, \"type\": \"scatterternary\"}], \"surface\": [{\"colorbar\": {\"outlinewidth\": 0, \"ticks\": \"\"}, \"colorscale\": [[0.0, \"#0d0887\"], [0.1111111111111111, \"#46039f\"], [0.2222222222222222, \"#7201a8\"], [0.3333333333333333, \"#9c179e\"], [0.4444444444444444, \"#bd3786\"], [0.5555555555555556, \"#d8576b\"], [0.6666666666666666, \"#ed7953\"], [0.7777777777777778, \"#fb9f3a\"], [0.8888888888888888, \"#fdca26\"], [1.0, \"#f0f921\"]], \"type\": \"surface\"}], \"table\": [{\"cells\": {\"fill\": {\"color\": \"#506784\"}, \"line\": {\"color\": \"rgb(17,17,17)\"}}, \"header\": {\"fill\": {\"color\": \"#2a3f5f\"}, \"line\": {\"color\": \"rgb(17,17,17)\"}}, \"type\": \"table\"}]}, \"layout\": {\"annotationdefaults\": {\"arrowcolor\": \"#f2f5fa\", \"arrowhead\": 0, \"arrowwidth\": 1}, \"coloraxis\": {\"colorbar\": {\"outlinewidth\": 0, \"ticks\": \"\"}}, \"colorscale\": {\"diverging\": [[0, \"#8e0152\"], [0.1, \"#c51b7d\"], [0.2, \"#de77ae\"], [0.3, \"#f1b6da\"], [0.4, \"#fde0ef\"], [0.5, \"#f7f7f7\"], [0.6, \"#e6f5d0\"], [0.7, \"#b8e186\"], [0.8, \"#7fbc41\"], [0.9, \"#4d9221\"], [1, \"#276419\"]], \"sequential\": [[0.0, \"#0d0887\"], [0.1111111111111111, \"#46039f\"], [0.2222222222222222, \"#7201a8\"], [0.3333333333333333, \"#9c179e\"], [0.4444444444444444, \"#bd3786\"], [0.5555555555555556, \"#d8576b\"], [0.6666666666666666, \"#ed7953\"], [0.7777777777777778, \"#fb9f3a\"], [0.8888888888888888, \"#fdca26\"], [1.0, \"#f0f921\"]], \"sequentialminus\": [[0.0, \"#0d0887\"], [0.1111111111111111, \"#46039f\"], [0.2222222222222222, \"#7201a8\"], [0.3333333333333333, \"#9c179e\"], [0.4444444444444444, \"#bd3786\"], [0.5555555555555556, \"#d8576b\"], [0.6666666666666666, \"#ed7953\"], [0.7777777777777778, \"#fb9f3a\"], [0.8888888888888888, \"#fdca26\"], [1.0, \"#f0f921\"]]}, \"colorway\": [\"#636efa\", \"#EF553B\", \"#00cc96\", \"#ab63fa\", \"#FFA15A\", \"#19d3f3\", \"#FF6692\", \"#B6E880\", \"#FF97FF\", \"#FECB52\"], \"font\": {\"color\": \"#f2f5fa\"}, \"geo\": {\"bgcolor\": \"rgb(17,17,17)\", \"lakecolor\": \"rgb(17,17,17)\", \"landcolor\": \"rgb(17,17,17)\", \"showlakes\": true, \"showland\": true, \"subunitcolor\": \"#506784\"}, \"hoverlabel\": {\"align\": \"left\"}, \"hovermode\": \"closest\", \"mapbox\": {\"style\": \"dark\"}, \"paper_bgcolor\": \"rgb(17,17,17)\", \"plot_bgcolor\": \"rgb(17,17,17)\", \"polar\": {\"angularaxis\": {\"gridcolor\": \"#506784\", \"linecolor\": \"#506784\", \"ticks\": \"\"}, \"bgcolor\": \"rgb(17,17,17)\", \"radialaxis\": {\"gridcolor\": \"#506784\", \"linecolor\": \"#506784\", \"ticks\": \"\"}}, \"scene\": {\"xaxis\": {\"backgroundcolor\": \"rgb(17,17,17)\", \"gridcolor\": \"#506784\", \"gridwidth\": 2, \"linecolor\": \"#506784\", \"showbackground\": true, \"ticks\": \"\", \"zerolinecolor\": \"#C8D4E3\"}, \"yaxis\": {\"backgroundcolor\": \"rgb(17,17,17)\", \"gridcolor\": \"#506784\", \"gridwidth\": 2, \"linecolor\": \"#506784\", \"showbackground\": true, \"ticks\": \"\", \"zerolinecolor\": \"#C8D4E3\"}, \"zaxis\": {\"backgroundcolor\": \"rgb(17,17,17)\", \"gridcolor\": \"#506784\", \"gridwidth\": 2, \"linecolor\": \"#506784\", \"showbackground\": true, \"ticks\": \"\", \"zerolinecolor\": \"#C8D4E3\"}}, \"shapedefaults\": {\"line\": {\"color\": \"#f2f5fa\"}}, \"sliderdefaults\": {\"bgcolor\": \"#C8D4E3\", \"bordercolor\": \"rgb(17,17,17)\", \"borderwidth\": 1, \"tickwidth\": 0}, \"ternary\": {\"aaxis\": {\"gridcolor\": \"#506784\", \"linecolor\": \"#506784\", \"ticks\": \"\"}, \"baxis\": {\"gridcolor\": \"#506784\", \"linecolor\": \"#506784\", \"ticks\": \"\"}, \"bgcolor\": \"rgb(17,17,17)\", \"caxis\": {\"gridcolor\": \"#506784\", \"linecolor\": \"#506784\", \"ticks\": \"\"}}, \"title\": {\"x\": 0.05}, \"updatemenudefaults\": {\"bgcolor\": \"#506784\", \"borderwidth\": 0}, \"xaxis\": {\"automargin\": true, \"gridcolor\": \"#283442\", \"linecolor\": \"#506784\", \"ticks\": \"\", \"title\": {\"standoff\": 15}, \"zerolinecolor\": \"#283442\", \"zerolinewidth\": 2}, \"yaxis\": {\"automargin\": true, \"gridcolor\": \"#283442\", \"linecolor\": \"#506784\", \"ticks\": \"\", \"title\": {\"standoff\": 15}, \"zerolinecolor\": \"#283442\", \"zerolinewidth\": 2}}}, \"title\": {\"text\": \"Assets vs Liabilities for the Winning Politicians\"}, \"xaxis\": {\"anchor\": \"y\", \"domain\": [0.0, 1.0], \"title\": {\"text\": \"ASSETS\"}}, \"yaxis\": {\"anchor\": \"x\", \"domain\": [0.0, 1.0], \"title\": {\"text\": \"LIABILITIES\"}}},\n",
              "                        {\"responsive\": true}\n",
              "                    ).then(function(){\n",
              "                            \n",
              "var gd = document.getElementById('83ea1d9a-34e0-4cab-8693-cd1f6c7b26db');\n",
              "var x = new MutationObserver(function (mutations, observer) {{\n",
              "        var display = window.getComputedStyle(gd).display;\n",
              "        if (!display || display === 'none') {{\n",
              "            console.log([gd, 'removed!']);\n",
              "            Plotly.purge(gd);\n",
              "            observer.disconnect();\n",
              "        }}\n",
              "}});\n",
              "\n",
              "// Listen for the removal of the full notebook cells\n",
              "var notebookContainer = gd.closest('#notebook-container');\n",
              "if (notebookContainer) {{\n",
              "    x.observe(notebookContainer, {childList: true});\n",
              "}}\n",
              "\n",
              "// Listen for the clearing of the current output cell\n",
              "var outputEl = gd.closest('.output');\n",
              "if (outputEl) {{\n",
              "    x.observe(outputEl, {childList: true});\n",
              "}}\n",
              "\n",
              "                        })\n",
              "                };\n",
              "                \n",
              "            </script>\n",
              "        </div>\n",
              "</body>\n",
              "</html>"
            ]
          },
          "metadata": {
            "tags": []
          }
        }
      ]
    }
  ]
}